{
 "cells": [
  {
   "cell_type": "code",
   "execution_count": 9,
   "metadata": {},
   "outputs": [],
   "source": [
    "from tqdm import tqdm\n",
    "from common.utils import Logger\n",
    "import numpy as np\n",
    "import operator as op\n",
    "from functools import reduce\n",
    "import pickle\n",
    "import matplotlib.pyplot as plt\n",
    "import torch\n",
    "\n",
    "\n",
    "from varname import nameof\n"
   ]
  },
  {
   "cell_type": "code",
   "execution_count": 10,
   "metadata": {},
   "outputs": [],
   "source": [
    "# figure = plt.figure(figsize = (5, 5))\n",
    "\n",
    "# radius = 50\n",
    "# n_ring = 3\n",
    "# n_centroid = 8\n",
    "# total_centroid = n_centroid * n_ring +1\n",
    "# centroids = np.array([[0,0]])\n",
    "# for ring in range(n_ring):\n",
    "#     radius_ring = radius * 2 ** ring\n",
    "#     angle_ring = np.array([-np.pi*(n_centroid - 1)/n_centroid + i *np.pi/(n_centroid//2) for i in range(n_centroid)]) + (np.pi/n_centroid) * (ring %2)\n",
    "    \n",
    "#     position_cos_ring = np.atleast_2d(radius_ring * np.cos(angle_ring)) #n\n",
    "#     position_sin_ring = np.atleast_2d(radius_ring * np.sin(angle_ring)) #n\n",
    "#     position_ring = np.concatenate((position_cos_ring, position_sin_ring), axis = 0).T # n,2\n",
    "    \n",
    "#     centroids = np.concatenate((centroids, position_ring), axis = 0) # 33, 2\n",
    "    \n",
    "# plt.scatter(centroids[:, 0], centroids[:, 1])\n",
    "# max_range_predict = radius * 2**(n_ring-1) + radius * 2**(n_ring-2)/2\n",
    "# print(max_range_predict)"
   ]
  },
  {
   "cell_type": "code",
   "execution_count": 11,
   "metadata": {},
   "outputs": [],
   "source": [
    "# # design edge of voroni\n",
    "\n",
    "# def getDistance(a, b):\n",
    "#     return torch.cdist(torch.tensor(a), torch.tensor(b))\n",
    "\n",
    "# centroid_distance = getDistance(centroids, centroids).numpy()\n",
    "# centroid_edge_matrix = np.zeros(centroid_distance.shape) + np.eye(total_centroid)\n",
    "# for ring in range(n_ring):\n",
    "#     index_min = ring *n_centroid + 1\n",
    "#     index_max = (ring + 1) * n_centroid\n",
    "    \n",
    "#     layer_distance = getDistance(centroids[max((ring-1) *n_centroid + 1, 0 )][np.newaxis, :], centroids[index_min][np.newaxis, :]).numpy()[0][0]\n",
    "#     perimeter_distance = getDistance(centroids[index_min][np.newaxis, :], centroids[index_min+1][np.newaxis, :]).numpy()[0][0]\n",
    "    \n",
    "#     # print(layer_distance, perimeter_distance)\n",
    "#     # print(np.sum(np.abs(centroid_ring_distance - layer_distance) < 1e-10))\n",
    "#     # print(np.sum(np.abs(centroid_ring_distance - perimeter_distance) < 1e-10))\n",
    "    \n",
    "#     centroid_ring_distance = centroid_distance[index_min:index_max+1]\n",
    "    \n",
    "#     centroid_edge_matrix[index_min:index_max+1][np.abs(centroid_ring_distance - layer_distance) < 1e-10] = 1\n",
    "#     centroid_edge_matrix[index_min:index_max+1][np.abs(centroid_ring_distance - perimeter_distance) < 1e-10] = 1\n",
    "    \n",
    "\n",
    "# rows, cols = np.where(centroid_edge_matrix == 1)\n",
    "# edges = [edge for edge in zip(rows.tolist(), cols.tolist())]\n",
    "\n",
    "# # draw graph\n",
    "# graph = nx.Graph()\n",
    "\n",
    "# for node in range(total_centroid):\n",
    "#     graph.add_node(node)\n",
    "    \n",
    "# graph.add_edges_from(edges)\n",
    "# nx.draw(graph, [(x,y) for x,y in centroids], node_size = 50)"
   ]
  },
  {
   "cell_type": "code",
   "execution_count": 12,
   "metadata": {},
   "outputs": [],
   "source": [
    "# centroid_distance = getDistance(centroids, centroids).numpy()\n",
    "# centroid_edge_matrix = np.zeros(centroid_distance.shape) + np.eye(total_centroid)\n",
    "    \n",
    "# layer_distance = getDistance(centroids[0][np.newaxis, :], centroids[6][np.newaxis, :]).numpy()[0][0]\n",
    "# perimeter_distance = getDistance(centroids[0][np.newaxis, :], centroids[1][np.newaxis, :]).numpy()[0][0]\n",
    "\n",
    "    \n",
    "# centroid_edge_matrix[np.abs(centroid_distance - layer_distance) < 1e-10] = 1\n",
    "# centroid_edge_matrix[np.abs(centroid_distance - perimeter_distance) < 1e-10] = 1\n",
    "    \n",
    "\n",
    "# rows, cols = np.where(centroid_edge_matrix == 1)\n",
    "# edges = [edge for edge in zip(rows.tolist(), cols.tolist())]\n",
    "\n",
    "# # draw graph\n",
    "# graph = nx.Graph()\n",
    "\n",
    "# for node in range(total_centroid):\n",
    "#     graph.add_node(node)\n",
    "    \n",
    "# graph.add_edges_from(edges)\n",
    "# nx.draw(graph, [(x,y) for x,y in centroids], node_size = 50)"
   ]
  },
  {
   "cell_type": "code",
   "execution_count": 13,
   "metadata": {},
   "outputs": [],
   "source": [
    "n_data_file = 13#7\n",
    "file_type = 'stochastic' #'cyclone'\n",
    "\n",
    "# map_x, map_y = 20, 20\n",
    "# # predict_boundary = np.array([[-15, 15], [-15, 15]])\n",
    "# predict_boundary = np.array([[-200, 200], [-200, 200]])\n",
    "\n",
    "# log_path = \"../output/data/\"+file_type+\"/old_data/data_{}.txt\"\n",
    "log_path = \"../output/data/\"+file_type+\"/data_{}.txt\"\n",
    "\n",
    "#single data\n",
    "single_list = [\"boundary\", \"concentration\", \"position\", \"water_flow_force\"]\n",
    "time_series_list = [\"detect_total_concentration\", \"detect_water_flow_force\", \"detect_avg_concentration\", \"detect_source\", \"action\", \"agent_position\"]\n",
    "\n",
    "def getSingleData(logger, variable):\n",
    "    data = np.array(logger.log[variable])[:, 0]\n",
    "    if len(data.shape) == 1:\n",
    "        return np.atleast_2d(data).T\n",
    "    else: return data\n",
    "\n",
    "def getTimeSeriesData(logger, variable):\n",
    "    return np.atleast_3d(logger.log[variable])\n",
    "\n",
    "logger = Logger()\n",
    "for i_data_file in range(n_data_file):\n",
    "    logger.loadLog(log_path.format(i_data_file))"
   ]
  },
  {
   "cell_type": "code",
   "execution_count": 14,
   "metadata": {},
   "outputs": [],
   "source": [
    "# process input data\n",
    "\n",
    "input_variables = [\"detect_total_concentration\", \"detect_water_flow_force\"]\n",
    "\n",
    "def getData(getDataFunction, variables):\n",
    "    logger = Logger()\n",
    "    for i_data_file in range(n_data_file):\n",
    "        # print(i_data_file)\n",
    "        logger.loadLog(log_path.format(i_data_file))\n",
    "        for (i_variable, variable) in enumerate(variables):\n",
    "            data = getDataFunction(logger, variable)\n",
    "            # print(data.shape)\n",
    "            if i_variable == 0:\n",
    "                input_data = data\n",
    "            else:\n",
    "                \n",
    "                input_data =np.concatenate((input_data,data), axis = -1)\n",
    "                \n",
    "        if i_data_file == 0:\n",
    "            output = input_data\n",
    "        else: output = np.concatenate((output, input_data), axis = 0)\n",
    "    return output\n",
    "    \n",
    "    \n",
    "X_input = getData(getTimeSeriesData, input_variables)"
   ]
  },
  {
   "cell_type": "code",
   "execution_count": 15,
   "metadata": {},
   "outputs": [],
   "source": [
    "# process heat map data\n",
    "source_position = getData(getSingleData, ['position'])\n",
    "source_concentration = getData(getSingleData, ['concentration'])\n",
    "water_flow_force = getData(getSingleData, ['water_flow_force'])\n",
    "source_detect = getData(getTimeSeriesData, ['detect_source']).squeeze()\n",
    "agent_action = getData(getTimeSeriesData, ['action'])\n",
    "agent_position = getData(getTimeSeriesData, ['agent_position']) #bsize, time_len, 2"
   ]
  },
  {
   "cell_type": "code",
   "execution_count": 16,
   "metadata": {},
   "outputs": [
    {
     "name": "stdout",
     "output_type": "stream",
     "text": [
      "0.7831363636363636\n"
     ]
    },
    {
     "data": {
      "text/plain": [
       "0.008333333333333333"
      ]
     },
     "execution_count": 16,
     "metadata": {},
     "output_type": "execute_result"
    }
   ],
   "source": [
    "source_detect_mask = source_detect.max(axis= 1).astype(np.bool_)\n",
    "print(np.sum(source_detect_mask)/len(source_position))\n",
    "np.sum(X_input[...,0]>0) / np.product(source_detect.shape)"
   ]
  },
  {
   "cell_type": "code",
   "execution_count": 19,
   "metadata": {},
   "outputs": [
    {
     "data": {
      "text/plain": [
       "22000"
      ]
     },
     "execution_count": 19,
     "metadata": {},
     "output_type": "execute_result"
    }
   ],
   "source": [
    "np.sum(source_concentration>0)"
   ]
  },
  {
   "cell_type": "code",
   "execution_count": 20,
   "metadata": {},
   "outputs": [
    {
     "data": {
      "text/plain": [
       "2640000"
      ]
     },
     "execution_count": 20,
     "metadata": {},
     "output_type": "execute_result"
    }
   ],
   "source": [
    "np.product(source_detect.shape)"
   ]
  },
  {
   "cell_type": "code",
   "execution_count": 17,
   "metadata": {},
   "outputs": [
    {
     "data": {
      "text/plain": [
       "0.11406401515151515"
      ]
     },
     "execution_count": 17,
     "metadata": {},
     "output_type": "execute_result"
    }
   ],
   "source": [
    "np.sum(X_input[...,0]>0)/np.product(source_detect.shape)"
   ]
  },
  {
   "cell_type": "code",
   "execution_count": 9,
   "metadata": {},
   "outputs": [
    {
     "data": {
      "image/png": "[encoded data removed]",
      "text/plain": [
       "<Figure size 432x288 with 1 Axes>"
      ]
     },
     "metadata": {
      "needs_background": "light"
     },
     "output_type": "display_data"
    }
   ],
   "source": [
    "map_x = 5\n",
    "\n",
    "predict_boundary = np.array([[-200, 200], [-200, 200]])\n",
    "radius_ring = (predict_boundary[0,1] - predict_boundary[0,0])/map_x /2\n",
    "\n",
    "\n",
    "centroids_x = np.linspace(predict_boundary[0][0] + radius_ring, predict_boundary[0][1] - radius_ring, map_x)\n",
    "centroids_y = np.linspace(predict_boundary[1][0] + radius_ring, predict_boundary[1][1] - radius_ring, map_x)\n",
    "\n",
    "X, Y = np.meshgrid(centroids_x,centroids_y)\n",
    "centroids = np.concatenate((X.reshape(-1, 1), Y.reshape(-1, 1)), axis = -1)\n",
    "plt.scatter(centroids[:, 0], centroids[:, 1])\n",
    "\n",
    "\n",
    "max_range_predict = np.max(predict_boundary) \n",
    "total_centroid = map_x**2"
   ]
  },
  {
   "cell_type": "code",
   "execution_count": 10,
   "metadata": {},
   "outputs": [],
   "source": [
    "source_pos = source_position[:, np.newaxis, :] - agent_position\n",
    "\n",
    "distance_map = torch.cdist(torch.tensor(source_pos, dtype=float), torch.tensor(centroids, dtype=float)).numpy() # bsize, time_len, n_centroids\n",
    "source_distance = torch.cdist(torch.tensor(source_pos, dtype=float), torch.tensor([[0,0]], dtype=float)).squeeze(-1).numpy() # bsize, time_len\n",
    "source_inside = source_distance<=max_range_predict #bsize, time_len\n",
    "source_region = np.argmin(distance_map, axis = -1) # bsize, time_len\n",
    "\n",
    "source_region_centroid = centroids[source_region]"
   ]
  },
  {
   "cell_type": "code",
   "execution_count": 11,
   "metadata": {},
   "outputs": [
    {
     "name": "stderr",
     "output_type": "stream",
     "text": [
      "<ipython-input-11-7a103eec9376>:3: RuntimeWarning: invalid value encountered in true_divide\n",
      "  cos_between = np.sum(source_pos * source_region_centroid, axis = -1)/(np.linalg.norm(source_pos, axis = -1) * np.linalg.norm(source_region_centroid, axis = -1))\n"
     ]
    }
   ],
   "source": [
    "# error angle\n",
    "\n",
    "cos_between = np.sum(source_pos * source_region_centroid, axis = -1)/(np.linalg.norm(source_pos, axis = -1) * np.linalg.norm(source_region_centroid, axis = -1))\n",
    "# angle_between = np.ones(cos_between.shape) * -1\n",
    "# angle_between[1-np.isnan(cos_between)] = np.arccos(cos_between[1-np.isnan(cos_between)])\n",
    "\n",
    "error_angle = np.arccos(cos_between)\n",
    "error_angle[np.isnan(error_angle) ]= -1 #bsize, time_len"
   ]
  },
  {
   "cell_type": "code",
   "execution_count": 12,
   "metadata": {},
   "outputs": [
    {
     "data": {
      "text/plain": [
       "torch.Size([12000, 120])"
      ]
     },
     "execution_count": 12,
     "metadata": {},
     "output_type": "execute_result"
    }
   ],
   "source": [
    "# error distance\n",
    "error_distance = torch.nn.PairwiseDistance(p =2)(torch.tensor(source_pos, dtype = float).reshape(-1, 2), torch.tensor(source_region_centroid, dtype = float).reshape(-1,2)).reshape(source_pos.shape[:-1])\n",
    "error_distance.shape #bsize, time_len"
   ]
  },
  {
   "cell_type": "code",
   "execution_count": 13,
   "metadata": {},
   "outputs": [],
   "source": [
    "def applyMaskGetFinal(variables, mask):\n",
    "    name_list =[]\n",
    "    for variable in variables:\n",
    "        variable_final = variable +\"_final\"\n",
    "        \n",
    "        globals()[variable_final] = globals()[variable][mask]\n",
    "        name_list.append(variable_final)\n",
    "\n",
    "    return name_list\n"
   ]
  },
  {
   "cell_type": "code",
   "execution_count": 14,
   "metadata": {},
   "outputs": [
    {
     "name": "stderr",
     "output_type": "stream",
     "text": [
      "<ipython-input-14-17f2a748783f>:5: DeprecationWarning: `np.bool` is a deprecated alias for the builtin `bool`. To silence this warning, use `bool` by itself. Doing this will not modify any behavior and is safe. If you specifically wanted the numpy scalar type, use `np.bool_` here.\n",
      "Deprecated in NumPy 1.20; for more details and guidance: https://numpy.org/devdocs/release/1.20.0-notes.html#deprecations\n",
      "  source_detect_mask = source_detect.max(axis= 1).astype(np.bool)\n"
     ]
    }
   ],
   "source": [
    "#shuffle data\n",
    "shuffle_mask = np.array(range(len(source_detect)))\n",
    "np.random.shuffle(shuffle_mask)\n",
    "\n",
    "source_detect_mask = source_detect.max(axis= 1).astype(np.bool)\n",
    "\n",
    "\n",
    "variables = [\"source_pos\", \"source_region\", \"X_input\", \"source_concentration\", \n",
    "             \"water_flow_force\", \"source_inside\", \"distance_map\", \"source_detect\",\n",
    "             \"source_distance\", \"agent_action\", \"agent_position\"]\n",
    "\n",
    "final_variables = applyMaskGetFinal(variables, shuffle_mask)"
   ]
  },
  {
   "cell_type": "code",
   "execution_count": null,
   "metadata": {},
   "outputs": [],
   "source": []
  },
  {
   "cell_type": "code",
   "execution_count": 15,
   "metadata": {},
   "outputs": [
    {
     "data": {
      "text/plain": [
       "'stochastic'"
      ]
     },
     "execution_count": 15,
     "metadata": {},
     "output_type": "execute_result"
    }
   ],
   "source": [
    "file_type"
   ]
  },
  {
   "cell_type": "code",
   "execution_count": 15,
   "metadata": {},
   "outputs": [],
   "source": [
    "def writeToFile(data, file_path):\n",
    "    with open(file_path, 'wb') as f:\n",
    "        x = pickle.dump(data, f)\n",
    "        \n",
    "def readFile(file_path):\n",
    "    with open(file_path,'rb') as f:\n",
    "        data = pickle.load(f)\n",
    "    return data\n",
    "\n",
    "def writeFinalFiles(variable_names, path):\n",
    "    for name in variable_names:\n",
    "        new_name = name.replace(\"_final\", \"\")\n",
    "        variable_path = path + new_name + \".pkl\"\n",
    "        writeToFile(globals()[name], variable_path)\n",
    "        \n",
    "path = \"../output/data/processedData/voroni/\"+file_type+\"/{}/\".format(map_x)\n",
    "\n",
    "extra_variables = [\"centroids\"]\n",
    "\n",
    "final_variables += extra_variables\n",
    "writeFinalFiles(final_variables, path)\n"
   ]
  },
  {
   "cell_type": "code",
   "execution_count": 17,
   "metadata": {},
   "outputs": [
    {
     "name": "stdout",
     "output_type": "stream",
     "text": [
      "(12000, 120, 25) (12000, 120, 25)\n",
      "(12000, 120, 100) (12000, 120, 100)\n",
      "(12000, 120, 400) (12000, 120, 400)\n"
     ]
    },
    {
     "data": {
      "image/png": "[encoded data removed]",
      "text/plain": [
       "<Figure size 432x288 with 1 Axes>"
      ]
     },
     "metadata": {
      "needs_background": "light"
     },
     "output_type": "display_data"
    }
   ],
   "source": [
    "   \n",
    "map_xs = [5, 10, 20] #[5, 10, 20]\n",
    "for map_x in map_xs:\n",
    "    # predict_boundary = np.array([[-10, 10], [-10, 10]])#\n",
    "    predict_boundary = np.array([[-200, 200], [-200, 200]])\n",
    "    radius_ring = (predict_boundary[0,1] - predict_boundary[0,0])/map_x /2\n",
    "\n",
    "\n",
    "    centroids_x = np.linspace(predict_boundary[0][0] + radius_ring, predict_boundary[0][1] - radius_ring, map_x)\n",
    "    centroids_y = np.linspace(predict_boundary[1][0] + radius_ring, predict_boundary[1][1] - radius_ring, map_x)\n",
    "\n",
    "    X, Y = np.meshgrid(centroids_x,centroids_y)\n",
    "    centroids = np.concatenate((X.reshape(-1, 1), Y.reshape(-1, 1)), axis = -1)\n",
    "    plt.scatter(centroids[:, 0], centroids[:, 1])\n",
    "\n",
    "\n",
    "    max_range_predict = np.max(predict_boundary) \n",
    "    total_centroid = map_x**2\n",
    "    \n",
    "    source_pos = source_position[:, np.newaxis, :] - agent_position\n",
    "\n",
    "    distance_map = torch.cdist(torch.tensor(source_pos, dtype=float), torch.tensor(centroids, dtype=float)).numpy() # bsize, time_len, n_centroids\n",
    "    source_distance = torch.cdist(torch.tensor(source_pos, dtype=float), torch.tensor([[0,0]], dtype=float)).squeeze(-1).numpy() # bsize, time_len\n",
    "    source_inside = source_distance<=max_range_predict #bsize, time_len\n",
    "    source_region = np.argmin(distance_map, axis = -1) # bsize, time_len\n",
    "\n",
    "    source_region_centroid = centroids[source_region]\n",
    "    \n",
    "    \n",
    "    #shuffle data\n",
    "    shuffle_mask = np.array(range(len(source_detect)))\n",
    "    np.random.shuffle(shuffle_mask)\n",
    "    # shuffle_mask = shuffle_mask[:int(len(shuffle_mask) * 0.5)]\n",
    "    \n",
    "    variables = [\"source_pos\", \"source_region\", \"X_input\", \"source_concentration\", \n",
    "             \"water_flow_force\", \"source_inside\", \"distance_map\", \"source_detect\",\n",
    "             \"source_distance\", \"agent_action\", \"agent_position\"]\n",
    "    \n",
    "    final_variables = applyMaskGetFinal(variables, shuffle_mask)\n",
    "    \n",
    "    print(distance_map.shape, distance_map_final.shape)\n",
    "    \n",
    "    path = \"../output/data/processedData/voroni/\"+file_type+\"/{}/\".format(map_x)\n",
    "\n",
    "    extra_variables = [\"centroids\"]\n",
    "\n",
    "    final_variables += extra_variables\n",
    "    writeFinalFiles(final_variables, path)"
   ]
  },
  {
   "cell_type": "code",
   "execution_count": 35,
   "metadata": {},
   "outputs": [
    {
     "data": {
      "text/plain": [
       "array([[[2],\n",
       "        [2],\n",
       "        [2],\n",
       "        [2],\n",
       "        [1],\n",
       "        [1],\n",
       "        [1],\n",
       "        [1],\n",
       "        [1],\n",
       "        [1]],\n",
       "\n",
       "       [[0],\n",
       "        [0],\n",
       "        [1],\n",
       "        [1],\n",
       "        [2],\n",
       "        [2],\n",
       "        [2],\n",
       "        [0],\n",
       "        [1],\n",
       "        [1]]])"
      ]
     },
     "execution_count": 35,
     "metadata": {},
     "output_type": "execute_result"
    }
   ],
   "source": [
    "agent_action[:2, :10]"
   ]
  },
  {
   "cell_type": "code",
   "execution_count": 29,
   "metadata": {},
   "outputs": [
    {
     "data": {
      "text/plain": [
       "(18000, 120, 2)"
      ]
     },
     "execution_count": 29,
     "metadata": {},
     "output_type": "execute_result"
    }
   ],
   "source": [
    "# source_region.shape\n",
    "predict_source_pos = centroids[source_region]\n",
    "predict_source_pos.shape"
   ]
  },
  {
   "cell_type": "code",
   "execution_count": 28,
   "metadata": {},
   "outputs": [
    {
     "data": {
      "text/plain": [
       "(22000, 120, 3)"
      ]
     },
     "execution_count": 28,
     "metadata": {},
     "output_type": "execute_result"
    }
   ],
   "source": []
  },
  {
   "cell_type": "code",
   "execution_count": 60,
   "metadata": {},
   "outputs": [],
   "source": [
    "def getDistance(A,B):\n",
    "    return torch.nn.PairwiseDistance(p =2)(torch.tensor(A, dtype = float).reshape(-1, 2), torch.tensor(B, dtype = float).reshape(-1,2))\n",
    "\n",
    "def findAngle(A, B):\n",
    "    A, B = torch.tensor(A), torch.tensor(B)\n",
    "    cos_between = torch.sum(A * B, axis = -1)/(torch.norm(B, dim = -1) * torch.norm(A, dim = -1))\n",
    "    error_angle = torch.arccos(cos_between)\n",
    "    # error_angle[error_angle > np.pi/2] = np.pi - error_angle[error_angle > np.pi/2] \n",
    "    error_angle[torch.isnan(error_angle) ]= -1 #bsize, time_len\n",
    "    return error_angle\n",
    "\n",
    "error_angle = findAngle(predict_source_pos, source_pos)\n",
    "# distance_agent_source = getDistance(source_pos, agent_position).reshape(source_pos.shape[:-1])\n",
    "\n",
    "distance_agent_source = torch.norm(torch.tensor(source_pos), dim = -1)\n",
    "error_distance = getDistance(predict_source_pos, source_pos).reshape(source_pos.shape[:-1])\n"
   ]
  },
  {
   "cell_type": "code",
   "execution_count": 61,
   "metadata": {},
   "outputs": [
    {
     "data": {
      "text/plain": [
       "<matplotlib.collections.PathCollection at 0x234345adac0>"
      ]
     },
     "execution_count": 61,
     "metadata": {},
     "output_type": "execute_result"
    },
    {
     "data": {
      "image/png": "[encoded data removed]",
      "text/plain": [
       "<Figure size 432x288 with 1 Axes>"
      ]
     },
     "metadata": {
      "needs_background": "light"
     },
     "output_type": "display_data"
    }
   ],
   "source": [
    "plt.scatter(distance_agent_source.reshape(-1), error_distance.reshape(-1))"
   ]
  },
  {
   "cell_type": "code",
   "execution_count": 62,
   "metadata": {},
   "outputs": [
    {
     "data": {
      "text/plain": [
       "<matplotlib.collections.PathCollection at 0x2344cbf3160>"
      ]
     },
     "execution_count": 62,
     "metadata": {},
     "output_type": "execute_result"
    },
    {
     "data": {
      "image/png": "[encoded data removed]",
      "text/plain": [
       "<Figure size 432x288 with 1 Axes>"
      ]
     },
     "metadata": {
      "needs_background": "light"
     },
     "output_type": "display_data"
    }
   ],
   "source": [
    "plt.scatter(distance_agent_source.reshape(-1), distance_map.min(-1).reshape(-1))"
   ]
  },
  {
   "cell_type": "code",
   "execution_count": 63,
   "metadata": {},
   "outputs": [
    {
     "data": {
      "text/plain": [
       "<matplotlib.collections.PathCollection at 0x2344ca17940>"
      ]
     },
     "execution_count": 63,
     "metadata": {},
     "output_type": "execute_result"
    },
    {
     "data": {
      "image/png": "[encoded data removed]",
      "text/plain": [
       "<Figure size 432x288 with 1 Axes>"
      ]
     },
     "metadata": {
      "needs_background": "light"
     },
     "output_type": "display_data"
    }
   ],
   "source": [
    "plt.scatter(distance_agent_source.reshape(-1), error_angle.reshape(-1))"
   ]
  },
  {
   "cell_type": "code",
   "execution_count": 45,
   "metadata": {},
   "outputs": [
    {
     "data": {
      "text/plain": [
       "(tensor([     18,      32,      33,  ..., 2159791, 2159849, 2159873]),)"
      ]
     },
     "execution_count": 45,
     "metadata": {},
     "output_type": "execute_result"
    }
   ],
   "source": [
    "mask = (distance_agent_source>100) * (error_angle == -1)\n",
    "torch.where(mask.reshape(-1))"
   ]
  },
  {
   "cell_type": "code",
   "execution_count": 47,
   "metadata": {},
   "outputs": [
    {
     "data": {
      "text/plain": [
       "array([  2.66444632, -36.25581493])"
      ]
     },
     "execution_count": 47,
     "metadata": {},
     "output_type": "execute_result"
    }
   ],
   "source": [
    "source_pos.reshape(-1,2)[18]"
   ]
  },
  {
   "cell_type": "code",
   "execution_count": 48,
   "metadata": {},
   "outputs": [
    {
     "data": {
      "text/plain": [
       "array([-70,  40])"
      ]
     },
     "execution_count": 48,
     "metadata": {},
     "output_type": "execute_result"
    }
   ],
   "source": [
    "agent_position.reshape(-1,2)[18]"
   ]
  },
  {
   "cell_type": "code",
   "execution_count": 49,
   "metadata": {},
   "outputs": [
    {
     "data": {
      "text/plain": [
       "tensor(105.3331, dtype=torch.float64)"
      ]
     },
     "execution_count": 49,
     "metadata": {},
     "output_type": "execute_result"
    }
   ],
   "source": [
    "distance_agent_source.reshape(-1)[18]"
   ]
  },
  {
   "cell_type": "code",
   "execution_count": 50,
   "metadata": {},
   "outputs": [
    {
     "data": {
      "text/plain": [
       "tensor(-1., dtype=torch.float64)"
      ]
     },
     "execution_count": 50,
     "metadata": {},
     "output_type": "execute_result"
    }
   ],
   "source": [
    "error_angle.reshape(-1)[18]"
   ]
  },
  {
   "cell_type": "code",
   "execution_count": 51,
   "metadata": {},
   "outputs": [
    {
     "data": {
      "text/plain": [
       "0.0"
      ]
     },
     "execution_count": 51,
     "metadata": {},
     "output_type": "execute_result"
    }
   ],
   "source": [
    "predict_source_pos.reshape(-1)[18]"
   ]
  },
  {
   "cell_type": "code",
   "execution_count": 54,
   "metadata": {},
   "outputs": [
    {
     "data": {
      "text/plain": [
       "array([[204.38284036, 148.81543611, 123.77286703, 145.9226206 ,\n",
       "        200.16767919],\n",
       "       [168.4436874 ,  93.52520737,  43.8252553 ,  88.85010743,\n",
       "        163.30349102],\n",
       "       [166.65595162,  90.26569005,  36.35358841,  85.41236432,\n",
       "        161.45885101],\n",
       "       [199.93783184, 142.64930841, 116.2863439 , 139.62880207,\n",
       "        195.62691777],\n",
       "       [254.90403486, 212.95482051, 196.27390088, 210.94343497,\n",
       "        251.53691845]])"
      ]
     },
     "execution_count": 54,
     "metadata": {},
     "output_type": "execute_result"
    }
   ],
   "source": [
    "distance_map.reshape(-1, 25)[18].reshape(5,5)"
   ]
  },
  {
   "cell_type": "code",
   "execution_count": null,
   "metadata": {},
   "outputs": [],
   "source": []
  }
 ],
 "metadata": {
  "interpreter": {
   "hash": "003556b25945ce52072ca753ec57adfd50ede7d6a37cfc0e234260ddf64e6f49"
  },
  "kernelspec": {
   "display_name": "Python 3.8.8 ('base')",
   "language": "python",
   "name": "python3"
  },
  "language_info": {
   "codemirror_mode": {
    "name": "ipython",
    "version": 3
   },
   "file_extension": ".py",
   "mimetype": "text/x-python",
   "name": "python",
   "nbconvert_exporter": "python",
   "pygments_lexer": "ipython3",
   "version": "3.8.8"
  },
  "orig_nbformat": 4
 },
 "nbformat": 4,
 "nbformat_minor": 2
}
