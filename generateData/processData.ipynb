{
 "cells": [
  {
   "cell_type": "code",
   "execution_count": 1,
   "metadata": {},
   "outputs": [],
   "source": [
    "from tqdm import tqdm\n",
    "from common.utils import Logger\n",
    "import numpy as np\n",
    "import operator as op\n",
    "from functools import reduce\n",
    "import pickle"
   ]
  },
  {
   "cell_type": "code",
   "execution_count": 2,
   "metadata": {},
   "outputs": [],
   "source": [
    "n_data_file = 10\n",
    "file_type = 'stochastic'\n",
    "\n",
    "map_x, map_y = 5, 5\n",
    "# predict_boundary = np.array([[-15, 15], [-15, 15]])\n",
    "predict_boundary = np.array([[-200, 200], [-200, 200]])\n",
    "\n",
    "log_path = \"../output/data/\"+file_type+\"/data_{}.txt\"\n",
    "\n",
    "#single data\n",
    "single_list = [\"boundary\", \"concentration\", \"position\", \"water_flow_force\"]\n",
    "time_series_list = [\"detect_total_concentration\", \"detect_water_flow_force\", \"detect_avg_concentration\", \"detect_source\", \"action\", \"agent_position\"]\n",
    "\n",
    "def getSingleData(logger, variable):\n",
    "    data = np.array(logger.log[variable])[:, 0]\n",
    "    if len(data.shape) == 1:\n",
    "        return np.atleast_2d(data).T\n",
    "    else: return data\n",
    "\n",
    "def getTimeSeriesData(logger, variable):\n",
    "    return np.atleast_3d(logger.log[variable])\n",
    "\n",
    "logger = Logger()\n",
    "for i_data_file in range(n_data_file):\n",
    "    logger.loadLog(log_path.format(i_data_file))"
   ]
  },
  {
   "cell_type": "code",
   "execution_count": 3,
   "metadata": {},
   "outputs": [],
   "source": [
    "# process input data\n",
    "\n",
    "input_variables = [\"detect_total_concentration\", \"detect_water_flow_force\"]\n",
    "\n",
    "def getData(getDataFunction, variables):\n",
    "    logger = Logger()\n",
    "    for i_data_file in range(n_data_file):\n",
    "        # print(i_data_file)\n",
    "        logger.loadLog(log_path.format(i_data_file))\n",
    "        for (i_variable, variable) in enumerate(variables):\n",
    "            data = getDataFunction(logger, variable)\n",
    "            # print(data.shape)\n",
    "            if i_variable == 0:\n",
    "                input_data = data\n",
    "            else:\n",
    "                \n",
    "                input_data =np.concatenate((input_data,data), axis = -1)\n",
    "                \n",
    "        if i_data_file == 0:\n",
    "            output = input_data\n",
    "        else: output = np.concatenate((output, input_data), axis = 0)\n",
    "    return output\n",
    "    \n",
    "    \n",
    "X_input = getData(getTimeSeriesData, input_variables)"
   ]
  },
  {
   "cell_type": "code",
   "execution_count": 4,
   "metadata": {},
   "outputs": [],
   "source": [
    "# data parameters \n",
    "# map_x, map_y = 21, 21\n",
    "# predict_boundary = np.array([[-150, 150], [-150, 150]])\n",
    "\n",
    "\n",
    "\n",
    "interval_x, interval_y = (predict_boundary[0][1] - predict_boundary[0][0]) / map_x, (predict_boundary[1][1] - predict_boundary[1][0]) / map_y"
   ]
  },
  {
   "cell_type": "code",
   "execution_count": 5,
   "metadata": {},
   "outputs": [],
   "source": [
    "# process heat map data\n",
    "source_position = getData(getSingleData, ['position'])\n",
    "source_concentration = getData(getSingleData, ['concentration'])\n",
    "water_flow_force = getData(getSingleData, ['water_flow_force'])\n",
    "source_detect = getData(getTimeSeriesData, ['detect_source'])\n",
    "agent_action = getData(getTimeSeriesData, ['action'])\n",
    "agent_position = getData(getTimeSeriesData, ['agent_position'])\n",
    "\n",
    "\n",
    "\n",
    "\n",
    "\n",
    "\n",
    "#source map respect to query\n",
    "# source_map_position = source_position.copy()\n",
    "# source_map_position[:, 0] = (source_map_position[:, 0] - agent_boundary[0][0])/interval_x\n",
    "# source_map_position[:, 1] = (source_map_position[:, 1] - agent_boundary[1][0])/interval_y\n",
    "# source_map_position = source_map_position.astype(np.int)\n"
   ]
  },
  {
   "cell_type": "code",
   "execution_count": 6,
   "metadata": {},
   "outputs": [
    {
     "name": "stderr",
     "output_type": "stream",
     "text": [
      "<ipython-input-6-99d3fc15a325>:7: DeprecationWarning: `np.int` is a deprecated alias for the builtin `int`. To silence this warning, use `int` by itself. Doing this will not modify any behavior and is safe. When replacing `np.int`, you may wish to use e.g. `np.int64` or `np.int32` to specify the precision. If you wish to review your current use, check the release note link for additional information.\n",
      "Deprecated in NumPy 1.20; for more details and guidance: https://numpy.org/devdocs/release/1.20.0-notes.html#deprecations\n",
      "  source_map_position = np.stack((source_map_position_x, source_map_position_y), axis = -1).astype(np.int)\n"
     ]
    }
   ],
   "source": [
    "#source map respect to agent\n",
    "agent_boundary = agent_position[..., np.newaxis] + predict_boundary[np.newaxis, np.newaxis, ...]\n",
    "\n",
    "\n",
    "source_map_position_x = (source_position[:,0][..., np.newaxis] - agent_boundary[:,:,0,0])/interval_x \n",
    "source_map_position_y = (source_position[:,1][..., np.newaxis] - agent_boundary[:,:,1,0])/interval_x \n",
    "source_map_position = np.stack((source_map_position_x, source_map_position_y), axis = -1).astype(np.int)\n",
    "source_map_position_index = np.stack((map_y - 1 - source_map_position[..., 1], source_map_position[..., 0]), axis = -1)\n",
    "# source_inside = (source_map_position_x>=0) & (source_map_position_x<map_x) & (source_map_position_y>=0) & (source_map_position_y<map_y)"
   ]
  },
  {
   "cell_type": "code",
   "execution_count": 7,
   "metadata": {},
   "outputs": [
    {
     "name": "stdout",
     "output_type": "stream",
     "text": [
      "15180 (18000,)\n"
     ]
    },
    {
     "name": "stderr",
     "output_type": "stream",
     "text": [
      "<ipython-input-7-4938b0fcf131>:1: DeprecationWarning: `np.bool` is a deprecated alias for the builtin `bool`. To silence this warning, use `bool` by itself. Doing this will not modify any behavior and is safe. If you specifically wanted the numpy scalar type, use `np.bool_` here.\n",
      "Deprecated in NumPy 1.20; for more details and guidance: https://numpy.org/devdocs/release/1.20.0-notes.html#deprecations\n",
      "  source_detect_mask = source_detect.max(axis= 1)[:, 0].astype(np.bool)\n"
     ]
    }
   ],
   "source": [
    "source_detect_mask = source_detect.max(axis= 1)[:, 0].astype(np.bool)\n",
    "print(np.sum(source_detect_mask), source_detect_mask.shape)"
   ]
  },
  {
   "cell_type": "code",
   "execution_count": 8,
   "metadata": {},
   "outputs": [
    {
     "name": "stdout",
     "output_type": "stream",
     "text": [
      "18000 (18000,)\n"
     ]
    },
    {
     "name": "stderr",
     "output_type": "stream",
     "text": [
      "<ipython-input-8-5619549cfb4d>:1: DeprecationWarning: `np.bool` is a deprecated alias for the builtin `bool`. To silence this warning, use `bool` by itself. Doing this will not modify any behavior and is safe. If you specifically wanted the numpy scalar type, use `np.bool_` here.\n",
      "Deprecated in NumPy 1.20; for more details and guidance: https://numpy.org/devdocs/release/1.20.0-notes.html#deprecations\n",
      "  source_detect_mask = np.ones(len(source_detect)).astype(np.bool)\n"
     ]
    }
   ],
   "source": [
    "source_detect_mask = np.ones(len(source_detect)).astype(np.bool)\n",
    "print(np.sum(source_detect_mask), source_detect_mask.shape)"
   ]
  },
  {
   "cell_type": "code",
   "execution_count": 9,
   "metadata": {},
   "outputs": [
    {
     "name": "stdout",
     "output_type": "stream",
     "text": [
      "0.8433333333333334\n"
     ]
    },
    {
     "name": "stderr",
     "output_type": "stream",
     "text": [
      "<ipython-input-9-bace00d93487>:9: DeprecationWarning: `np.bool` is a deprecated alias for the builtin `bool`. To silence this warning, use `bool` by itself. Doing this will not modify any behavior and is safe. If you specifically wanted the numpy scalar type, use `np.bool_` here.\n",
      "Deprecated in NumPy 1.20; for more details and guidance: https://numpy.org/devdocs/release/1.20.0-notes.html#deprecations\n",
      "  source_detect_mask = source_detect.max(axis= 1)[:, 0].astype(np.bool)\n"
     ]
    }
   ],
   "source": [
    "import torch\n",
    "X_input_final = X_input.copy()\n",
    "# detected_heat_map_final = detected_heat_map.copy()\n",
    "# water_flow_force_final = water_flow_force.copy()\n",
    "time_len = 80\n",
    "\n",
    "# process source detected\n",
    "\n",
    "source_detect_mask = source_detect.max(axis= 1)[:, 0].astype(np.bool)\n",
    "# source_detect_mask = np.ones(len(source_detect)).astype(np.bool)\n",
    "print(np.sum(source_detect_mask)/len(source_detect_mask))\n",
    "\n",
    "# #apply mask\n",
    "source_detect_final = source_detect[source_detect_mask]\n",
    "X_input_final = X_input[source_detect_mask] \n",
    "source_concentration_final = source_concentration[source_detect_mask]\n",
    "# detected_heat_map_final = detected_heat_map[source_detect_mask] \n",
    "water_flow_force_final = water_flow_force[source_detect_mask]\n",
    "source_concentration_final = source_concentration[source_detect_mask]\n",
    "source_map_position_final = source_map_position[source_detect_mask]\n",
    "source_map_position_index_final = source_map_position_index[source_detect_mask]\n",
    "source_detect = source_detect[source_detect_mask]\n",
    "agent_action_final =agent_action[source_detect_mask]\n",
    "# source_inside_final = source_inside[source_detect_mask]\n",
    "\n",
    "#source_map_position_time_len_final \n",
    "# source_map_position_timelen_final = source_map_position_final[:,None,:].repeat(time_len, 1)\n",
    "# source_map_position_timelen_final = torch.where(torch.tensor(source_detect).type(torch.bool), torch.tensor(source_map_position_timelen_final), torch.tensor(-source_map_position_timelen_final)).numpy()\n",
    "\n"
   ]
  },
  {
   "cell_type": "code",
   "execution_count": 10,
   "metadata": {},
   "outputs": [],
   "source": [
    "import torch\n",
    "map_prod = map_x* map_y\n",
    "source_pos = torch.tensor(source_map_position)\n",
    "bsize, time_len = source_map_position.shape[:2]\n",
    "\n",
    "pos_map = torch.stack((torch.arange(map_prod) % map_y, map_y - 1 - torch.arange(map_prod) // map_y ), dim=-1).type(torch.float)\n",
    "distance_map = torch.cdist(source_pos.type(torch.float), pos_map.type(torch.float)).reshape(bsize, time_len, map_x, map_y)\n",
    "distance_map_final = distance_map.numpy().copy()[source_detect_mask]\n"
   ]
  },
  {
   "cell_type": "code",
   "execution_count": 11,
   "metadata": {},
   "outputs": [],
   "source": [
    "def writeToFile(data, file_path):\n",
    "    with open(file_path, 'wb') as f:\n",
    "        x = pickle.dump(data, f)\n",
    "        \n",
    "def readFile(file_path):\n",
    "    with open(file_path,'rb') as f:\n",
    "        data = pickle.load(f)\n",
    "    return data\n",
    "\n",
    "path = \"../output/data/processedData/\"+file_type+\"/{}/\".format(map_x)\n",
    "\n",
    "X_input_path = path+\"XInput.pkl\"\n",
    "\n",
    "source_map_position_path = path+\"sourceMapPosition.pkl\"\n",
    "\n",
    "\n",
    "X_input_final_path = path+\"XInput_final.pkl\"\n",
    "# detected_heat_map_final_path = \"../output/data/processedData/detectedHeatMap_final.pkl\"\n",
    "source_map_position_final_path = path+\"sourceMapPosition_final.pkl\"\n",
    "source_map_position_index_final_path = path+\"sourceMapPositionIndex_final.pkl\"\n",
    "source_concentration_final_path = path +\"sourceConcentrationFinal.pkl\"\n",
    "# source_map_position_timelen_final_path = \"../output/data/processedData/sourceMapPositionTimelen_final.pkl\"\n",
    "distance_map_final_path = path+\"distance_map_final.pkl\"\n",
    "agent_action_final_path = path+\"agent_action_final.pkl\"\n",
    "source_inside_final_path = path+\"source_inside_final.pkl\"\n",
    "water_flow_force_final_path = path +\"waterFlowForceFinal.pkl\"\n",
    "\n",
    "# writeToFile(X_input, X_input_path)\n",
    "# writeToFile(detected_heat_map, detected_heat_map_path)\n",
    "writeToFile(source_map_position, source_map_position_path)\n",
    "\n",
    "writeToFile(X_input_final, X_input_final_path)\n",
    "writeToFile(source_concentration_final, source_concentration_final_path)\n",
    "writeToFile(water_flow_force_final, water_flow_force_final_path)\n",
    "# writeToFile(detected_heat_map_final, detected_heat_map_final_path)\n",
    "writeToFile(source_map_position_final, source_map_position_final_path)\n",
    "writeToFile(distance_map_final, distance_map_final_path)\n",
    "# writeToFile(source_map_position_timelen_final, source_map_position_timelen_final_path)\n",
    "writeToFile(agent_action_final, agent_action_final_path)\n",
    "writeToFile(source_map_position_index_final, source_map_position_index_final_path)\n",
    "# writeToFile(source_inside_final, source_inside_final_path)\n"
   ]
  },
  {
   "cell_type": "code",
   "execution_count": null,
   "metadata": {},
   "outputs": [],
   "source": [
    "def writeToFile(data, file_path):\n",
    "    with open(file_path, 'wb') as f:\n",
    "        x = pickle.dump(data, f)\n",
    "        \n",
    "def readFile(file_path):\n",
    "    with open(file_path,'rb') as f:\n",
    "        data = pickle.load(f)\n",
    "    return data\n",
    "\n",
    "path = \"../output/data/processedData/\"+file_type+\"/{}/\".format(map_x)\n",
    "\n",
    "X_input_path = path+\"XInput.pkl\"\n",
    "detected_heat_map_path = path+\"detectedHeatMap.pkl\"\n",
    "source_map_position_path = path+\"sourceMapPosition.pkl\"\n",
    "\n",
    "\n",
    "X_input_final_path = path+\"XInput_final.pkl\"\n",
    "# detected_heat_map_final_path = \"../output/data/processedData/detectedHeatMap_final.pkl\"\n",
    "source_map_position_final_path = path+\"sourceMapPosition_final.pkl\"\n",
    "source_map_position_index_final_path = path+\"sourceMapPositionIndex_final.pkl\"\n",
    "source_concentration_final_path = path +\"sourceConcentrationFinal.pkl\"\n",
    "# source_map_position_timelen_final_path = \"../output/data/processedData/sourceMapPositionTimelen_final.pkl\"\n",
    "distance_map_final_path = path+\"distance_map_final.pkl\"\n",
    "agent_action_final_path = path+\"agent_action_final.pkl\"\n",
    "source_inside_final_path = path+\"source_inside_final.pkl\"\n",
    "water_flow_force_final_path = path +\"waterFlowForceFinal.pkl\"\n",
    "\n",
    "# writeToFile(X_input, X_input_path)\n",
    "# writeToFile(detected_heat_map, detected_heat_map_path)\n",
    "writeToFile(source_map_position, source_map_position_path)\n",
    "\n",
    "writeToFile(X_input_final, X_input_final_path)\n",
    "writeToFile(source_concentration_final, source_concentration_final_path)\n",
    "writeToFile(water_flow_force_final, water_flow_force_final_path)\n",
    "# writeToFile(detected_heat_map_final, detected_heat_map_final_path)\n",
    "writeToFile(source_map_position_final, source_map_position_final_path)\n",
    "writeToFile(distance_map_final, distance_map_final_path)\n",
    "# writeToFile(source_map_position_timelen_final, source_map_position_timelen_final_path)\n",
    "writeToFile(agent_action_final, agent_action_final_path)\n",
    "writeToFile(source_map_position_index_final, source_map_position_index_final_path)\n",
    "# writeToFile(source_inside_final, source_inside_final_path)\n"
   ]
  },
  {
   "cell_type": "code",
   "execution_count": 12,
   "metadata": {},
   "outputs": [
    {
     "data": {
      "text/plain": [
       "(20000, 120, 2)"
      ]
     },
     "execution_count": 12,
     "metadata": {},
     "output_type": "execute_result"
    }
   ],
   "source": [
    "agent_position.shape"
   ]
  },
  {
   "cell_type": "code",
   "execution_count": 19,
   "metadata": {},
   "outputs": [
    {
     "data": {
      "text/plain": [
       "torch.Size([20000, 2])"
      ]
     },
     "execution_count": 19,
     "metadata": {},
     "output_type": "execute_result"
    }
   ],
   "source": [
    "agent_destination = torch.tensor(agent_position[:, -1]).type(torch.float)\n",
    "start = torch.tensor([[0, 0]]).type(torch.float)\n",
    "agent_destination.shape"
   ]
  },
  {
   "cell_type": "code",
   "execution_count": 20,
   "metadata": {},
   "outputs": [
    {
     "data": {
      "text/plain": [
       "torch.Size([1, 2])"
      ]
     },
     "execution_count": 20,
     "metadata": {},
     "output_type": "execute_result"
    }
   ],
   "source": [
    "start.shape"
   ]
  },
  {
   "cell_type": "code",
   "execution_count": 27,
   "metadata": {},
   "outputs": [
    {
     "data": {
      "text/plain": [
       "torch.Size([20000])"
      ]
     },
     "execution_count": 27,
     "metadata": {},
     "output_type": "execute_result"
    }
   ],
   "source": [
    "dist_move = torch.cdist(agent_destination, start)[:, 0]\n",
    "dist_move.shape"
   ]
  },
  {
   "cell_type": "code",
   "execution_count": 29,
   "metadata": {},
   "outputs": [
    {
     "data": {
      "text/plain": [
       "tensor([152.3155, 120.0000,  90.5538,  76.1577, 107.7033,  56.5685,  80.0000,\n",
       "        147.6482, 128.0625, 170.2939,  94.8683, 164.9242, 116.6190,  31.6228,\n",
       "        114.0175,  40.0000, 139.2839, 107.7033, 126.4911, 170.2939,  42.4264,\n",
       "         42.4264, 184.3909, 170.2939,  44.7214,   0.0000, 147.6482,  28.2843,\n",
       "        141.4214,  44.7214, 277.8489, 260.7681,  42.4264,  44.7214,  63.2456,\n",
       "        190.2630, 192.3538, 128.0625, 189.7367, 110.4536, 130.3840,  44.7214,\n",
       "        116.6190, 160.0000,  58.3095, 140.0000,  50.9902, 130.3840,  86.0233,\n",
       "         70.7107,  20.0000, 186.0108,  76.1577,  98.9949,   0.0000,  70.7107,\n",
       "        152.9706,  60.0000, 101.9804, 215.8703, 165.5294, 100.0000, 230.2173,\n",
       "        101.9804, 177.2005,  63.2456,  94.8683,  42.4264,  44.7214, 130.3840,\n",
       "         72.1110,  31.6228,  40.0000, 127.2792, 170.2939,  82.4621, 144.2220,\n",
       "         40.0000,  76.1577,  20.0000, 100.0000, 120.8305, 142.1267, 147.6482,\n",
       "        100.0000,  58.3095, 110.4536,  31.6228, 128.0625,  40.0000,  94.8683,\n",
       "         58.3095, 169.7056, 127.2792,  89.4427,  82.4621,  31.6228, 152.9706,\n",
       "        113.1371, 114.0175])"
      ]
     },
     "execution_count": 29,
     "metadata": {},
     "output_type": "execute_result"
    }
   ],
   "source": [
    "dist_move[:100]"
   ]
  },
  {
   "cell_type": "code",
   "execution_count": 32,
   "metadata": {},
   "outputs": [
    {
     "data": {
      "text/plain": [
       "(array([2.797e+03, 6.330e+03, 5.620e+03, 3.245e+03, 1.432e+03, 4.610e+02,\n",
       "        9.800e+01, 1.500e+01, 1.000e+00, 1.000e+00]),\n",
       " array([  0.      ,  47.518417,  95.036835, 142.55525 , 190.07367 ,\n",
       "        237.59209 , 285.1105  , 332.6289  , 380.14734 , 427.66577 ,\n",
       "        475.18417 ], dtype=float32),\n",
       " <BarContainer object of 10 artists>)"
      ]
     },
     "execution_count": 32,
     "metadata": {},
     "output_type": "execute_result"
    },
    {
     "data": {
      "image/png": "[encoded data removed]",
      "text/plain": [
       "<Figure size 432x288 with 1 Axes>"
      ]
     },
     "metadata": {
      "needs_background": "light"
     },
     "output_type": "display_data"
    }
   ],
   "source": [
    "import matplotlib.pyplot as plt\n",
    "plt.hist(dist_move.numpy(), bins = 10)"
   ]
  },
  {
   "cell_type": "code",
   "execution_count": 22,
   "metadata": {},
   "outputs": [],
   "source": [
    "T_threshold = 1\n",
    "T_range = 10\n",
    "def getXInputValid(X_input_final):\n",
    "\n",
    "    len_data, time_len = X_input_final.shape[:2]\n",
    "    \n",
    "    X_input_positive_cum_sum = torch.cumsum(X_input_final[..., 0] > 0, dim=-1)  # bsize. time_len\n",
    "    X_input_positive_cum_sum[:, T_range:] = X_input_positive_cum_sum[:, T_range:] - X_input_positive_cum_sum[:,\n",
    "                                                                                    :-T_range]\n",
    "\n",
    "    X_input_valid = (X_input_positive_cum_sum - T_threshold) >= 0\n",
    "    \n",
    "    return X_input_valid  # (bsize, time_len, 1)"
   ]
  },
  {
   "cell_type": "code",
   "execution_count": 23,
   "metadata": {},
   "outputs": [],
   "source": [
    "X_valid = getXInputValid(torch.tensor(X_input_final))\n",
    "\n",
    "distance_map_final_temp = distance_map_final.copy()\n",
    "distance_map_final_reshape = distance_map_final_temp.reshape((*distance_map_final_temp.shape[:-2], -1))\n",
    "avg_map = distance_map_final_reshape.argmin(-1)\n",
    "_, unique_map = np.unique(avg_map[X_valid], return_counts=True)"
   ]
  },
  {
   "cell_type": "code",
   "execution_count": 24,
   "metadata": {},
   "outputs": [
    {
     "data": {
      "text/plain": [
       "torch.Size([20000, 120])"
      ]
     },
     "execution_count": 24,
     "metadata": {},
     "output_type": "execute_result"
    }
   ],
   "source": [
    "X_valid.shape"
   ]
  },
  {
   "cell_type": "code",
   "execution_count": 25,
   "metadata": {},
   "outputs": [
    {
     "data": {
      "text/plain": [
       "tensor(799635)"
      ]
     },
     "execution_count": 25,
     "metadata": {},
     "output_type": "execute_result"
    }
   ],
   "source": [
    "torch.sum(X_valid)"
   ]
  },
  {
   "cell_type": "code",
   "execution_count": 26,
   "metadata": {},
   "outputs": [
    {
     "data": {
      "text/plain": [
       "array([[0.025, 0.026, 0.031, 0.025, 0.027],\n",
       "       [0.026, 0.04 , 0.063, 0.04 , 0.028],\n",
       "       [0.035, 0.064, 0.129, 0.065, 0.035],\n",
       "       [0.028, 0.04 , 0.064, 0.04 , 0.028],\n",
       "       [0.026, 0.026, 0.034, 0.026, 0.025]])"
      ]
     },
     "execution_count": 26,
     "metadata": {},
     "output_type": "execute_result"
    }
   ],
   "source": [
    "np.set_printoptions(precision = 3)\n",
    "unique_map.reshape(5,5)/np.sum(unique_map)"
   ]
  },
  {
   "cell_type": "code",
   "execution_count": 42,
   "metadata": {},
   "outputs": [
    {
     "data": {
      "text/plain": [
       "array([[0.021, 0.03 , 0.044, 0.031, 0.025],\n",
       "       [0.037, 0.049, 0.061, 0.038, 0.034],\n",
       "       [0.051, 0.061, 0.096, 0.049, 0.049],\n",
       "       [0.032, 0.038, 0.046, 0.035, 0.034],\n",
       "       [0.019, 0.027, 0.038, 0.029, 0.025]])"
      ]
     },
     "execution_count": 42,
     "metadata": {},
     "output_type": "execute_result"
    }
   ],
   "source": [
    "np.set_printoptions(precision = 3)\n",
    "unique_map.reshape(5,5)/np.sum(unique_map)"
   ]
  },
  {
   "cell_type": "code",
   "execution_count": 52,
   "metadata": {},
   "outputs": [],
   "source": [
    "temp = np.array(range(80))\n",
    "np.random.shuffle(temp)"
   ]
  },
  {
   "cell_type": "code",
   "execution_count": 53,
   "metadata": {},
   "outputs": [
    {
     "data": {
      "text/plain": [
       "array([35, 31, 75, 55, 45, 16, 62, 22,  5, 26, 60, 56, 76, 47, 32, 19, 68,\n",
       "       67, 44, 64, 39, 17, 78, 23, 43, 50,  8,  4,  7,  3,  9, 29, 18, 21,\n",
       "       34, 14, 13, 70, 48, 69, 52, 12, 40, 41, 79, 61,  0, 33, 74, 36, 20,\n",
       "       30, 54, 24, 38, 57, 25, 49, 71, 58, 15, 28, 72, 42, 63, 59,  2, 65,\n",
       "       53, 46, 77, 27, 11,  6, 73, 10,  1, 66, 37, 51])"
      ]
     },
     "execution_count": 53,
     "metadata": {},
     "output_type": "execute_result"
    }
   ],
   "source": [
    "temp"
   ]
  },
  {
   "cell_type": "code",
   "execution_count": null,
   "metadata": {},
   "outputs": [],
   "source": []
  },
  {
   "cell_type": "code",
   "execution_count": null,
   "metadata": {},
   "outputs": [],
   "source": []
  },
  {
   "cell_type": "code",
   "execution_count": null,
   "metadata": {},
   "outputs": [],
   "source": []
  },
  {
   "cell_type": "code",
   "execution_count": null,
   "metadata": {},
   "outputs": [],
   "source": []
  },
  {
   "cell_type": "code",
   "execution_count": 19,
   "metadata": {},
   "outputs": [],
   "source": [
    "def getImgMask(crop_range, img_shape):\n",
    "    # crop_range = (bsize, 2, 2)\n",
    "    # image_shape = (bsize, 2, 2)\n",
    "    img_top_left = crop_range[..., 0]\n",
    "    img_bot_right = crop_range[..., 1]\n",
    "\n",
    "    masks = []\n",
    "    for i, img_size in enumerate(img_shape):\n",
    "        values = torch.arange(0, img_size).view(\n",
    "            (1,) * len(crop_range.shape[:-2]) + (img_size,)).to(crop_range.device)\n",
    "        mask = (img_top_left[..., i, None] <= values) * (values < img_bot_right[..., i, None])\n",
    "        mask = mask.unsqueeze(-1 - i)\n",
    "        masks.append(mask)\n",
    "    mask = reduce(op.and_, masks)\n",
    "    return mask"
   ]
  },
  {
   "cell_type": "code",
   "execution_count": null,
   "metadata": {},
   "outputs": [],
   "source": []
  },
  {
   "cell_type": "code",
   "execution_count": 20,
   "metadata": {},
   "outputs": [],
   "source": [
    "import torch\n",
    "map_prod = map_x* map_y\n",
    "source_pos = torch.tensor(source_map_position)\n",
    "bsize, time_len = source_map_position.shape[:2]\n",
    "\n",
    "pos_map = torch.stack((torch.arange(map_prod) % map_y, map_y - 1 - torch.arange(map_prod) // map_y ), dim=-1).type(torch.float)\n",
    "distance_map = torch.cdist(source_pos.type(torch.float), pos_map.type(torch.float)).reshape(bsize, time_len, map_x, map_y)\n",
    "distance_map_final = distance_map.numpy().copy()[source_detect_mask]\n"
   ]
  },
  {
   "cell_type": "code",
   "execution_count": 21,
   "metadata": {},
   "outputs": [],
   "source": [
    "temp_pos = torch.tensor([[1,3]])\n",
    "temp = torch.cdist(temp_pos.type(torch.float), pos_map.type(torch.float))"
   ]
  },
  {
   "cell_type": "code",
   "execution_count": 22,
   "metadata": {},
   "outputs": [
    {
     "data": {
      "text/plain": [
       "(14548, 120, 2)"
      ]
     },
     "execution_count": 22,
     "metadata": {},
     "output_type": "execute_result"
    }
   ],
   "source": [
    "source_map_position_final.shape"
   ]
  },
  {
   "cell_type": "code",
   "execution_count": 23,
   "metadata": {},
   "outputs": [
    {
     "data": {
      "text/plain": [
       "(14548, 120, 2)"
      ]
     },
     "execution_count": 23,
     "metadata": {},
     "output_type": "execute_result"
    }
   ],
   "source": [
    "source_map_pos_index = np.stack((map_y - 1 - source_map_position_final[..., 1], source_map_position_final[..., 0]), axis = -1)\n",
    "source_map_pos_index.shape"
   ]
  },
  {
   "cell_type": "code",
   "execution_count": 24,
   "metadata": {},
   "outputs": [],
   "source": [
    "source_pos_index = torch.stack((map_y - 1 - source_pos[:1,0, 1], source_pos[:1,0, 0]), dim = -1)\n",
    "source_pos_crop = torch.stack([source_pos_index, source_pos_index + 1], dim=-1)\n",
    "mask = getImgMask(source_pos_crop, (5, 5))"
   ]
  },
  {
   "cell_type": "code",
   "execution_count": 27,
   "metadata": {},
   "outputs": [
    {
     "data": {
      "text/plain": [
       "tensor([[[ 5.000,  5.099,  5.385,  5.831,  6.403,  7.071,  7.810,  8.602,  9.434, 10.296],\n",
       "         [ 4.000,  4.123,  4.472,  5.000,  5.657,  6.403,  7.211,  8.062,  8.944,  9.849],\n",
       "         [ 3.000,  3.162,  3.606,  4.243,  5.000,  5.831,  6.708,  7.616,  8.544,  9.487],\n",
       "         [ 2.000,  2.236,  2.828,  3.606,  4.472,  5.385,  6.325,  7.280,  8.246,  9.220],\n",
       "         [ 1.000,  1.414,  2.236,  3.162,  4.123,  5.099,  6.083,  7.071,  8.062,  9.055],\n",
       "         [ 0.000,  1.000,  2.000,  3.000,  4.000,  5.000,  6.000,  7.000,  8.000,  9.000],\n",
       "         [ 1.000,  1.414,  2.236,  3.162,  4.123,  5.099,  6.083,  7.071,  8.062,  9.055],\n",
       "         [ 2.000,  2.236,  2.828,  3.606,  4.472,  5.385,  6.325,  7.280,  8.246,  9.220],\n",
       "         [ 3.000,  3.162,  3.606,  4.243,  5.000,  5.831,  6.708,  7.616,  8.544,  9.487],\n",
       "         [ 4.000,  4.123,  4.472,  5.000,  5.657,  6.403,  7.211,  8.062,  8.944,  9.849]]])"
      ]
     },
     "execution_count": 27,
     "metadata": {},
     "output_type": "execute_result"
    }
   ],
   "source": [
    "torch.set_printoptions(precision=3, linewidth = 200)\n",
    "distance_map[:1,0]"
   ]
  },
  {
   "cell_type": "code",
   "execution_count": 28,
   "metadata": {},
   "outputs": [
    {
     "ename": "IndexError",
     "evalue": "The shape of the mask [1, 5, 5] at index 1 does not match the shape of the indexed tensor [1, 10, 10] at index 1",
     "output_type": "error",
     "traceback": [
      "\u001b[1;31m---------------------------------------------------------------------------\u001b[0m",
      "\u001b[1;31mIndexError\u001b[0m                                Traceback (most recent call last)",
      "\u001b[1;32m<ipython-input-28-a6f5d46bac9f>\u001b[0m in \u001b[0;36m<module>\u001b[1;34m\u001b[0m\n\u001b[1;32m----> 1\u001b[1;33m \u001b[0mmap_position_cropped\u001b[0m \u001b[1;33m=\u001b[0m \u001b[0mdistance_map\u001b[0m\u001b[1;33m[\u001b[0m\u001b[1;33m:\u001b[0m\u001b[1;36m1\u001b[0m\u001b[1;33m,\u001b[0m\u001b[1;36m0\u001b[0m\u001b[1;33m]\u001b[0m\u001b[1;33m[\u001b[0m\u001b[0mmask\u001b[0m\u001b[1;33m]\u001b[0m\u001b[1;33m\u001b[0m\u001b[1;33m\u001b[0m\u001b[0m\n\u001b[0m\u001b[0;32m      2\u001b[0m \u001b[0mmap_position_cropped\u001b[0m\u001b[1;33m\u001b[0m\u001b[1;33m\u001b[0m\u001b[0m\n",
      "\u001b[1;31mIndexError\u001b[0m: The shape of the mask [1, 5, 5] at index 1 does not match the shape of the indexed tensor [1, 10, 10] at index 1"
     ]
    }
   ],
   "source": [
    "map_position_cropped = distance_map[:1,0][mask]\n",
    "map_position_cropped"
   ]
  },
  {
   "cell_type": "code",
   "execution_count": 75,
   "metadata": {},
   "outputs": [
    {
     "data": {
      "text/plain": [
       "tensor([[[1.4142, 1.0000, 1.4142, 2.2361, 3.1623],\n",
       "         [1.0000, 0.0000, 1.0000, 2.0000, 3.0000],\n",
       "         [1.4142, 1.0000, 1.4142, 2.2361, 3.1623],\n",
       "         [2.2361, 2.0000, 2.2361, 2.8284, 3.6056],\n",
       "         [3.1623, 3.0000, 3.1623, 3.6056, 4.2426]]])"
      ]
     },
     "execution_count": 75,
     "metadata": {},
     "output_type": "execute_result"
    }
   ],
   "source": [
    "temp.reshape(1, 5, 5)"
   ]
  },
  {
   "cell_type": "code",
   "execution_count": 29,
   "metadata": {},
   "outputs": [
    {
     "name": "stdout",
     "output_type": "stream",
     "text": [
      "torch.Size([17999, 120, 2])\n",
      "(17999, 120, 2)\n"
     ]
    }
   ],
   "source": [
    "print(source_pos.shape)\n",
    "print(source_map_position.shape)"
   ]
  },
  {
   "cell_type": "code",
   "execution_count": 38,
   "metadata": {},
   "outputs": [
    {
     "data": {
      "text/plain": [
       "<matplotlib.image.AxesImage at 0x23a9c717dc0>"
      ]
     },
     "execution_count": 38,
     "metadata": {},
     "output_type": "execute_result"
    },
    {
     "data": {
      "image/png": "[encoded data removed]",
      "text/plain": [
       "<Figure size 432x288 with 1 Axes>"
      ]
     },
     "metadata": {
      "needs_background": "light"
     },
     "output_type": "display_data"
    }
   ],
   "source": [
    "import matplotlib.pyplot as plt\n",
    "shown_map = distance_map[0, 0].numpy()\n",
    "plt.imshow(shown_map/np.sum(shown_map))"
   ]
  },
  {
   "cell_type": "code",
   "execution_count": 33,
   "metadata": {},
   "outputs": [
    {
     "data": {
      "text/plain": [
       "array([[8.062, 7.616, 7.28 , 7.071, 7.   , 7.071, 7.28 , 7.616, 8.062, 8.602],\n",
       "       [7.211, 6.708, 6.325, 6.083, 6.   , 6.083, 6.325, 6.708, 7.211, 7.81 ],\n",
       "       [6.403, 5.831, 5.385, 5.099, 5.   , 5.099, 5.385, 5.831, 6.403, 7.071],\n",
       "       [5.657, 5.   , 4.472, 4.123, 4.   , 4.123, 4.472, 5.   , 5.657, 6.403],\n",
       "       [5.   , 4.243, 3.606, 3.162, 3.   , 3.162, 3.606, 4.243, 5.   , 5.831],\n",
       "       [4.472, 3.606, 2.828, 2.236, 2.   , 2.236, 2.828, 3.606, 4.472, 5.385],\n",
       "       [4.123, 3.162, 2.236, 1.414, 1.   , 1.414, 2.236, 3.162, 4.123, 5.099],\n",
       "       [4.   , 3.   , 2.   , 1.   , 0.   , 1.   , 2.   , 3.   , 4.   , 5.   ],\n",
       "       [4.123, 3.162, 2.236, 1.414, 1.   , 1.414, 2.236, 3.162, 4.123, 5.099],\n",
       "       [4.472, 3.606, 2.828, 2.236, 2.   , 2.236, 2.828, 3.606, 4.472, 5.385]], dtype=float32)"
      ]
     },
     "execution_count": 33,
     "metadata": {},
     "output_type": "execute_result"
    }
   ],
   "source": [
    "np.set_printoptions(precision=3, linewidth = 200)\n",
    "distance_map_final[1, 0]"
   ]
  },
  {
   "cell_type": "code",
   "execution_count": 37,
   "metadata": {},
   "outputs": [
    {
     "name": "stdout",
     "output_type": "stream",
     "text": [
      "tensor([0, 4], dtype=torch.int32)\n",
      "[5 0]\n",
      "[0 4]\n",
      "[[ -95  105]\n",
      " [-100  100]]\n",
      "tensor([2, 6], dtype=torch.int32)\n",
      "[3 2]\n",
      "[2 6]\n",
      "[[ -95  105]\n",
      " [-100  100]]\n",
      "tensor([7, 4], dtype=torch.int32)\n",
      "[5 7]\n",
      "[7 4]\n",
      "[[ -95  105]\n",
      " [-100  100]]\n",
      "tensor([0, 4], dtype=torch.int32)\n",
      "[5 0]\n",
      "[0 4]\n",
      "[[ -95  105]\n",
      " [-100  100]]\n",
      "tensor([2, 9], dtype=torch.int32)\n",
      "[0 2]\n",
      "[2 9]\n",
      "[[ -95  105]\n",
      " [-100  100]]\n"
     ]
    }
   ],
   "source": [
    "i_sample = 1\n",
    "i_time_step = 0\n",
    "for i_sample in range(5):\n",
    "    print(source_pos[i_sample][i_time_step])\n",
    "    print(source_map_position_index[i_sample][i_time_step])\n",
    "    print(source_map_position[i_sample, i_time_step])\n",
    "    print(agent_boundary[i_sample, i_time_step])"
   ]
  },
  {
   "cell_type": "code",
   "execution_count": 36,
   "metadata": {},
   "outputs": [
    {
     "data": {
      "text/plain": [
       "torch.Size([1, 2])"
      ]
     },
     "execution_count": 36,
     "metadata": {},
     "output_type": "execute_result"
    }
   ],
   "source": [
    "source_pos_index.shape"
   ]
  },
  {
   "cell_type": "code",
   "execution_count": 19,
   "metadata": {},
   "outputs": [
    {
     "data": {
      "text/plain": [
       "tensor([[0., 1., 2., 3., 4.],\n",
       "        [0., 1., 2., 3., 4.],\n",
       "        [0., 1., 2., 3., 4.],\n",
       "        [0., 1., 2., 3., 4.],\n",
       "        [0., 1., 2., 3., 4.]])"
      ]
     },
     "execution_count": 19,
     "metadata": {},
     "output_type": "execute_result"
    }
   ],
   "source": [
    "pos_map=pos_map.reshape(5, 5, 2)\n",
    "pos_map[..., 0]"
   ]
  },
  {
   "cell_type": "code",
   "execution_count": 20,
   "metadata": {},
   "outputs": [
    {
     "data": {
      "text/plain": [
       "tensor([[4., 4., 4., 4., 4.],\n",
       "        [3., 3., 3., 3., 3.],\n",
       "        [2., 2., 2., 2., 2.],\n",
       "        [1., 1., 1., 1., 1.],\n",
       "        [0., 0., 0., 0., 0.]])"
      ]
     },
     "execution_count": 20,
     "metadata": {},
     "output_type": "execute_result"
    }
   ],
   "source": [
    "pos_map[..., 1]"
   ]
  },
  {
   "cell_type": "code",
   "execution_count": 21,
   "metadata": {},
   "outputs": [
    {
     "data": {
      "text/plain": [
       "<matplotlib.image.AxesImage at 0x2ac39e26ee0>"
      ]
     },
     "execution_count": 21,
     "metadata": {},
     "output_type": "execute_result"
    },
    {
     "data": {
      "image/png": "[encoded data removed]",
      "text/plain": [
       "<Figure size 432x288 with 1 Axes>"
      ]
     },
     "metadata": {
      "needs_background": "light"
     },
     "output_type": "display_data"
    }
   ],
   "source": [
    "import matplotlib.pyplot as plt\n",
    "plt.imshow(pos_map[...,0])"
   ]
  },
  {
   "cell_type": "code",
   "execution_count": 22,
   "metadata": {},
   "outputs": [],
   "source": [
    "# import torch\n",
    "# # map_prod = map_x* map_y\n",
    "# # source_pos = torch.tensor(source_map_position)\n",
    "# # bsize, time_len = source_map_position.shape[:2]\n",
    "\n",
    "# # pos_map = torch.stack((torch.arange(map_prod) // map_y, torch.arange(map_prod) % map_y), dim=-1).type(torch.float)\n",
    "\n",
    "# # map_distance = torch.cdist(source_pos.type(torch.float), pos_map.type(torch.float)).reshape(bsize, time_len, map_x, map_y)\n",
    "# # distance_map_final = map_distance.numpy().copy()[source_detect_mask]\n",
    "\n",
    "# pos_map = torch.zeros((map_x, map_y, 2))\n",
    "# for i in range(map_x):\n",
    "#     for j in range(map_y):\n",
    "#         pos_map[i][j] = torch.tensor([j-map_y//2, map_y//2 - i])\n",
    "# pos_map = pos_map.reshape(map_x * map_y, 2)\n",
    "# bsize, time_len = X_input.shape[:2]\n",
    "# map_distance = torch.cdist(torch.tensor(source_map_position).type(torch.float), pos_map.type(torch.float)).reshape(bsize, time_len, map_x, map_y)\n",
    "# distance_map_final = map_distance.numpy().copy()[source_detect_mask]\n"
   ]
  },
  {
   "cell_type": "markdown",
   "metadata": {},
   "source": [
    "# Create Distance Map"
   ]
  },
  {
   "cell_type": "code",
   "execution_count": 23,
   "metadata": {},
   "outputs": [],
   "source": [
    "# import torch\n",
    "# map_prod = map_x* map_y\n",
    "# source_pos = torch.tensor(source_map_position)\n",
    "# bsize, time_len = source_map_position.shape[:2]\n",
    "\n",
    "# pos_map = torch.stack((torch.arange(map_prod) // map_y, torch.arange(map_prod) % map_y), dim=-1).type(torch.float)\n",
    "\n",
    "# map_distance = torch.cdist(source_pos.type(torch.float), pos_map.type(torch.float)).reshape(bsize, map_x, map_y)\n",
    "# distance_map_final = map_distance.unsqueeze(1).repeat(1,time_len,1, 1)\n",
    "\n",
    "# mask_map = np.sum(detected_heat_map_final, axis = (-2, -1)) >0 \n",
    "# distance_map_final = distance_map_final * mask_map[..., None, None]\n",
    "# print(distance_map_final.shape)"
   ]
  },
  {
   "cell_type": "code",
   "execution_count": 24,
   "metadata": {},
   "outputs": [],
   "source": [
    "def writeToFile(data, file_path):\n",
    "    with open(file_path, 'wb') as f:\n",
    "        x = pickle.dump(data, f)\n",
    "        \n",
    "def readFile(file_path):\n",
    "    with open(file_path,'rb') as f:\n",
    "        data = pickle.load(f)\n",
    "    return data\n",
    "\n",
    "path = \"../output/data/processedData/updown/{}/\".format(map_x)\n",
    "\n",
    "X_input_path = path+\"XInput.pkl\"\n",
    "detected_heat_map_path = path+\"detectedHeatMap.pkl\"\n",
    "source_map_position_path = path+\"sourceMapPosition.pkl\"\n",
    "\n",
    "X_input_final_path = path+\"XInput_final.pkl\"\n",
    "# detected_heat_map_final_path = \"../output/data/processedData/detectedHeatMap_final.pkl\"\n",
    "source_map_position_final_path = path+\"sourceMapPosition_final.pkl\"\n",
    "# source_map_position_timelen_final_path = \"../output/data/processedData/sourceMapPositionTimelen_final.pkl\"\n",
    "distance_map_final_path = path+\"distance_map_final.pkl\"\n",
    "agent_action_final_path = path+\"agent_action_final.pkl\"\n",
    "source_inside_final_path = path+\"source_inside_final.pkl\"\n",
    "\n",
    "writeToFile(X_input, X_input_path)\n",
    "# writeToFile(detected_heat_map, detected_heat_map_path)\n",
    "writeToFile(source_map_position, source_map_position_path)\n",
    "\n",
    "writeToFile(X_input_final, X_input_final_path)\n",
    "# writeToFile(detected_heat_map_final, detected_heat_map_final_path)\n",
    "writeToFile(source_map_position_final, source_map_position_final_path)\n",
    "writeToFile(distance_map_final, distance_map_final_path)\n",
    "# writeToFile(source_map_position_timelen_final, source_map_position_timelen_final_path)\n",
    "writeToFile(agent_action_final, agent_action_final_path)\n",
    "# writeToFile(source_inside_final, source_inside_final_path)\n"
   ]
  },
  {
   "cell_type": "code",
   "execution_count": 16,
   "metadata": {},
   "outputs": [
    {
     "data": {
      "text/plain": [
       "(14548, 120)"
      ]
     },
     "execution_count": 16,
     "metadata": {},
     "output_type": "execute_result"
    }
   ],
   "source": [
    "source_pos = source_map_position_final.copy()\n",
    "source_inside = (source_pos[...,0]>=0) & (source_pos[...,0]<map_x) & (source_pos[...,1]>=0) & (source_pos[...,1]<map_y)\n",
    "source_inside.shape"
   ]
  },
  {
   "cell_type": "code",
   "execution_count": 21,
   "metadata": {},
   "outputs": [
    {
     "data": {
      "text/plain": [
       "(14548, 120, 5, 5)"
      ]
     },
     "execution_count": 21,
     "metadata": {},
     "output_type": "execute_result"
    }
   ],
   "source": [
    "distance_map_final.shape"
   ]
  },
  {
   "cell_type": "code",
   "execution_count": 33,
   "metadata": {},
   "outputs": [
    {
     "data": {
      "text/plain": [
       "(10548, 120, 2)"
      ]
     },
     "execution_count": 33,
     "metadata": {},
     "output_type": "execute_result"
    }
   ],
   "source": [
    "source_map_position_final = source_map_position[source_detect_mask]\n",
    "source_position_final = source_position[source_detect_mask]\n",
    "source_map_position_final.shape"
   ]
  },
  {
   "cell_type": "code",
   "execution_count": 38,
   "metadata": {},
   "outputs": [
    {
     "data": {
      "text/plain": [
       "(10548, 2)"
      ]
     },
     "execution_count": 38,
     "metadata": {},
     "output_type": "execute_result"
    }
   ],
   "source": [
    "source_position_final.shape"
   ]
  },
  {
   "cell_type": "code",
   "execution_count": 31,
   "metadata": {},
   "outputs": [
    {
     "data": {
      "text/plain": [
       "array([ 0, -1])"
      ]
     },
     "execution_count": 31,
     "metadata": {},
     "output_type": "execute_result"
    }
   ],
   "source": [
    "source_map_position_final[1][0]"
   ]
  },
  {
   "cell_type": "code",
   "execution_count": 32,
   "metadata": {},
   "outputs": [
    {
     "data": {
      "text/plain": [
       "array([[3.6055512, 3.1622777, 3.       , 3.1622777, 3.6055512],\n",
       "       [2.828427 , 2.236068 , 2.       , 2.236068 , 2.828427 ],\n",
       "       [2.236068 , 1.4142135, 1.       , 1.4142135, 2.236068 ],\n",
       "       [2.       , 1.       , 0.       , 1.       , 2.       ],\n",
       "       [2.236068 , 1.4142135, 1.       , 1.4142135, 2.236068 ]],\n",
       "      dtype=float32)"
      ]
     },
     "execution_count": 32,
     "metadata": {},
     "output_type": "execute_result"
    }
   ],
   "source": [
    "distance_map_final[1][0]"
   ]
  },
  {
   "cell_type": "code",
   "execution_count": 75,
   "metadata": {},
   "outputs": [
    {
     "ename": "NameError",
     "evalue": "name 'no_middle_pos_mask' is not defined",
     "output_type": "error",
     "traceback": [
      "\u001b[1;31m---------------------------------------------------------------------------\u001b[0m",
      "\u001b[1;31mNameError\u001b[0m                                 Traceback (most recent call last)",
      "\u001b[1;32m<ipython-input-75-5d1d9be1d7bb>\u001b[0m in \u001b[0;36m<module>\u001b[1;34m\u001b[0m\n\u001b[1;32m----> 1\u001b[1;33m \u001b[0mX_input_final\u001b[0m\u001b[1;33m[\u001b[0m\u001b[0mno_middle_pos_mask\u001b[0m\u001b[1;33m]\u001b[0m\u001b[1;33m.\u001b[0m\u001b[0mshape\u001b[0m\u001b[1;33m\u001b[0m\u001b[1;33m\u001b[0m\u001b[0m\n\u001b[0m",
      "\u001b[1;31mNameError\u001b[0m: name 'no_middle_pos_mask' is not defined"
     ]
    }
   ],
   "source": [
    "X_input_final[no_middle_pos_mask].shape"
   ]
  },
  {
   "cell_type": "code",
   "execution_count": 55,
   "metadata": {},
   "outputs": [],
   "source": [
    "middle_pos_1d = (map_x * map_y)//2\n",
    "source_map_position_1d = source_map_position_final[... ,0] * map_y + source_map_position_final[..., 1]\n",
    "source_map_position_1d.shape\n",
    "source_middle_pos_mask = source_map_position_1d == middle_pos_1d"
   ]
  },
  {
   "cell_type": "code",
   "execution_count": 57,
   "metadata": {},
   "outputs": [
    {
     "data": {
      "text/plain": [
       "2279"
      ]
     },
     "execution_count": 57,
     "metadata": {},
     "output_type": "execute_result"
    }
   ],
   "source": [
    "np.sum(source_middle_pos_mask.sum(axis = 1)>0)"
   ]
  },
  {
   "cell_type": "code",
   "execution_count": 38,
   "metadata": {},
   "outputs": [],
   "source": [
    "# drop middle data\n",
    "middle_pos_1d = (map_x * map_y)//2\n",
    "source_map_position_1d = source_map_position_final[:, 0 ,0] * map_y + source_map_position_final[:, 0, 1]\n",
    "source_map_position_1d.shape\n",
    "source_middle_pos_mask = source_map_position_1d == middle_pos_1d\n",
    "no_middle_pos_mask = np.logical_not(source_middle_pos_mask)\n",
    "\n",
    "# #apply mask\n",
    "source_detect_final = source_detect_final[no_middle_pos_mask]\n",
    "X_input_final = X_input_final[no_middle_pos_mask] \n",
    "# detected_heat_map_final = detected_heat_map[source_detect_mask] \n",
    "# water_flow_force_final = water_flow_force[source_detect_mask]\n",
    "source_map_position_final = source_map_position_final[no_middle_pos_mask]\n",
    "source_detect = source_detect[no_middle_pos_mask]\n",
    "agent_action_final =agent_action_final[no_middle_pos_mask]\n",
    "source_inside_final = source_inside_final[no_middle_pos_mask]"
   ]
  },
  {
   "cell_type": "code",
   "execution_count": 23,
   "metadata": {},
   "outputs": [],
   "source": [
    "def getXInputValid(X_input_final, T):\n",
    "    len_data = X_input_final.shape[0]\n",
    "    threshold_T = 1#T // 2\n",
    "    X_input_positive_cum_sum = torch.cumsum(X_input_final[..., 0] > 0, dim = -1) # bsize. time_len\n",
    "    X_input_positive_cum_sum[:, threshold_T:] = X_input_positive_cum_sum[:, threshold_T:] - X_input_positive_cum_sum[:, :-threshold_T]\n",
    "\n",
    "    X_input_valid = (X_input_positive_cum_sum - threshold_T) >= 0\n",
    "    print(torch.sum(X_input_valid) / np.product(X_input_valid.numpy().shape))\n",
    "    return X_input_valid.numpy()"
   ]
  },
  {
   "cell_type": "code",
   "execution_count": 24,
   "metadata": {},
   "outputs": [
    {
     "name": "stdout",
     "output_type": "stream",
     "text": [
      "tensor(0.1932)\n"
     ]
    }
   ],
   "source": [
    "X_valid = getXInputValid(torch.tensor(X_input_final), 5)"
   ]
  },
  {
   "cell_type": "code",
   "execution_count": 35,
   "metadata": {},
   "outputs": [
    {
     "data": {
      "text/plain": [
       "(244517, 2)"
      ]
     },
     "execution_count": 35,
     "metadata": {},
     "output_type": "execute_result"
    }
   ],
   "source": [
    "source_map_valid = source_map_position_final[X_valid]\n",
    "# source_map_position_1d = (source_map_valid[...,0] + 30) * map_y + source_map_valid[..., 1] + 30\n",
    "# source_map_position_1d.shape\n",
    "source_map_valid.shape"
   ]
  },
  {
   "cell_type": "code",
   "execution_count": 26,
   "metadata": {},
   "outputs": [],
   "source": [
    "source_map_mask = (np.abs(source_map_valid[:, 0]) <=(map_x//2 )) & (np.abs(source_map_valid[:, 1]) <=(map_y//2 ))"
   ]
  },
  {
   "cell_type": "code",
   "execution_count": 27,
   "metadata": {},
   "outputs": [
    {
     "data": {
      "text/plain": [
       "(98463, 2)"
      ]
     },
     "execution_count": 27,
     "metadata": {},
     "output_type": "execute_result"
    }
   ],
   "source": [
    "source_map_valid = source_map_valid[source_map_mask]\n",
    "source_map_valid.shape"
   ]
  },
  {
   "cell_type": "code",
   "execution_count": 28,
   "metadata": {},
   "outputs": [
    {
     "data": {
      "text/plain": [
       "(98463, 2)"
      ]
     },
     "execution_count": 28,
     "metadata": {},
     "output_type": "execute_result"
    }
   ],
   "source": [
    "source_map_valid.shape"
   ]
  },
  {
   "cell_type": "code",
   "execution_count": 34,
   "metadata": {},
   "outputs": [
    {
     "data": {
      "text/plain": [
       "98463"
      ]
     },
     "execution_count": 34,
     "metadata": {},
     "output_type": "execute_result"
    }
   ],
   "source": [
    "np.sum(temp[1])"
   ]
  },
  {
   "cell_type": "code",
   "execution_count": 29,
   "metadata": {},
   "outputs": [],
   "source": [
    "temp = np.unique(source_map_valid, axis = 0, return_counts=True)"
   ]
  },
  {
   "cell_type": "code",
   "execution_count": 36,
   "metadata": {},
   "outputs": [
    {
     "data": {
      "text/plain": [
       "array([[0.   , 0.001, 0.004, 0.004, 0.004],\n",
       "       [0.001, 0.002, 0.007, 0.005, 0.006],\n",
       "       [0.003, 0.005, 0.035, 0.018, 0.017],\n",
       "       [0.002, 0.003, 0.027, 0.025, 0.037],\n",
       "       [0.002, 0.005, 0.03 , 0.045, 0.116]])"
      ]
     },
     "execution_count": 36,
     "metadata": {},
     "output_type": "execute_result"
    }
   ],
   "source": [
    "np.set_printoptions(precision=3)\n",
    "(temp[1]/len(source_map_valid)).reshape(5, 5)"
   ]
  },
  {
   "cell_type": "code",
   "execution_count": 37,
   "metadata": {},
   "outputs": [
    {
     "data": {
      "text/plain": [
       "0.4026836579869702"
      ]
     },
     "execution_count": 37,
     "metadata": {},
     "output_type": "execute_result"
    }
   ],
   "source": [
    "np.sum(temp[1]/len(source_map_valid))"
   ]
  },
  {
   "cell_type": "code",
   "execution_count": 21,
   "metadata": {},
   "outputs": [],
   "source": [
    "pos, n_appear = np.unique(source_map_position_1d, return_counts=True)\n",
    "pos_mask = (pos>=0) & (pos<map_x * map_y)\n",
    "n_appear = n_appear[pos_mask]"
   ]
  },
  {
   "cell_type": "code",
   "execution_count": 22,
   "metadata": {},
   "outputs": [
    {
     "ename": "ValueError",
     "evalue": "cannot reshape array of size 0 into shape (5,5)",
     "output_type": "error",
     "traceback": [
      "\u001b[1;31m---------------------------------------------------------------------------\u001b[0m",
      "\u001b[1;31mValueError\u001b[0m                                Traceback (most recent call last)",
      "\u001b[1;32m<ipython-input-22-3afa3cfc885c>\u001b[0m in \u001b[0;36m<module>\u001b[1;34m\u001b[0m\n\u001b[0;32m      1\u001b[0m \u001b[0mnp\u001b[0m\u001b[1;33m.\u001b[0m\u001b[0mset_printoptions\u001b[0m\u001b[1;33m(\u001b[0m\u001b[0mprecision\u001b[0m\u001b[1;33m=\u001b[0m\u001b[1;36m2\u001b[0m\u001b[1;33m,\u001b[0m \u001b[0msuppress\u001b[0m \u001b[1;33m=\u001b[0m \u001b[1;32mTrue\u001b[0m\u001b[1;33m)\u001b[0m\u001b[1;33m\u001b[0m\u001b[1;33m\u001b[0m\u001b[0m\n\u001b[1;32m----> 2\u001b[1;33m \u001b[0mn_appear\u001b[0m\u001b[1;33m.\u001b[0m\u001b[0mreshape\u001b[0m\u001b[1;33m(\u001b[0m\u001b[0mmap_x\u001b[0m\u001b[1;33m,\u001b[0m \u001b[0mmap_y\u001b[0m\u001b[1;33m)\u001b[0m\u001b[1;33m/\u001b[0m\u001b[0mnp\u001b[0m\u001b[1;33m.\u001b[0m\u001b[0msum\u001b[0m\u001b[1;33m(\u001b[0m\u001b[0mn_appear\u001b[0m\u001b[1;33m)\u001b[0m\u001b[1;33m\u001b[0m\u001b[1;33m\u001b[0m\u001b[0m\n\u001b[0m",
      "\u001b[1;31mValueError\u001b[0m: cannot reshape array of size 0 into shape (5,5)"
     ]
    }
   ],
   "source": [
    "np.set_printoptions(precision=2, suppress = True)\n",
    "n_appear.reshape(map_x, map_y)/np.sum(n_appear)"
   ]
  },
  {
   "cell_type": "code",
   "execution_count": null,
   "metadata": {},
   "outputs": [],
   "source": [
    "unique_rows = np.unique(original_array, axis=0)"
   ]
  },
  {
   "cell_type": "code",
   "execution_count": 85,
   "metadata": {},
   "outputs": [
    {
     "data": {
      "text/plain": [
       "array([[0.02, 0.03, 0.04, 0.03, 0.02],\n",
       "       [0.03, 0.04, 0.06, 0.04, 0.03],\n",
       "       [0.04, 0.06, 0.09, 0.06, 0.04],\n",
       "       [0.03, 0.04, 0.06, 0.04, 0.03],\n",
       "       [0.02, 0.03, 0.04, 0.03, 0.02]])"
      ]
     },
     "execution_count": 85,
     "metadata": {},
     "output_type": "execute_result"
    }
   ],
   "source": [
    "temp = np.array([0.15, 0.2, 0.3, 0.2, 0.15])\n",
    "distance_map_scale = np.atleast_2d(temp).T @ np.atleast_2d(temp)\n",
    "distance_map_scale"
   ]
  },
  {
   "cell_type": "code",
   "execution_count": 23,
   "metadata": {},
   "outputs": [
    {
     "data": {
      "text/plain": [
       "array([[4.46, 4.27, 4.23, 4.36, 4.67],\n",
       "       [4.14, 3.94, 3.89, 4.02, 4.34],\n",
       "       [4.03, 3.83, 3.77, 3.9 , 4.23],\n",
       "       [4.15, 3.95, 3.9 , 4.03, 4.35],\n",
       "       [4.48, 4.29, 4.25, 4.38, 4.69]], dtype=float32)"
      ]
     },
     "execution_count": 23,
     "metadata": {},
     "output_type": "execute_result"
    }
   ],
   "source": [
    "analize_distance_map = distance_map_final.copy()# * distance_map_scale[np.newaxis, np.newaxis,...]\n",
    "analize_distance_map.reshape(-1, 5, 5).mean(axis = 0)\n"
   ]
  },
  {
   "cell_type": "code",
   "execution_count": 88,
   "metadata": {},
   "outputs": [
    {
     "data": {
      "text/plain": [
       "(10548, 120, 5, 5)"
      ]
     },
     "execution_count": 88,
     "metadata": {},
     "output_type": "execute_result"
    }
   ],
   "source": [
    "analize_distance_map.shape"
   ]
  },
  {
   "cell_type": "code",
   "execution_count": 89,
   "metadata": {},
   "outputs": [
    {
     "data": {
      "text/plain": [
       "(10548, 120, 5, 5)"
      ]
     },
     "execution_count": 89,
     "metadata": {},
     "output_type": "execute_result"
    }
   ],
   "source": [
    "distance_map_final.shape"
   ]
  },
  {
   "cell_type": "code",
   "execution_count": 83,
   "metadata": {},
   "outputs": [],
   "source": [
    "X_input_final = torch.tensor(X_input_final)"
   ]
  },
  {
   "cell_type": "code",
   "execution_count": 84,
   "metadata": {},
   "outputs": [],
   "source": [
    "T = 5\n",
    "threshold_T = T // 2\n",
    "X_input_positive_cum_sum = torch.cumsum(X_input_final[..., 0] > 0, dim = -1) # bsize. time_len\n",
    "X_input_positive_cum_sum[:, threshold_T:] = X_input_positive_cum_sum[:, threshold_T:] - X_input_positive_cum_sum[:, :-threshold_T]\n",
    "\n",
    "X_input_valid = (X_input_positive_cum_sum - threshold_T) >= 0"
   ]
  },
  {
   "cell_type": "code",
   "execution_count": 85,
   "metadata": {},
   "outputs": [
    {
     "name": "stdout",
     "output_type": "stream",
     "text": [
      "tensor(0.2790)\n"
     ]
    }
   ],
   "source": [
    "print(torch.sum(X_input_valid) / np.product(X_input_valid.numpy().shape))"
   ]
  },
  {
   "cell_type": "code",
   "execution_count": 59,
   "metadata": {},
   "outputs": [
    {
     "data": {
      "text/plain": [
       "array([ 1,  2,  3,  4,  5,  6,  7,  8,  9, 10, 11, 12, 13, 14, 14, 14, 14,\n",
       "       14, 14, 15, 16, 17, 18, 19, 20, 21, 22, 23, 24, 25, 26, 27, 28, 28,\n",
       "       28, 28, 28, 28, 28, 28, 28, 28, 28, 29, 30, 31, 32, 33, 34, 35, 36,\n",
       "       37, 38, 39, 40, 41, 42, 43, 44, 45, 45, 45, 45, 45, 45, 45, 45, 45,\n",
       "       45, 45, 45, 45, 45, 45, 45, 45, 45, 45, 45, 45], dtype=int32)"
      ]
     },
     "execution_count": 59,
     "metadata": {},
     "output_type": "execute_result"
    }
   ],
   "source": [
    "X_input_positive_cumsum[0]"
   ]
  },
  {
   "cell_type": "code",
   "execution_count": 61,
   "metadata": {},
   "outputs": [
    {
     "data": {
      "text/plain": [
       "0.8443783353417111"
      ]
     },
     "execution_count": 61,
     "metadata": {},
     "output_type": "execute_result"
    }
   ],
   "source": [
    "X_input_valid = (X_input_positive_cumsum - threshold_T)>=0\n",
    "np.sum(X_input_valid > 0)/np.product(X_input_valid.shape)"
   ]
  },
  {
   "cell_type": "code",
   "execution_count": 46,
   "metadata": {},
   "outputs": [
    {
     "data": {
      "text/plain": [
       "(11618, 80)"
      ]
     },
     "execution_count": 46,
     "metadata": {},
     "output_type": "execute_result"
    }
   ],
   "source": [
    "X_valid_temp = np.zeros((X_input_valid.shape[0], T))\n",
    "X_input_valid_final = np.concatenate((X_valid_temp, X_input_valid), axis = -1)\n",
    "X_input_valid_final.shape"
   ]
  },
  {
   "cell_type": "code",
   "execution_count": 31,
   "metadata": {},
   "outputs": [],
   "source": [
    "X_input_positive = X_input_final[...,0]>0\n",
    "X_input_positive_cumsum = np.cumsum(X_input_positive, axis = -1)"
   ]
  },
  {
   "cell_type": "code",
   "execution_count": 19,
   "metadata": {},
   "outputs": [
    {
     "ename": "AttributeError",
     "evalue": "module 'torch' has no attribute 'new_axis'",
     "output_type": "error",
     "traceback": [
      "\u001b[1;31m---------------------------------------------------------------------------\u001b[0m",
      "\u001b[1;31mAttributeError\u001b[0m                            Traceback (most recent call last)",
      "\u001b[1;32m<ipython-input-19-75344aebb64e>\u001b[0m in \u001b[0;36m<module>\u001b[1;34m\u001b[0m\n\u001b[0;32m      1\u001b[0m \u001b[0ma\u001b[0m \u001b[1;33m=\u001b[0m \u001b[0mtorch\u001b[0m\u001b[1;33m.\u001b[0m\u001b[0mones\u001b[0m\u001b[1;33m(\u001b[0m\u001b[1;33m(\u001b[0m\u001b[1;36m3\u001b[0m\u001b[1;33m,\u001b[0m\u001b[1;36m1\u001b[0m\u001b[1;33m,\u001b[0m\u001b[1;36m2\u001b[0m\u001b[1;33m,\u001b[0m\u001b[1;36m3\u001b[0m\u001b[1;33m)\u001b[0m\u001b[1;33m)\u001b[0m\u001b[1;33m\u001b[0m\u001b[1;33m\u001b[0m\u001b[0m\n\u001b[1;32m----> 2\u001b[1;33m \u001b[0ma\u001b[0m\u001b[1;33m.\u001b[0m\u001b[0msum\u001b[0m\u001b[1;33m(\u001b[0m\u001b[0mdim\u001b[0m \u001b[1;33m=\u001b[0m \u001b[0ma\u001b[0m\u001b[1;33m.\u001b[0m\u001b[0mshape\u001b[0m\u001b[1;33m[\u001b[0m\u001b[1;36m1\u001b[0m\u001b[1;33m:\u001b[0m\u001b[1;33m]\u001b[0m\u001b[1;33m)\u001b[0m\u001b[1;33m.\u001b[0m\u001b[0mshape\u001b[0m\u001b[1;33m[\u001b[0m\u001b[1;33m...\u001b[0m\u001b[1;33m,\u001b[0m \u001b[0mtorch\u001b[0m\u001b[1;33m.\u001b[0m\u001b[0mnew_axis\u001b[0m\u001b[1;33m]\u001b[0m\u001b[1;33m\u001b[0m\u001b[1;33m\u001b[0m\u001b[0m\n\u001b[0m",
      "\u001b[1;31mAttributeError\u001b[0m: module 'torch' has no attribute 'new_axis'"
     ]
    }
   ],
   "source": [
    "a = torch.ones((3,1,2,3))\n",
    "a.sum(dim = a.shape[1:]).shape[..., torch.new_axis]"
   ]
  },
  {
   "cell_type": "code",
   "execution_count": 93,
   "metadata": {},
   "outputs": [],
   "source": [
    "a = np.array([9, 4, 4, 3, 3, 9, 0, 4, 6, 0])\n",
    "ind = np.argpartition(a, -4)"
   ]
  },
  {
   "cell_type": "code",
   "execution_count": 94,
   "metadata": {},
   "outputs": [
    {
     "data": {
      "text/plain": [
       "array([6, 9, 4, 3, 7, 2, 1, 5, 8, 0], dtype=int64)"
      ]
     },
     "execution_count": 94,
     "metadata": {},
     "output_type": "execute_result"
    }
   ],
   "source": [
    "ind"
   ]
  },
  {
   "cell_type": "markdown",
   "metadata": {},
   "source": [
    "# Create agent action"
   ]
  },
  {
   "cell_type": "code",
   "execution_count": 1,
   "metadata": {},
   "outputs": [
    {
     "name": "stdout",
     "output_type": "stream",
     "text": [
      "15 80\n"
     ]
    }
   ],
   "source": [
    "import numpy as np\n",
    "from simulation.odorSimulation.aquaEnv import AquaEnv\n",
    "from policy.QLearning import QLearning\n",
    "from policy.QGammaLearning import QGammaLearning\n",
    "\n",
    "env_arg = {\n",
    "    # env_arg\n",
    "    \"mode\": 1,\n",
    "    \"boundary\": np.array([(0, 300), (-60, 60)]),  # boundary of environment\n",
    "    \"boundary_map\": np.array([15, 15]),\n",
    "    \"time_step\": 200,  # simulation time_length\n",
    "    \"total_map_x\": 10,  # Heatmap resolution (10 x20)\n",
    "    \"total_map_y\": 4,\n",
    "    \"map_x\": 1,\n",
    "    \"map_y\": 1,\n",
    "\n",
    "    # water_flow\n",
    "    \"max_water_flow_force\": 7,  # water_flow_force vector\n",
    "    \"min_water_flow_force\": 3,  # water_flow_force vector\n",
    "    \"max_random_turbulence\": 2,\n",
    "    \"random_water_flow\": True,  # random_water_flow_force\n",
    "\n",
    "    # training\n",
    "    \"episode_limit\": 80,\n",
    "    \"feature_dim\": 3,\n",
    "\n",
    "    # reward design\n",
    "    'success_reward': 300,\n",
    "}\n",
    "\n",
    "agent_arg = {\n",
    "    \"position\": np.array([220, 0]),\n",
    "    \"dt\": 5,\n",
    "    \"speed\": 1,\n",
    "    \"radius\": 10,\n",
    "\n",
    "    # possible actions\n",
    "    \"directions\": np.array([[0, -1], [0, 1]]), # up/down action, #np.array([[0, -1], [1, 0], [0, 1], [-1, 0]]),  \n",
    "    \"action_dim\": 2,\n",
    "\n",
    "    # initialize\n",
    "    \"random_start\": False,\n",
    "    \"random_range\": np.array([[0.4, 1], [0, 1]]),\n",
    "    \"random_direction\": True,\n",
    "\n",
    "}\n",
    "\n",
    "source_arg = {\n",
    "    \"position\": np.array([0, 0]),\n",
    "    \"dt\": 1,\n",
    "    \"decay_rate\": 0.97,\n",
    "    \"spawn_scale\": 0.2,  # source produces \"concentration/spawn scale\" odor packets per time_step\n",
    "    \"size_scale\": 1.05,\n",
    "    \"concentration_threshold\": 0.3,\n",
    "    \n",
    "    # initialize\n",
    "    \"random_start\": True,\n",
    "    \"random_range\": np.array([[0.1, 0.7], [0.1, 0.9]]),\n",
    "    \"random_direction\": True,\n",
    "    \"random_concentration\": True,\n",
    "    \"min_concentration\": 0.6,\n",
    "    \"max_concentration\": 1.0,\n",
    "    \"burn_in\": True,\n",
    "}\n",
    "\n",
    "wind_arg = {\n",
    "    # Turbulence\n",
    "    \"energy\": 0.2,\n",
    "    \"length_scale\": 10,\n",
    "    \"tau_f\": 5,\n",
    "    \"sampling_interval\": 1 / 2,\n",
    "}\n",
    "\n",
    "env_arg['action_dim'] = agent_arg['action_dim']\n",
    "\n",
    "# generate environment\n",
    "\n",
    "env = AquaEnv(env_arg, agent_arg, source_arg, wind_arg)\n"
   ]
  },
  {
   "cell_type": "code",
   "execution_count": 2,
   "metadata": {},
   "outputs": [],
   "source": [
    "save_list = [\n",
    "             (\"self.agent\", \"position\"),\n",
    "             (\"self\", \"action\"),\n",
    "             ]\n",
    "episode_data = env.getEpisodeData(save_list)"
   ]
  },
  {
   "cell_type": "code",
   "execution_count": 13,
   "metadata": {},
   "outputs": [
    {
     "name": "stdout",
     "output_type": "stream",
     "text": [
      "(8635, 80, 10, 10)\n"
     ]
    }
   ],
   "source": [
    "print(detected_heat_map_final.shape)\n",
    "bsize, time_len, map_x, map_y = detected_heat_map_final.shape"
   ]
  },
  {
   "cell_type": "code",
   "execution_count": 364,
   "metadata": {},
   "outputs": [
    {
     "data": {
      "text/plain": [
       "array([[0.  , 0.  , 0.  , 0.  , 0.  , 0.  , 0.  , 0.  ],\n",
       "       [0.  , 0.  , 0.  , 0.  , 0.  , 0.  , 0.  , 0.  ],\n",
       "       [0.  , 0.87, 0.  , 0.  , 0.  , 0.  , 0.  , 0.  ],\n",
       "       [0.  , 0.  , 0.  , 0.  , 0.  , 0.  , 0.  , 0.  ],\n",
       "       [0.  , 0.  , 0.  , 0.  , 0.  , 0.  , 0.  , 0.  ],\n",
       "       [0.  , 0.  , 0.  , 0.  , 0.  , 0.  , 0.  , 0.  ],\n",
       "       [0.  , 0.  , 0.  , 0.  , 0.  , 0.  , 0.  , 0.  ],\n",
       "       [0.  , 0.  , 0.  , 0.  , 0.  , 0.  , 0.  , 0.  ],\n",
       "       [0.  , 0.  , 0.  , 0.  , 0.  , 0.  , 0.  , 0.  ],\n",
       "       [0.  , 0.  , 0.  , 0.  , 0.  , 0.  , 0.  , 0.  ]])"
      ]
     },
     "execution_count": 364,
     "metadata": {},
     "output_type": "execute_result"
    }
   ],
   "source": [
    "np.round(detected_heat_map_final[3, -1, ...], 2)"
   ]
  },
  {
   "cell_type": "code",
   "execution_count": 365,
   "metadata": {},
   "outputs": [
    {
     "data": {
      "text/plain": [
       "array([[0.  , 0.  , 0.  , 0.  , 0.  , 0.  , 0.  , 0.  ],\n",
       "       [0.  , 0.  , 0.  , 0.  , 0.  , 0.  , 0.  , 0.  ],\n",
       "       [0.  , 0.87, 0.  , 0.  , 0.  , 0.  , 0.  , 0.  ],\n",
       "       [0.  , 0.  , 0.  , 0.  , 0.  , 0.  , 0.  , 0.  ],\n",
       "       [0.  , 0.  , 0.  , 0.  , 0.  , 0.  , 0.  , 0.  ],\n",
       "       [0.  , 0.  , 0.  , 0.  , 0.  , 0.  , 0.  , 0.  ],\n",
       "       [0.  , 0.  , 0.  , 0.  , 0.  , 0.  , 0.  , 0.  ],\n",
       "       [0.  , 0.  , 0.  , 0.  , 0.  , 0.  , 0.  , 0.  ],\n",
       "       [0.  , 0.  , 0.  , 0.  , 0.  , 0.  , 0.  , 0.  ],\n",
       "       [0.  , 0.  , 0.  , 0.  , 0.  , 0.  , 0.  , 0.  ]])"
      ]
     },
     "execution_count": 365,
     "metadata": {},
     "output_type": "execute_result"
    }
   ],
   "source": [
    "np.round(detected_heat_map_final[3, -1, ...], 2).reshape(-1).reshape(10, 8)"
   ]
  },
  {
   "cell_type": "code",
   "execution_count": 370,
   "metadata": {},
   "outputs": [],
   "source": [
    "source_analysis = np.sum(detected_heat_map_final[:, -1]>0, axis = 0)"
   ]
  },
  {
   "cell_type": "code",
   "execution_count": 374,
   "metadata": {},
   "outputs": [
    {
     "data": {
      "text/plain": [
       "array([[  0,  37,  41,  48,  53,  46,  63,   0,   0,   0],\n",
       "       [  0, 131, 225, 219, 235, 247, 258,   0,   0,   0],\n",
       "       [  0, 153, 190, 229, 281, 261, 245,   0,   0,   0],\n",
       "       [  0, 135, 190, 276, 276, 249, 269,   0,   0,   0],\n",
       "       [  0, 118, 198, 241, 245, 257, 253,   0,   0,   0],\n",
       "       [  0, 140, 199, 268, 259, 276, 273,   0,   0,   0],\n",
       "       [  0, 135, 212, 249, 255, 252, 263,   0,   0,   0],\n",
       "       [  0,  18,  24,  36,  30,  37,  40,   0,   0,   0]])"
      ]
     },
     "execution_count": 374,
     "metadata": {},
     "output_type": "execute_result"
    }
   ],
   "source": [
    "source_analysis.T[::-1]"
   ]
  },
  {
   "cell_type": "code",
   "execution_count": 372,
   "metadata": {},
   "outputs": [
    {
     "data": {
      "text/plain": [
       "array([[  0,   0,   0,   0,   0,   0,   0,   0],\n",
       "       [ 18, 135, 140, 118, 135, 153, 131,  37],\n",
       "       [ 24, 212, 199, 198, 190, 190, 225,  41],\n",
       "       [ 36, 249, 268, 241, 276, 229, 219,  48],\n",
       "       [ 30, 255, 259, 245, 276, 281, 235,  53],\n",
       "       [ 37, 252, 276, 257, 249, 261, 247,  46],\n",
       "       [ 40, 263, 273, 253, 269, 245, 258,  63],\n",
       "       [  0,   0,   0,   0,   0,   0,   0,   0],\n",
       "       [  0,   0,   0,   0,   0,   0,   0,   0],\n",
       "       [  0,   0,   0,   0,   0,   0,   0,   0]])"
      ]
     },
     "execution_count": 372,
     "metadata": {},
     "output_type": "execute_result"
    }
   ],
   "source": [
    "source_analysis.reshape(-1).reshape((10, 8))"
   ]
  },
  {
   "cell_type": "code",
   "execution_count": 346,
   "metadata": {},
   "outputs": [],
   "source": [
    "values, counts = np.unique(source_location_analystic, return_counts=True)"
   ]
  },
  {
   "cell_type": "code",
   "execution_count": 379,
   "metadata": {},
   "outputs": [
    {
     "data": {
      "text/plain": [
       "614022"
      ]
     },
     "execution_count": 379,
     "metadata": {},
     "output_type": "execute_result"
    }
   ],
   "source": [
    "np.sum(detected_heat_map_final>0)"
   ]
  },
  {
   "cell_type": "code",
   "execution_count": 377,
   "metadata": {},
   "outputs": [
    {
     "data": {
      "text/plain": [
       "(8635, 80, 10, 8)"
      ]
     },
     "execution_count": 377,
     "metadata": {},
     "output_type": "execute_result"
    }
   ],
   "source": [
    "detected_heat_map_final.shape"
   ]
  },
  {
   "cell_type": "code",
   "execution_count": 299,
   "metadata": {},
   "outputs": [
    {
     "data": {
      "text/plain": [
       "array([6, 5])"
      ]
     },
     "execution_count": 299,
     "metadata": {},
     "output_type": "execute_result"
    }
   ],
   "source": [
    "source_map_position[source_detect_mask][12]"
   ]
  },
  {
   "cell_type": "code",
   "execution_count": 300,
   "metadata": {},
   "outputs": [
    {
     "data": {
      "text/plain": [
       "53"
      ]
     },
     "execution_count": 300,
     "metadata": {},
     "output_type": "execute_result"
    }
   ],
   "source": [
    "detected_heat_map_final[12][2].argmax()"
   ]
  },
  {
   "cell_type": "code",
   "execution_count": 304,
   "metadata": {},
   "outputs": [
    {
     "data": {
      "text/plain": [
       "<matplotlib.image.AxesImage at 0x23c45768700>"
      ]
     },
     "execution_count": 304,
     "metadata": {},
     "output_type": "execute_result"
    },
    {
     "data": {
      "image/png": "[encoded data removed]",
      "text/plain": [
       "<Figure size 432x288 with 1 Axes>"
      ]
     },
     "metadata": {
      "needs_background": "light"
     },
     "output_type": "display_data"
    }
   ],
   "source": [
    "plt.imshow(detected_heat_map_final[12][2].T)"
   ]
  },
  {
   "cell_type": "code",
   "execution_count": 302,
   "metadata": {},
   "outputs": [
    {
     "data": {
      "text/plain": [
       "<matplotlib.image.AxesImage at 0x23c3d2ccd30>"
      ]
     },
     "execution_count": 302,
     "metadata": {},
     "output_type": "execute_result"
    },
    {
     "data": {
      "image/png": "[encoded data removed]",
      "text/plain": [
       "<Figure size 432x288 with 1 Axes>"
      ]
     },
     "metadata": {
      "needs_background": "light"
     },
     "output_type": "display_data"
    }
   ],
   "source": [
    "\n",
    "plt.imshow(detected_heat_map_final[12][2].swapaxes(0,1))"
   ]
  },
  {
   "cell_type": "code",
   "execution_count": 303,
   "metadata": {},
   "outputs": [
    {
     "data": {
      "text/plain": [
       "<matplotlib.image.AxesImage at 0x23c32da92b0>"
      ]
     },
     "execution_count": 303,
     "metadata": {},
     "output_type": "execute_result"
    },
    {
     "data": {
      "image/png": "[encoded data removed]",
      "text/plain": [
       "<Figure size 432x288 with 1 Axes>"
      ]
     },
     "metadata": {
      "needs_background": "light"
     },
     "output_type": "display_data"
    }
   ],
   "source": [
    "plt.imshow(detected_heat_map_final[12][2])"
   ]
  },
  {
   "cell_type": "code",
   "execution_count": 323,
   "metadata": {},
   "outputs": [
    {
     "data": {
      "text/plain": [
       "array([[0., 0., 0., 0.],\n",
       "       [0., 0., 0., 0.],\n",
       "       [0., 0., 0., 0.],\n",
       "       [0., 0., 1., 3.],\n",
       "       [0., 0., 0., 0.]])"
      ]
     },
     "execution_count": 323,
     "metadata": {},
     "output_type": "execute_result"
    }
   ],
   "source": [
    "temp = np.zeros((5,4))\n",
    "temp[-2, -2] = 1\n",
    "temp[-2, -1] = 3\n",
    "temp"
   ]
  },
  {
   "cell_type": "code",
   "execution_count": 324,
   "metadata": {},
   "outputs": [
    {
     "data": {
      "text/plain": [
       "array([[0., 0., 0., 3., 0.],\n",
       "       [0., 0., 0., 1., 0.],\n",
       "       [0., 0., 0., 0., 0.],\n",
       "       [0., 0., 0., 0., 0.]])"
      ]
     },
     "execution_count": 324,
     "metadata": {},
     "output_type": "execute_result"
    }
   ],
   "source": [
    "temp.T[::-1]"
   ]
  },
  {
   "cell_type": "code",
   "execution_count": 309,
   "metadata": {},
   "outputs": [
    {
     "data": {
      "text/plain": [
       "array([[0, 2, 4],\n",
       "       [1, 3, 5]])"
      ]
     },
     "execution_count": 309,
     "metadata": {},
     "output_type": "execute_result"
    }
   ],
   "source": [
    "temp.swapaxes(0,1)"
   ]
  },
  {
   "cell_type": "code",
   "execution_count": 3,
   "metadata": {},
   "outputs": [
    {
     "data": {
      "text/plain": [
       "array([[  0, 300],\n",
       "       [-60,  60]])"
      ]
     },
     "execution_count": 3,
     "metadata": {},
     "output_type": "execute_result"
    }
   ],
   "source": [
    "import numpy as np\n",
    "a = np.array([(0, 300), (-60, 60)])\n",
    "a"
   ]
  },
  {
   "cell_type": "code",
   "execution_count": 51,
   "metadata": {},
   "outputs": [],
   "source": [
    "def torchClip2D(in_map, out_map):\n",
    "    # in_map = (bsize, 2, 2)\n",
    "    # out_map = (2, 2)\n",
    "    l = torch.atleast_2d(out_map[:, 0]).T\n",
    "    r = torch.atleast_2d(out_map[:, 1]).T    \n",
    "    overlap_boundary = torch.max(torch.min(in_map, r), l)\n",
    "    return overlap_boundary\n",
    "    \n",
    "def getOverLapMapArea(global_boundary, local_boundary, global_map_boundary, local_map_boundary):\n",
    "    # global_boundary = (2, 2)    \n",
    "    # local_boundary = (bsize, 2, 2) #torch\n",
    "    # global_map_boundary = \n",
    "    # local_map_boundary = (2, 2)\n",
    "    \n",
    "    #expected: \n",
    "    # global_map_range = (bsize, 2, 2)\n",
    "    # local_map_range = (bsize, 2, 2)\n",
    "    \n",
    "    overlap_boundary = torch.clip(local_boundary, global_boundary) #(bsize, 2, 2)\n",
    "    \n",
    "    "
   ]
  },
  {
   "cell_type": "code",
   "execution_count": 90,
   "metadata": {},
   "outputs": [],
   "source": [
    "import torch\n",
    "local_boundary = torch.tensor([[[50,450], [-125, 275] ], [[50,450], [1600, 2000]], [[50,450], [-125, 275] ]])\n",
    "global_boundary = torch.tensor([[0,300], [0, 100]])\n",
    "\n",
    "local_map_boundary = torch.tensor([[0, 16], [0,16]])\n",
    "global_map_boundary = torch.tensor([[0, 12], [0,4]])\n",
    "\n",
    "local_shape = torch.tensor([16, 16])\n",
    "global_shape = torch.tensor([12, 4])\n"
   ]
  },
  {
   "cell_type": "code",
   "execution_count": 91,
   "metadata": {},
   "outputs": [],
   "source": [
    "def getMapRange(mapping_boundary, boundary, map_boundary):\n",
    "    interval = (boundary[..., 1] - boundary[..., 0]) // (map_boundary[..., 1] - map_boundary[..., 0])\n",
    "\n",
    "\n",
    "    r_map_boundary = (mapping_boundary[..., 1] - boundary[..., 0]) // interval\n",
    "    l_map_boundary = (mapping_boundary[..., 0] - boundary[..., 0]) // interval\n",
    "    result_map_boundary = torchClip2D(torch.stack([l_map_boundary, r_map_boundary], dim = 2), map_boundary)\n",
    "    return result_map_boundary"
   ]
  },
  {
   "cell_type": "code",
   "execution_count": 92,
   "metadata": {},
   "outputs": [],
   "source": [
    "overlap_boundary = torchClip2D(local_boundary, global_boundary)\n",
    "local_crop_range = getMapRange(overlap_boundary, local_boundary, local_map_boundary)\n",
    "global_crop_range = getMapRange(overlap_boundary, global_boundary, global_map_boundary)"
   ]
  },
  {
   "cell_type": "code",
   "execution_count": 93,
   "metadata": {},
   "outputs": [
    {
     "data": {
      "text/plain": [
       "torch.Size([3, 2, 2])"
      ]
     },
     "execution_count": 93,
     "metadata": {},
     "output_type": "execute_result"
    }
   ],
   "source": [
    "local_crop_range.shape"
   ]
  },
  {
   "cell_type": "code",
   "execution_count": 94,
   "metadata": {},
   "outputs": [
    {
     "name": "stdout",
     "output_type": "stream",
     "text": [
      "torch.Size([3, 16, 16])\n",
      "torch.Size([3, 12, 4])\n"
     ]
    }
   ],
   "source": [
    "import numpy as np\n",
    "bsize = 3\n",
    "local_heat_map = torch.arange(bsize * np.product(local_shape.numpy())).reshape((bsize, *local_map_boundary[..., 1])).type(torch.float)\n",
    "global_heat_map = torch.zeros((bsize, *global_map_boundary[..., 1])).type(torch.float)\n",
    "\n",
    "print(local_heat_map.shape)\n",
    "print(global_heat_map.shape)"
   ]
  },
  {
   "cell_type": "code",
   "execution_count": 95,
   "metadata": {},
   "outputs": [],
   "source": [
    "torch.set_printoptions(edgeitems = 10, linewidth=100,profile='full')\n"
   ]
  },
  {
   "cell_type": "code",
   "execution_count": 96,
   "metadata": {},
   "outputs": [],
   "source": [
    "import operator as op\n",
    "from functools import reduce\n",
    "\n",
    "def getImgMask(crop_range, img_shape):\n",
    "    # crop_range = (bsize, 2, 2)\n",
    "    # image_shape = ( 2)\n",
    "    img_top_left = crop_range[... , 0]\n",
    "    img_bot_right = crop_range[..., 1]\n",
    "\n",
    "    masks = []\n",
    "    for i, img_size in enumerate(img_shape):\n",
    "        values = torch.arange(0, img_size).view(\n",
    "            (1,) * len(crop_range.shape[:-2]) + (img_size,))\n",
    "        mask = (img_top_left[..., i, None] <= values) * (values < img_bot_right[..., i, None])\n",
    "        print(mask.shape)\n",
    "        mask = mask.unsqueeze(-1 - i)\n",
    "        print(mask.shape)\n",
    "        masks.append(mask)\n",
    "    mask = reduce(op.and_, masks)\n",
    "    return mask"
   ]
  },
  {
   "cell_type": "code",
   "execution_count": 97,
   "metadata": {},
   "outputs": [
    {
     "name": "stdout",
     "output_type": "stream",
     "text": [
      "torch.Size([3, 16])\n",
      "torch.Size([3, 16, 1])\n",
      "torch.Size([3, 16])\n",
      "torch.Size([3, 1, 16])\n",
      "torch.Size([3, 16, 16]) torch.Size([3, 16, 16])\n",
      "torch.Size([3, 12])\n",
      "torch.Size([3, 12, 1])\n",
      "torch.Size([3, 4])\n",
      "torch.Size([3, 1, 4])\n",
      "torch.Size([3, 12, 4]) torch.Size([3, 12, 4])\n"
     ]
    }
   ],
   "source": [
    "local_shape = local_map_boundary[..., 1] - local_map_boundary[..., 0]\n",
    "global_shape = global_map_boundary[..., 1] - global_map_boundary[..., 0]\n",
    "local_mask = getImgMask(local_crop_range, local_shape)\n",
    "print(local_mask.shape, local_heat_map.shape)\n",
    "global_mask = getImgMask(global_crop_range, global_shape)\n",
    "print(global_mask.shape, global_heat_map.shape)\n",
    "\n",
    "global_heat_map[global_mask] = local_heat_map[local_mask]"
   ]
  },
  {
   "cell_type": "code",
   "execution_count": 98,
   "metadata": {},
   "outputs": [
    {
     "data": {
      "text/plain": [
       "tensor([[ 0.,  1.],\n",
       "        [-1.,  0.],\n",
       "        [ 0., -1.]])"
      ]
     },
     "execution_count": 98,
     "metadata": {},
     "output_type": "execute_result"
    }
   ],
   "source": [
    "directions = torch.tensor([[0, -1], [0, 1], [-1, 0], [1, 0]])\n",
    "action = torch.tensor([[1], [2], [0]])\n",
    "position = torch.zeros(3, 2)\n",
    "directions[action]\n",
    "\n",
    "new_position = position + directions[action.squeeze()]\n",
    "new_position"
   ]
  },
  {
   "cell_type": "code",
   "execution_count": 99,
   "metadata": {},
   "outputs": [
    {
     "name": "stdout",
     "output_type": "stream",
     "text": [
      "tensor([[ 0.,  1.],\n",
      "        [-1.,  0.],\n",
      "        [ 0., -1.]])\n",
      "tensor([[0., 0.],\n",
      "        [0., 0.],\n",
      "        [0., 0.]])\n"
     ]
    }
   ],
   "source": [
    "distance = 1\n",
    "half_distance = 0.5\n",
    "position = position + directions[action.squeeze(1)]\n",
    "print(position)\n",
    "map_action = (np.abs(position) > half_distance) * np.sign(position)\n",
    "\n",
    "position = position - map_action * distance\n",
    "print(position)"
   ]
  },
  {
   "cell_type": "code",
   "execution_count": 136,
   "metadata": {},
   "outputs": [
    {
     "data": {
      "text/plain": [
       "tensor([10,  4])"
      ]
     },
     "execution_count": 136,
     "metadata": {},
     "output_type": "execute_result"
    }
   ],
   "source": []
  },
  {
   "cell_type": "code",
   "execution_count": 142,
   "metadata": {},
   "outputs": [
    {
     "ename": "RuntimeError",
     "evalue": "Boolean value of Tensor with more than one value is ambiguous",
     "output_type": "error",
     "traceback": [
      "\u001b[1;31m---------------------------------------------------------------------------\u001b[0m",
      "\u001b[1;31mRuntimeError\u001b[0m                              Traceback (most recent call last)",
      "\u001b[1;32m<ipython-input-142-7d49a2f1fbba>\u001b[0m in \u001b[0;36m<module>\u001b[1;34m\u001b[0m\n\u001b[0;32m      1\u001b[0m \u001b[0ma\u001b[0m \u001b[1;33m=\u001b[0m \u001b[1;32mNone\u001b[0m\u001b[1;33m\u001b[0m\u001b[1;33m\u001b[0m\u001b[0m\n\u001b[0;32m      2\u001b[0m \u001b[0ma\u001b[0m \u001b[1;33m=\u001b[0m \u001b[0mtorch\u001b[0m\u001b[1;33m.\u001b[0m\u001b[0mtensor\u001b[0m\u001b[1;33m(\u001b[0m\u001b[1;33m[\u001b[0m\u001b[1;36m1\u001b[0m\u001b[1;33m,\u001b[0m\u001b[1;36m2\u001b[0m\u001b[1;33m,\u001b[0m\u001b[1;36m3\u001b[0m\u001b[1;33m]\u001b[0m\u001b[1;33m)\u001b[0m\u001b[1;33m\u001b[0m\u001b[1;33m\u001b[0m\u001b[0m\n\u001b[1;32m----> 3\u001b[1;33m \u001b[1;32mif\u001b[0m \u001b[0ma\u001b[0m \u001b[1;33m:\u001b[0m\u001b[1;33m\u001b[0m\u001b[1;33m\u001b[0m\u001b[0m\n\u001b[0m\u001b[0;32m      4\u001b[0m     \u001b[0mprint\u001b[0m\u001b[1;33m(\u001b[0m\u001b[1;34m\"asd\"\u001b[0m\u001b[1;33m)\u001b[0m\u001b[1;33m\u001b[0m\u001b[1;33m\u001b[0m\u001b[0m\n",
      "\u001b[1;31mRuntimeError\u001b[0m: Boolean value of Tensor with more than one value is ambiguous"
     ]
    }
   ],
   "source": [
    "a = None\n",
    "a = torch.tensor([1,2,3])\n",
    "if a :\n",
    "    print(\"asd\")"
   ]
  },
  {
   "cell_type": "code",
   "execution_count": 143,
   "metadata": {},
   "outputs": [
    {
     "data": {
      "text/plain": [
       "torch.Size([3, 2, 2])"
      ]
     },
     "execution_count": 143,
     "metadata": {},
     "output_type": "execute_result"
    }
   ],
   "source": [
    "local_crop_range.shape"
   ]
  },
  {
   "cell_type": "code",
   "execution_count": 138,
   "metadata": {},
   "outputs": [
    {
     "data": {
      "image/png": "[encoded data removed]",
      "text/plain": [
       "<Figure size 432x288 with 1 Axes>"
      ]
     },
     "metadata": {
      "needs_background": "light"
     },
     "output_type": "display_data"
    }
   ],
   "source": [
    "fig, ax = plt.subplots()\n",
    "local_show_map = local_heat_map[0]/torch.max(local_heat_map[0])\n",
    "ax.imshow(local_show_map.T, extent=[0,15,0,15])\n",
    "# ax.invert_yaxis()\n",
    "local_crop_shape = (local_crop_range[0][:, 1] - local_crop_range[0][:, 0]).numpy()\n",
    "rect = patches.Rectangle(local_crop_range[0][:, 0].numpy(), local_crop_shape[0], local_crop_shape[1], linewidth=1, edgecolor='r', facecolor='none')\n",
    "ax.add_patch(rect)\n",
    "plt.show()"
   ]
  },
  {
   "cell_type": "code",
   "execution_count": 139,
   "metadata": {},
   "outputs": [
    {
     "data": {
      "image/png": "[encoded data removed]",
      "text/plain": [
       "<Figure size 432x288 with 1 Axes>"
      ]
     },
     "metadata": {
      "needs_background": "light"
     },
     "output_type": "display_data"
    }
   ],
   "source": [
    "fig, ax2 = plt.subplots()\n",
    "global_show_map = global_heat_map[0]/ torch.max(local_heat_map[0])\n",
    "ax2.imshow(global_show_map.T, extent=[0,11,0, 3])\n",
    "# ax2.invert_yaxis()\n",
    "global_crop_shape = (global_crop_range[0][:, 1] - global_crop_range[0][:, 0]).numpy()\n",
    "rect1 = patches.Rectangle(global_crop_range[0][:, 0].numpy(), global_crop_shape[0], global_crop_shape[1], linewidth=1, edgecolor='r', facecolor='none')\n",
    "ax2.add_patch(rect1)\n",
    "plt.show()"
   ]
  },
  {
   "cell_type": "code",
   "execution_count": 124,
   "metadata": {},
   "outputs": [
    {
     "data": {
      "text/plain": [
       "torch.Size([12, 4])"
      ]
     },
     "execution_count": 124,
     "metadata": {},
     "output_type": "execute_result"
    }
   ],
   "source": [
    "global_show_map.shape"
   ]
  },
  {
   "cell_type": "code",
   "execution_count": 101,
   "metadata": {},
   "outputs": [],
   "source": [
    "import matplotlib.pyplot as plt\n",
    "import matplotlib.patches as patches"
   ]
  },
  {
   "cell_type": "code",
   "execution_count": 218,
   "metadata": {},
   "outputs": [
    {
     "name": "stdout",
     "output_type": "stream",
     "text": [
      "tensor([[  0.,   1.,   2.,   3.,   4.,   5.,   6.,   7.,   8.,   9.,  10.,  11.,  12.,  13.,  14.,  15.],\n",
      "        [ 16.,  17.,  18.,  19.,  20.,  21.,  22.,  23.,  24.,  25.,  26.,  27.,  28.,  29.,  30.,  31.],\n",
      "        [ 32.,  33.,  34.,  35.,  36.,  37.,  38.,  39.,  40.,  41.,  42.,  43.,  44.,  45.,  46.,  47.],\n",
      "        [ 48.,  49.,  50.,  51.,  52.,  53.,  54.,  55.,  56.,  57.,  58.,  59.,  60.,  61.,  62.,  63.],\n",
      "        [ 64.,  65.,  66.,  67.,  68.,  69.,  70.,  71.,  72.,  73.,  74.,  75.,  76.,  77.,  78.,  79.],\n",
      "        [ 80.,  81.,  82.,  83.,  84.,  85.,  86.,  87.,  88.,  89.,  90.,  91.,  92.,  93.,  94.,  95.],\n",
      "        [ 96.,  97.,  98.,  99., 100., 101., 102., 103., 104., 105., 106., 107., 108., 109., 110., 111.],\n",
      "        [112., 113., 114., 115., 116., 117., 118., 119., 120., 121., 122., 123., 124., 125., 126., 127.],\n",
      "        [128., 129., 130., 131., 132., 133., 134., 135., 136., 137., 138., 139., 140., 141., 142., 143.],\n",
      "        [144., 145., 146., 147., 148., 149., 150., 151., 152., 153., 154., 155., 156., 157., 158., 159.],\n",
      "        [160., 161., 162., 163., 164., 165., 166., 167., 168., 169., 170., 171., 172., 173., 174., 175.],\n",
      "        [176., 177., 178., 179., 180., 181., 182., 183., 184., 185., 186., 187., 188., 189., 190., 191.],\n",
      "        [192., 193., 194., 195., 196., 197., 198., 199., 200., 201., 202., 203., 204., 205., 206., 207.],\n",
      "        [208., 209., 210., 211., 212., 213., 214., 215., 216., 217., 218., 219., 220., 221., 222., 223.],\n",
      "        [224., 225., 226., 227., 228., 229., 230., 231., 232., 233., 234., 235., 236., 237., 238., 239.],\n",
      "        [240., 241., 242., 243., 244., 245., 246., 247., 248., 249., 250., 251., 252., 253., 254., 255.]])\n",
      "tensor([[  0.,   0.,  80.,  81.,  82.,  83.,  84.,  85.,  86.,  87.,  88.,  89.],\n",
      "        [  0.,   0.,  96.,  97.,  98.,  99., 100., 101., 102., 103., 104., 105.],\n",
      "        [  0.,   0., 112., 113., 114., 115., 116., 117., 118., 119., 120., 121.],\n",
      "        [  0.,   0., 128., 129., 130., 131., 132., 133., 134., 135., 136., 137.]])\n"
     ]
    }
   ],
   "source": [
    "torch.set_printoptions(edgeitems = 10, linewidth=120,profile='full')\n",
    "print(local_heat_map[0])\n",
    "print(global_heat_map[0])"
   ]
  },
  {
   "cell_type": "code",
   "execution_count": 177,
   "metadata": {},
   "outputs": [
    {
     "data": {
      "text/plain": [
       "tensor([[[ 5,  9],\n",
       "         [ 0, 10]],\n",
       "\n",
       "        [[ 0,  0],\n",
       "         [ 0, 10]],\n",
       "\n",
       "        [[ 5,  9],\n",
       "         [ 0, 10]]])"
      ]
     },
     "execution_count": 177,
     "metadata": {},
     "output_type": "execute_result"
    }
   ],
   "source": [
    "def forward(self, obs, action, hidden, get_all = False):\n",
    "    # obs = (bsize, time_len, feature_dim)\n",
    "    # action = (bsize, time_len, 1)\n",
    "    # hidden = (bsize, mem_size, mem_size, feature_dim)\n",
    "    bsize, time_len, feature_dim = obs.shape\n",
    "\n",
    "    all_mem = []\n",
    "\n",
    "    for i_time_step in range(time_len):\n",
    "        self.updateMapPosition(action[:, i_time_step])\n",
    "        current_mem = self.getUpdatedMem(obs[:, i_time_step], hidden)\n",
    "        previous_mem = hidden.clone()\n",
    "\n",
    "        mem = current_mem * self.mu + (1 - self.mu) * previous_mem\n",
    "        hidden = mem.clone()  # (bsize, k_tap, k_tap, feature_dim)\n",
    "\n",
    "        mem = torch.movedim(mem, -1, -3)  # (bsize, feature_dim, k_tap, k_tap)\n",
    "        all_mem.append(mem)\n",
    "\n",
    "    if get_all:\n",
    "        mem = torch.stack(all_mem, dim = 1) #(bsize, time_len, feature_dim, k_tap, k_tap)\n",
    "\n",
    "    return mem, hidden"
   ]
  },
  {
   "cell_type": "code",
   "execution_count": 240,
   "metadata": {},
   "outputs": [
    {
     "data": {
      "text/plain": [
       "tensor([[[-125,  275],\n",
       "         [  50,  450]],\n",
       "\n",
       "        [[1600, 2000],\n",
       "         [  50,  450]],\n",
       "\n",
       "        [[-125,  275],\n",
       "         [  50,  450]]])"
      ]
     },
     "execution_count": 240,
     "metadata": {},
     "output_type": "execute_result"
    }
   ],
   "source": [
    "local_boundary"
   ]
  },
  {
   "cell_type": "code",
   "execution_count": 155,
   "metadata": {},
   "outputs": [
    {
     "data": {
      "text/plain": [
       "torch.Size([3, 30, 10])"
      ]
     },
     "execution_count": 155,
     "metadata": {},
     "output_type": "execute_result"
    }
   ],
   "source": [
    "global_mask.shape"
   ]
  },
  {
   "cell_type": "code",
   "execution_count": 242,
   "metadata": {},
   "outputs": [
    {
     "data": {
      "text/plain": [
       "torch.Size([2, 2, 2])"
      ]
     },
     "execution_count": 242,
     "metadata": {},
     "output_type": "execute_result"
    }
   ],
   "source": [
    "t = torch.tensor([[[1, 2],[3, 4]],[[5, 6],[7, 8]]])\n",
    "t.shape"
   ]
  },
  {
   "cell_type": "code",
   "execution_count": 244,
   "metadata": {},
   "outputs": [
    {
     "data": {
      "text/plain": [
       "torch.Size([2, 4])"
      ]
     },
     "execution_count": 244,
     "metadata": {},
     "output_type": "execute_result"
    }
   ],
   "source": [
    "torch.flatten(t, start_dim = -2).shape"
   ]
  },
  {
   "cell_type": "code",
   "execution_count": 247,
   "metadata": {},
   "outputs": [
    {
     "data": {
      "text/plain": [
       "torch.Size([2, 2, 1])"
      ]
     },
     "execution_count": 247,
     "metadata": {},
     "output_type": "execute_result"
    }
   ],
   "source": [
    "temp_bool = torch.tensor([[[0], [1]], [[1], [1]]]).type(torch.bool)\n",
    "temp_bool.shape"
   ]
  },
  {
   "cell_type": "code",
   "execution_count": 253,
   "metadata": {},
   "outputs": [
    {
     "data": {
      "text/plain": [
       "tensor([[[[ 0,  3,  6],\n",
       "          [ 0,  1,  2]],\n",
       "\n",
       "         [[ 3,  4,  5],\n",
       "          [ 3,  4,  5]]],\n",
       "\n",
       "\n",
       "        [[[18, 21, 24],\n",
       "          [ 6,  7,  8]],\n",
       "\n",
       "         [[ 9, 10, 11],\n",
       "          [ 9, 10, 11]]]])"
      ]
     },
     "execution_count": 253,
     "metadata": {},
     "output_type": "execute_result"
    }
   ],
   "source": [
    "a = torch.arange(12).reshape(2, 2, 1, 3)\n",
    "b = torch.arange(12).reshape(2, 2, 1, 3) * 3\n",
    "\n",
    "c = torch.where(temp_bool, a, b)\n",
    "c"
   ]
  },
  {
   "cell_type": "code",
   "execution_count": 254,
   "metadata": {},
   "outputs": [
    {
     "data": {
      "text/plain": [
       "torch.Size([2, 2, 2, 3])"
      ]
     },
     "execution_count": 254,
     "metadata": {},
     "output_type": "execute_result"
    }
   ],
   "source": [
    "c.shape"
   ]
  },
  {
   "cell_type": "code",
   "execution_count": null,
   "metadata": {},
   "outputs": [],
   "source": []
  }
 ],
 "metadata": {
  "interpreter": {
   "hash": "2f329f37f787433c1df56b29cd79e40088fe5f8fc73e5de248e5bf86c97ff8a6"
  },
  "kernelspec": {
   "display_name": "PyCharm (odorSimulation)",
   "language": "python",
   "name": "pycharm-789226fa"
  },
  "language_info": {
   "codemirror_mode": {
    "name": "ipython",
    "version": 3
   },
   "file_extension": ".py",
   "mimetype": "text/x-python",
   "name": "python",
   "nbconvert_exporter": "python",
   "pygments_lexer": "ipython3",
   "version": "3.8.8"
  },
  "orig_nbformat": 4
 },
 "nbformat": 4,
 "nbformat_minor": 2
}
