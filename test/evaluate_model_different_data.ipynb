{
 "cells": [
  {
   "cell_type": "code",
   "execution_count": 1,
   "metadata": {},
   "outputs": [],
   "source": [
    "# from network.Gamma2DCropPaste import StackTPredict, UNet, StackSequenceT , Gamma2DCropPaste, Gamma2DNet\n",
    "from network.mapGeneratorNet import LSTMNet, Generator, GeneratorPredict\n",
    "\n",
    "import torch\n",
    "import numpy as np \n",
    "from common.readFiles import *\n",
    "from common.evaluateModelTools import *\n",
    "from matplotlib import pyplot as plt\n",
    "from policy.PytorchTraining import PytorchRunner\n",
    "import matplotlib.ticker as ticker\n",
    "from runner.loadLocalizeModel import getLocalizeModel\n",
    "DEVICE = torch.device(\"cuda\" if torch.cuda.is_available() else \"cpu\")"
   ]
  },
  {
   "cell_type": "code",
   "execution_count": 2,
   "metadata": {},
   "outputs": [],
   "source": [
    "map_x = 5\n",
    "\n",
    "variables = [\"source_pos\", \"source_region\", \"X_input\", \"source_concentration\", \n",
    "             \"water_flow_force\", \"source_inside\", \"distance_map\", \"source_detect\",\n",
    "             \"source_distance\", \"agent_action\", \"agent_position\", \"centroids\", \"source_detect\"]\n",
    "\n",
    "\n",
    "datas = []\n",
    "file_type = \"stochastic\"\n",
    "for map_x in [5, 10]:\n",
    "    path = \"../output/data/processedData/voroni/\"+file_type+\"/{}/\".format(map_x)\n",
    "    datas.append(getData(path, variables))"
   ]
  },
  {
   "cell_type": "code",
   "execution_count": 3,
   "metadata": {},
   "outputs": [],
   "source": [
    "source_pos, source_region, X_input, source_concentration, water_flow_force, source_inside, distance_map, source_detect, source_distance, agent_action, agent_position, centroids, source_detect = datas[0]"
   ]
  },
  {
   "cell_type": "code",
   "execution_count": 4,
   "metadata": {},
   "outputs": [
    {
     "data": {
      "text/plain": [
       "tensor(0.8780)"
      ]
     },
     "execution_count": 4,
     "metadata": {},
     "output_type": "execute_result"
    }
   ],
   "source": [
    "torch.sum(source_inside)/np.prod(source_inside.shape)"
   ]
  },
  {
   "cell_type": "code",
   "execution_count": null,
   "metadata": {},
   "outputs": [],
   "source": []
  },
  {
   "cell_type": "code",
   "execution_count": 5,
   "metadata": {},
   "outputs": [],
   "source": [
    "def calculateError():\n",
    "    def findAngle(A, B):\n",
    "        cos_between = torch.sum(A * B, axis=-1) / (torch.norm(B, dim=-1) * torch.norm(A, dim=-1))\n",
    "        error_angle = torch.arccos(cos_between)\n",
    "        # error_angle[error_angle > np.pi/2] = np.pi - error_angle[error_angle > np.pi/2]\n",
    "        error_angle[torch.isnan(error_angle)] = -1  # bsize, time_len\n",
    "        return error_angle\n",
    "\n",
    "    mask_inside_with_detect = source_inside * source_detect\n",
    "    mask_inside_no_detect = source_inside * (1 - source_detect)\n",
    "    mask_outside_with_detect = (1 - source_inside) * source_detect\n",
    "    mask_outside_no_detect = (1 - source_inside) * (1 - source_detect)\n",
    "\n",
    "    masks = [mask_inside_with_detect, mask_inside_no_detect, mask_outside_with_detect, mask_outside_no_detect]\n",
    "    error_distance_list, error_angle_list = [], []\n",
    "\n",
    "    predict_centroid = centroids[torch.argmax(normalized_predict, dim=-1)].to(DEVICE)  # bsize, time_len, 2\n",
    "    # predict_centroid = agent_pos + predict_centroid  # bsize, time_len, 2\n",
    "\n",
    "    # error distance\n",
    "    error_distance = torch.nn.PairwiseDistance(p=2)(predict_centroid.reshape(-1, 2),\n",
    "                                                    source_pos.reshape(-1, 2)).reshape(\n",
    "        source_pos.shape[:-1])  # bsize, time_len\n",
    "    error_angle = findAngle(predict_centroid, source_pos)  # bsize, time_len\n",
    "\n",
    "    for mask in masks:\n",
    "        distance_mask, angle_mask = mask, mask * (error_angle >= 0)\n",
    "\n",
    "        avg_error_distance = torch.sum(error_distance * distance_mask) / torch.sum(distance_mask)\n",
    "        avg_error_angle = torch.sum(error_angle * angle_mask) / torch.sum(angle_mask)\n",
    "\n",
    "        error_distance_list.append(avg_error_distance.to('cpu').item())\n",
    "        error_angle_list.append(avg_error_angle.to('cpu').item())\n",
    "\n",
    "    return np.array(error_distance_list), np.array(error_angle_list)\n",
    "\n",
    "def calculateSourceDistance():\n",
    "    return torch.cdist(source_pos, torch.tensor([[0,0]], dtype=torch.float)).squeeze(-1)"
   ]
  },
  {
   "cell_type": "code",
   "execution_count": 6,
   "metadata": {},
   "outputs": [],
   "source": [
    "runner_arg = {\n",
    "    \"new_loss\" : True,\n",
    "    \"regularizer_constant\": 0.01,\n",
    "    \"accuracy_range\":0,\n",
    "    \"folder_path\":\"../output/ReportModel/stochastic/{}outOf{}/\",\n",
    "    \"name\":\"LSTM\"\n",
    "}\n",
    "\n",
    "def getPerformance(data, model_path,  distance = True, inside = 0):\n",
    "    model = getLocalizeModel(model_path = model_path)\n",
    "    LSTM_runner = PytorchRunner(runner_arg=runner_arg)\n",
    "    LSTM_runner.modelInitialize(model)\n",
    "\n",
    "\n",
    "    source_pos, source_region, X_input, source_concentration, water_flow_force, source_inside, distance_map, source_detect, source_distance, agent_action, agent_position, centroids, source_detect = data\n",
    "\n",
    "\n",
    "    LSTM_runner.dataInitialize([X_input, agent_action, distance_map, source_region, source_pos, source_inside, source_detect])\n",
    "    LSTM_runner.logDataInitialize([source_concentration, water_flow_force, centroids])\n",
    "\n",
    "    X_input, agent_action, distance_map_final, source_region, source_pos, source_inside, source_detect = LSTM_runner.test_data\n",
    "\n",
    "\n",
    "\n",
    "    LSTM_runner.valid, LSTM_runner.full_valid = LSTM_runner.X_input_valid_final_test, LSTM_runner.X_full_input_valid_final_test\n",
    "    mask, error_distance, error_angle, source_distance, valid = LSTM_runner.runEp(LSTM_runner.test_data, log=LSTM_runner.test_log, evaluate = True)\n",
    "    mask, error_distance, error_angle, source_distance, valid = mask.to('cpu'), error_distance.to('cpu'), error_angle.to('cpu'), source_distance.to('cpu'), valid.to('cpu')\n",
    "\n",
    "    \n",
    "    if isinstance(inside, tuple):\n",
    "        evaluate_mask = (mask[inside[0]] + mask[inside[1]]).type(torch.bool)    \n",
    "    else: evaluate_mask = mask[inside].type(torch.bool)\n",
    "    evaluate_x = source_distance[evaluate_mask]\n",
    "\n",
    "   \n",
    "    if distance:\n",
    "        evaluate_y = error_distance[evaluate_mask]\n",
    "    else: evaluate_y = error_angle[evaluate_mask]\n",
    "\n",
    "    x,y = kernelSmooth(evaluate_x, evaluate_y)\n",
    "    return x, y\n",
    "\n"
   ]
  },
  {
   "cell_type": "code",
   "execution_count": 7,
   "metadata": {},
   "outputs": [
    {
     "name": "stdout",
     "output_type": "stream",
     "text": [
      "tensor(0.6345) tensor(1.)\n",
      "tensor(0.6352) tensor(1.)\n",
      "tensor(0.6345) tensor(1.)\n",
      "tensor(0.6352) tensor(1.)\n",
      "tensor(0.6345) tensor(1.)\n",
      "tensor(0.6352) tensor(1.)\n"
     ]
    },
    {
     "data": {
      "text/plain": [
       "<matplotlib.legend.Legend at 0x21e303cb400>"
      ]
     },
     "execution_count": 7,
     "metadata": {},
     "output_type": "execute_result"
    },
    {
     "data": {
      "image/png": "[encoded data removed]",
      "text/plain": [
       "<Figure size 432x288 with 1 Axes>"
      ]
     },
     "metadata": {
      "needs_background": "light"
     },
     "output_type": "display_data"
    }
   ],
   "source": [
    "model_types = ['cyclone', 'stochastic', 'oneWay']\n",
    "labels = ['spiral', 'stochastic', 'onward']\n",
    "\n",
    "fig = plt.figure()\n",
    "ax = fig.add_subplot(111)\n",
    "map_x, new_loss, regularizer_constant = 5, False, 0\n",
    "\n",
    "for (i, type) in enumerate(model_types):\n",
    "    # for map_x in [5, 10]:\n",
    "    model_path = path = \"../output/ReportModel/{}/evaluate/modelWeight/model_{}_{}_{}.pth\".format(type, map_x, new_loss, regularizer_constant)\n",
    "    x, y = getPerformance(datas[0], model_path)\n",
    "    \n",
    "    ax.plot(x, y, label =labels[i])\n",
    "\n",
    "ticks_x = ticker.FuncFormatter(lambda x, pos: '{0:g}'.format((x * 0.1)))\n",
    "ax.xaxis.set_major_formatter(ticks_x)\n",
    "\n",
    "ticks_x = ticker.FuncFormatter(lambda x, pos: '{0:g}'.format((x * 0.1)))\n",
    "ax.yaxis.set_major_formatter(ticks_x)\n",
    "\n",
    "\n",
    "plt.legend()"
   ]
  },
  {
   "cell_type": "code",
   "execution_count": 8,
   "metadata": {},
   "outputs": [
    {
     "name": "stdout",
     "output_type": "stream",
     "text": [
      "tensor(0.6345) tensor(1.)\n",
      "tensor(0.6352) tensor(1.)\n",
      "tensor(0.6345) tensor(1.)\n",
      "tensor(0.6352) tensor(1.)\n",
      "tensor(0.6345) tensor(1.)\n",
      "tensor(0.6352) tensor(1.)\n"
     ]
    },
    {
     "data": {
      "text/plain": [
       "<matplotlib.legend.Legend at 0x21e48a11dc0>"
      ]
     },
     "execution_count": 8,
     "metadata": {},
     "output_type": "execute_result"
    },
    {
     "data": {
      "image/png": "[encoded data removed]",
      "text/plain": [
       "<Figure size 432x288 with 1 Axes>"
      ]
     },
     "metadata": {
      "needs_background": "light"
     },
     "output_type": "display_data"
    }
   ],
   "source": [
    "model_types = ['cyclone', 'stochastic', 'oneWay']\n",
    "labels = ['spiral', 'stochastic', 'onward']\n",
    "\n",
    "fig = plt.figure()\n",
    "ax = fig.add_subplot(111)\n",
    "map_x, new_loss, regularizer_constant = 5, False, 0\n",
    "\n",
    "for (i, type) in enumerate(model_types):\n",
    "    model_path = path = \"../output/ReportModel/{}/evaluate/modelWeight/model_{}_{}_{}.pth\".format(type, map_x, new_loss, regularizer_constant)\n",
    "    x, y = getPerformance(datas[0], model_path, inside = 1)\n",
    "    \n",
    "    ax.plot(x, y, label =labels[i])\n",
    "\n",
    "ticks_x = ticker.FuncFormatter(lambda x, pos: '{0:g}'.format((x * 0.1)))\n",
    "ax.xaxis.set_major_formatter(ticks_x)\n",
    "\n",
    "ticks_x = ticker.FuncFormatter(lambda x, pos: '{0:g}'.format((x * 0.1)))\n",
    "ax.yaxis.set_major_formatter(ticks_x)\n",
    "\n",
    "\n",
    "plt.legend()"
   ]
  },
  {
   "cell_type": "code",
   "execution_count": null,
   "metadata": {},
   "outputs": [],
   "source": [
    "model_types = ['cyclone', 'stochastic', 'oneWay']\n",
    "labels = ['spiral', 'stochastic', 'onward']\n",
    "\n",
    "fig = plt.figure()\n",
    "ax = fig.add_subplot(111)\n",
    "map_x, new_loss, regularizer_constant = 5, False, 0\n",
    "\n",
    "for (i, type) in enumerate(model_types):\n",
    "    model_path = path = \"../output/ReportModel/{}/evaluate/modelWeight/model_{}_{}_{}.pth\".format(type, map_x, new_loss, regularizer_constant)\n",
    "    x, y = getPerformance(datas[0], model_path, inside = (0, 2), distance= False)\n",
    "    \n",
    "    ax.plot(x, y, label =labels[i])\n",
    "\n",
    "ax.set_ylim(0, 130)\n",
    "ax.set_xlabel(\"source distance (m)\")\n",
    "ax.set_ylabel(\"distance error (m)\")\n",
    "ticks_x = ticker.FuncFormatter(lambda x, pos: '{0:g}'.format((x * 0.1)))\n",
    "ax.xaxis.set_major_formatter(ticks_x)\n",
    "\n",
    "ticks_x = ticker.FuncFormatter(lambda x, pos: '{0:g}'.format((x * 0.1)))\n",
    "ax.yaxis.set_major_formatter(ticks_x)\n",
    "\n",
    "\n",
    "plt.legend()"
   ]
  }
 ],
 "metadata": {
  "kernelspec": {
   "display_name": "Python 3.8.8 ('base')",
   "language": "python",
   "name": "python3"
  },
  "language_info": {
   "codemirror_mode": {
    "name": "ipython",
    "version": 3
   },
   "file_extension": ".py",
   "mimetype": "text/x-python",
   "name": "python",
   "nbconvert_exporter": "python",
   "pygments_lexer": "ipython3",
   "version": "3.8.8"
  },
  "orig_nbformat": 4,
  "vscode": {
   "interpreter": {
    "hash": "003556b25945ce52072ca753ec57adfd50ede7d6a37cfc0e234260ddf64e6f49"
   }
  }
 },
 "nbformat": 4,
 "nbformat_minor": 2
}
