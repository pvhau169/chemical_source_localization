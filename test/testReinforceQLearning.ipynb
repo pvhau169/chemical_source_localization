{
 "cells": [
  {
   "cell_type": "code",
   "execution_count": 1,
   "metadata": {},
   "outputs": [
    {
     "name": "stdout",
     "output_type": "stream",
     "text": [
      "30 40\n"
     ]
    },
    {
     "name": "stderr",
     "output_type": "stream",
     "text": [
      "100%|██████████| 1/1 [00:00<00:00,  1.02it/s]\n",
      "0it [00:00, ?it/s]\n"
     ]
    }
   ],
   "source": [
    "import numpy as np\n",
    "from simulation.odorSimulation.aquaEnv import AquaEnv\n",
    "from policy.QLearning import QLearning\n",
    "from simulation.odorSimulation.currentAquaSimulation import *\n",
    "from runner.loadLocalizeModel import getLocalizeModel\n",
    "\n",
    "\n",
    "model_arg = {\n",
    "    'file_name': \"q_learning\",\n",
    "    # training parameter\n",
    "    'er_size': 40,\n",
    "    'n_ep_training': 0,\n",
    "    'n_ep_evaluate': 1,\n",
    "\n",
    "    #TODO change buffer ini to True\n",
    "    'buffer_ini': True,\n",
    "\n",
    "    #TODO change\n",
    "    'print_while_learning': True,\n",
    "\n",
    "    # #env parameter overwrite\n",
    "    # 'episode_limit': 40,\n",
    "\n",
    "    # RL parameter\n",
    "    #TODO check decay\n",
    "    'epsilon_decay': 150000,\n",
    "    'bsize_update': 128,\n",
    "    'gamma': 0.99,\n",
    "    'grad_norm_clip': 10,\n",
    "    'target_update_cycle': 5,\n",
    "\n",
    "    # save parameter\n",
    "    'save_interval': 2000,\n",
    "    'save_model': True,\n",
    "    'save_time': True,\n",
    "    'evaluate_model':True,\n",
    "}\n",
    "\n",
    "# localize Model\n",
    "localize_model = getLocalizeModel()\n",
    "model_arg['belief_state_model'] = localize_model\n",
    "env_arg['state_dim'] = localize_model.hid_dim\n",
    "env_arg['episode_limit'] = 40\n",
    "\n",
    "\n",
    "env = AquaEnv(env_arg, agent_arg, source_arg, wind_arg)\n",
    "model = QLearning(env, model_arg, env_arg)\n",
    "# model.showEpsilon()\n",
    "model.learn()"
   ]
  },
  {
   "cell_type": "code",
   "execution_count": 2,
   "metadata": {},
   "outputs": [],
   "source": [
    "batch = model.experience_replay.sample(40)"
   ]
  },
  {
   "cell_type": "code",
   "execution_count": 3,
   "metadata": {},
   "outputs": [],
   "source": [
    "action, reward, done = batch['a'], batch['r'], batch['done']  # (bsize, )\n",
    "state, state_next = batch['s'], batch['s_next']  # (bsize, obs_dim)"
   ]
  },
  {
   "cell_type": "code",
   "execution_count": 4,
   "metadata": {},
   "outputs": [],
   "source": [
    "self = model\n",
    "DEVICE = torch.device(\"cuda\" if torch.cuda.is_available() else \"cpu\")\n",
    "torch.set_printoptions(precision=2, threshold=None, edgeitems=None, linewidth=None, profile=None, sci_mode=False)"
   ]
  },
  {
   "cell_type": "code",
   "execution_count": 5,
   "metadata": {},
   "outputs": [],
   "source": [
    "bsize = 1\n",
    "obs = self.env.reset()\n",
    "action = torch.randint(self.action_dim, (bsize,))\n",
    "state = self.getState(obs, action)"
   ]
  },
  {
   "cell_type": "code",
   "execution_count": 6,
   "metadata": {},
   "outputs": [
    {
     "data": {
      "text/plain": [
       "tensor([[[     0.59,     -0.00,     -1.00,     -0.01,      0.00,     -0.01,\n",
       "               0.01,     -0.09,      0.00,      0.01,     -0.00,     -0.00,\n",
       "              -1.00,     -0.00,     -1.00,     -0.11,      0.00,      0.76,\n",
       "              -0.00,     -0.87,     -0.39,      0.24,      0.00,      0.00,\n",
       "               0.00,      0.01,     -0.00,     -0.11,     -0.09,     -0.00,\n",
       "              -0.00,      0.03,     -0.17,      0.00,      1.00,     -0.33,\n",
       "               0.00,     -0.00,      0.00,     -0.00,     -0.00,      0.00,\n",
       "              -0.89,     -0.62,     -0.00,     -1.00,     -0.18,      0.00,\n",
       "              -0.40,      0.28,      1.00,     -0.00,     -0.34,      0.91,\n",
       "               0.00,     -0.00,      0.07,      0.22,      1.00,      0.00,\n",
       "              -1.00,     -0.00,      0.00,      0.00]]], device='cuda:0',\n",
       "       grad_fn=<CudnnRnnBackward>)"
      ]
     },
     "execution_count": 6,
     "metadata": {},
     "output_type": "execute_result"
    }
   ],
   "source": [
    "state"
   ]
  },
  {
   "cell_type": "code",
   "execution_count": 8,
   "metadata": {},
   "outputs": [],
   "source": [
    "action_prob = self.model(state.to(DEVICE))\n",
    "\n",
    "prob, action = action_prob.max(dim=-1)\n",
    "\n",
    "# # check e-greedy\n"
   ]
  },
  {
   "cell_type": "code",
   "execution_count": 10,
   "metadata": {},
   "outputs": [
    {
     "data": {
      "text/plain": [
       "tensor([[[ 0.34, -0.10,  0.06, -0.33]]], device='cuda:0',\n",
       "       grad_fn=<AddBackward0>)"
      ]
     },
     "execution_count": 10,
     "metadata": {},
     "output_type": "execute_result"
    }
   ],
   "source": [
    "action_prob"
   ]
  },
  {
   "cell_type": "code",
   "execution_count": 12,
   "metadata": {},
   "outputs": [],
   "source": [
    "use_epsilon = True\n",
    "if use_epsilon:\n",
    "    use_greedy = (torch.rand(bsize) < self.epsilon).to(torch.int).to(DEVICE)\n",
    "    action_greedy = torch.randint(self.action_dim, (bsize,)).to(DEVICE)\n",
    "    pick_action = torch.where(use_greedy == 1, action_greedy, action)\n",
    "else:\n",
    "    pick_action = action"
   ]
  },
  {
   "cell_type": "code",
   "execution_count": null,
   "metadata": {},
   "outputs": [],
   "source": []
  }
 ],
 "metadata": {
  "kernelspec": {
   "display_name": "Python 3.8.8 ('base')",
   "language": "python",
   "name": "python3"
  },
  "language_info": {
   "codemirror_mode": {
    "name": "ipython",
    "version": 3
   },
   "file_extension": ".py",
   "mimetype": "text/x-python",
   "name": "python",
   "nbconvert_exporter": "python",
   "pygments_lexer": "ipython3",
   "version": "3.8.8"
  },
  "orig_nbformat": 4,
  "vscode": {
   "interpreter": {
    "hash": "003556b25945ce52072ca753ec57adfd50ede7d6a37cfc0e234260ddf64e6f49"
   }
  }
 },
 "nbformat": 4,
 "nbformat_minor": 2
}
