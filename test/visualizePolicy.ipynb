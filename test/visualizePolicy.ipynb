{
 "cells": [
  {
   "cell_type": "code",
   "execution_count": 1,
   "metadata": {},
   "outputs": [],
   "source": [
    "# from network.Gamma2DCropPaste import StackTPredict, UNet, StackSequenceT , Gamma2DCropPaste, Gamma2DNet\n",
    "from network.mapGeneratorNet import LSTMNet, Generator, GeneratorPredict\n",
    "import matplotlib.pyplot as plt\n",
    "import matplotlib.ticker as ticker\n",
    "import torch\n",
    "import numpy as np \n",
    "from common.readFiles import *\n",
    "from matplotlib import pyplot as plt\n",
    "from policy.PytorchTraining import PytorchRunner\n",
    "from common.readFiles import *\n",
    "from common.utils import Logger\n",
    "import matplotlib.ticker as ticker\n",
    "DEVICE = torch.device(\"cuda\" if torch.cuda.is_available() else \"cpu\")"
   ]
  },
  {
   "cell_type": "code",
   "execution_count": 2,
   "metadata": {},
   "outputs": [],
   "source": [
    "n_data_file = 13\n",
    "file_type = 'stochastic'\n",
    "\n",
    "# map_x, map_y = 20, 20\n",
    "# # predict_boundary = np.array([[-15, 15], [-15, 15]])\n",
    "# predict_boundary = np.array([[-200, 200], [-200, 200]])\n",
    "\n",
    "# log_path = \"../output/data/\"+file_type+\"/old_data/data_{}.txt\"\n",
    "log_path = \"../output/data/\"+file_type+\"/data_{}.txt\"\n",
    "\n",
    "#single data\n",
    "single_list = [\"boundary\", \"concentration\", \"position\", \"water_flow_force\"]\n",
    "time_series_list = [\"detect_total_concentration\", \"detect_water_flow_force\", \"detect_avg_concentration\", \"detect_source\", \"action\", \"agent_position\"]\n",
    "\n",
    "def getSingleData(logger, variable):\n",
    "    data = np.array(logger.log[variable])[:, 0]\n",
    "    if len(data.shape) == 1:\n",
    "        return np.atleast_2d(data).T\n",
    "    else: return data\n",
    "\n",
    "def getTimeSeriesData(logger, variable):\n",
    "    return np.atleast_3d(logger.log[variable])\n",
    "\n",
    "logger = Logger()\n",
    "for i_data_file in range(n_data_file):\n",
    "    logger.loadLog(log_path.format(i_data_file))"
   ]
  },
  {
   "cell_type": "code",
   "execution_count": 3,
   "metadata": {},
   "outputs": [],
   "source": [
    "input_variables = [\"detect_total_concentration\", \"detect_water_flow_force\"]\n",
    "\n",
    "def getData(getDataFunction, variables):\n",
    "    logger = Logger()\n",
    "    for i_data_file in range(n_data_file):\n",
    "        # print(i_data_file)\n",
    "        logger.loadLog(log_path.format(i_data_file))\n",
    "        for (i_variable, variable) in enumerate(variables):\n",
    "            data = getDataFunction(logger, variable)\n",
    "            # print(data.shape)\n",
    "            if i_variable == 0:\n",
    "                input_data = data\n",
    "            else:\n",
    "                \n",
    "                input_data =np.concatenate((input_data,data), axis = -1)\n",
    "                \n",
    "        if i_data_file == 0:\n",
    "            output = input_data\n",
    "        else: output = np.concatenate((output, input_data), axis = 0)\n",
    "    return output\n",
    "\n",
    "\n"
   ]
  },
  {
   "cell_type": "code",
   "execution_count": 18,
   "metadata": {},
   "outputs": [],
   "source": [
    "import matplotlib.pyplot as plt\n",
    "import matplotlib.ticker as ticker\n",
    "import numpy as np\n",
    "import torch\n",
    "\n",
    "map_x = 40\n",
    "# real_range = np.array([[-300, 300], [-300, 300]])\n",
    "real_range = np.array([[-300, 300], [-300, 300]])\n",
    "simulated_range = np.array([map_x, map_x])\n",
    "interval = np.sum(np.abs(real_range), axis=0) / simulated_range\n",
    "\n",
    "centroid_x = np.array(range(map_x)) - map_x / 2\n",
    "centroids = np.stack(np.meshgrid(centroid_x, centroid_x), axis=-1)\n",
    "radius_ring = (real_range[0, 1] - real_range[0, 0]) / map_x / 2\n",
    "\n",
    "\n",
    "def findAngleArcCos(A, B):\n",
    "    old_shape = A.shape\n",
    "    A, B = torch.from_numpy(A).reshape(-1, 2).type(torch.float), torch.from_numpy(B).reshape(-1, 2).type(torch.float)\n",
    "    # print(A.shape, B.shape)\n",
    "    cos_between = torch.sum(A * B, axis=-1) / (torch.norm(B, dim=-1) * torch.norm(A, dim=-1))\n",
    "    error_angle = torch.arccos(cos_between)\n",
    "    error_angle[torch.isnan(error_angle)] = -1  # bsize, time_len\n",
    "    return error_angle.reshape(old_shape[:-1]).numpy()\n",
    "\n",
    "\n",
    "def getAngle(vector, deg=False):\n",
    "    vector = vector[:, 0] + vector[:, 1] * 1j\n",
    "    angle = np.angle(vector, deg=deg)\n",
    "    return angle\n",
    "\n",
    "\n",
    "def findAngleNpAngle(A, B):\n",
    "    old_shape = A.shape\n",
    "    A, B = A.reshape(-1, 2).astype(np.float), B.reshape(-1, 2).astype(np.float)\n",
    "\n",
    "    angle_between = getAngle(A) - getAngle(B)\n",
    "\n",
    "    return angle_between.reshape(old_shape[:-1])\n",
    "\n",
    "\n",
    "def getRotateMatrix(vectors, base=np.array([-1, 0])):\n",
    "    base_vectors = np.repeat(base[np.newaxis, :], vectors.shape[0], axis=0)\n",
    "\n",
    "    rotate_angle = findAngleNpAngle(base_vectors, vectors)\n",
    "    rotate_sin = np.sin(rotate_angle)\n",
    "    rotate_cos = np.cos(rotate_angle)\n",
    "\n",
    "    rotate_matrix = np.stack([rotate_cos, -rotate_sin, rotate_sin, rotate_cos], axis=1).reshape(vectors.shape[0], 2, 2)\n",
    "    return rotate_matrix\n",
    "\n",
    "\n",
    "def agentPositionRespectWaterFlowForce(agent_pos, water_flow_force):\n",
    "    rotate_matrix = getRotateMatrix(water_flow_force)\n",
    "    agent_pos_res_water_flow = np.einsum('aec,abc->abe', rotate_matrix, agent_pos)\n",
    "\n",
    "    rotated_water_flow = np.einsum('aec, ac -> ae', rotate_matrix, water_flow_force)\n",
    "\n",
    "    return agent_pos_res_water_flow, rotated_water_flow\n",
    "\n",
    "\n",
    "def agentPositionRespectSourcePosition(agent_pos, source_pos):\n",
    "    rotate_matrix = getRotateMatrix(source_pos, base=np.array([1, 0]))\n",
    "    rotated_source_pos = np.einsum('aec, ac -> ae', rotate_matrix, source_pos)\n",
    "\n",
    "    agent_pos_res_source_pos = np.einsum('aec,abc->abe', rotate_matrix, agent_pos)\n",
    "    agent_pos_res_source_pos = agent_pos_res_source_pos - rotated_source_pos[:, np.newaxis, :]\n",
    "\n",
    "    return agent_pos_res_source_pos, rotated_source_pos\n",
    "\n",
    "\n",
    "def getShownMap(agent_pos):\n",
    "    print(agent_pos.shape, centroids.shape)\n",
    "    agent_pos = agent_pos.reshape(-1, 2)\n",
    "    agent_pos = (agent_pos - real_range[:, 0]) // interval - (map_x / 2)\n",
    "\n",
    "    print(agent_pos.shape, centroids.shape)\n",
    "    distance_map = torch.cdist(torch.tensor(agent_pos, dtype=float), torch.tensor(centroids.reshape(-1, 2),\n",
    "                                                                                  dtype=float)).numpy()  # bsize, time_len, n_centroids\n",
    "    distance_map = distance_map.reshape(distance_map.shape[0], map_x, map_x)\n",
    "\n",
    "    shown_map = distance_map == distance_map.min(axis=(-1, -2))[..., np.newaxis, np.newaxis]\n",
    "    shown_map = shown_map * (distance_map <= radius_ring)\n",
    "    shown_map = shown_map.sum(axis=0)\n",
    "\n",
    "    return shown_map\n",
    "\n",
    "\n",
    "def processMap(agent_pos, source_pos, water_flow_force, done):\n",
    "    agent_pos_res_water_flow, rotated_water_flow = agentPositionRespectWaterFlowForce(agent_pos.copy(),\n",
    "                                                                                      water_flow_force)\n",
    "    agent_pos_res_source_pos, rotated_source_pos = agentPositionRespectSourcePosition(agent_pos.copy(), source_pos)\n",
    "\n",
    "    valid = 1 - done\n",
    "    agent_centric_map = getShownMap(agent_pos[valid])\n",
    "    source_centric_map = getShownMap(agent_pos_res_source_pos[valid])\n",
    "    water_centric_map = getShownMap(agent_pos_res_water_flow[valid])\n",
    "\n",
    "    return agent_centric_map.tolist(), source_centric_map.tolist(), water_centric_map.tolist()"
   ]
  },
  {
   "cell_type": "code",
   "execution_count": 142,
   "metadata": {},
   "outputs": [],
   "source": [
    "water_flow_force = getData(getSingleData, ['water_flow_force'])\n",
    "source_pos = getData(getSingleData, ['position'])\n",
    "agent_action = getData(getTimeSeriesData, ['action'])\n",
    "agent_pos = getData(getTimeSeriesData, ['agent_position']) #bsize, time_len, 2"
   ]
  },
  {
   "cell_type": "code",
   "execution_count": 146,
   "metadata": {},
   "outputs": [
    {
     "data": {
      "text/plain": [
       "array([[ 0,  8],\n",
       "       [ 0, 16],\n",
       "       [ 0, 24],\n",
       "       [ 0, 32],\n",
       "       [ 0, 40],\n",
       "       [ 0, 48],\n",
       "       [ 0, 56],\n",
       "       [ 8, 56],\n",
       "       [16, 56],\n",
       "       [24, 56]])"
      ]
     },
     "execution_count": 146,
     "metadata": {},
     "output_type": "execute_result"
    }
   ],
   "source": [
    "agent_pos[0, :10]"
   ]
  },
  {
   "cell_type": "code",
   "execution_count": 5,
   "metadata": {},
   "outputs": [],
   "source": [
    "from common.math import *"
   ]
  },
  {
   "cell_type": "code",
   "execution_count": 24,
   "metadata": {},
   "outputs": [],
   "source": [
    "n_sample = 2000\n",
    "\n",
    "water_flow_force = water_flow_force[:n_sample]\n",
    "source_pos = source_pos[:n_sample]\n",
    "agent_action = agent_action[:n_sample]\n",
    "agent_pos = agent_pos[:n_sample]"
   ]
  },
  {
   "cell_type": "code",
   "execution_count": 20,
   "metadata": {},
   "outputs": [
    {
     "name": "stderr",
     "output_type": "stream",
     "text": [
      "<ipython-input-20-580c40c4ee27>:2: DeprecationWarning: `np.bool` is a deprecated alias for the builtin `bool`. To silence this warning, use `bool` by itself. Doing this will not modify any behavior and is safe. If you specifically wanted the numpy scalar type, use `np.bool_` here.\n",
      "Deprecated in NumPy 1.20; for more details and guidance: https://numpy.org/devdocs/release/1.20.0-notes.html#deprecations\n",
      "  done = np.zeros((bsize, time_len)).astype(np.bool)\n"
     ]
    }
   ],
   "source": [
    "bsize, time_len = agent_pos.shape[:2]\n",
    "done = np.zeros((bsize, time_len)).astype(np.bool)"
   ]
  },
  {
   "cell_type": "code",
   "execution_count": 23,
   "metadata": {},
   "outputs": [
    {
     "data": {
      "text/plain": [
       "(240000, 2)"
      ]
     },
     "execution_count": 23,
     "metadata": {},
     "output_type": "execute_result"
    }
   ],
   "source": [
    "temp = agent_pos.reshape(-1,2)[1-done.reshape(-1)]\n",
    "temp.shape"
   ]
  },
  {
   "cell_type": "code",
   "execution_count": 21,
   "metadata": {},
   "outputs": [
    {
     "name": "stderr",
     "output_type": "stream",
     "text": [
      "<ipython-input-18-26f1c70e1be1>:35: DeprecationWarning: `np.float` is a deprecated alias for the builtin `float`. To silence this warning, use `float` by itself. Doing this will not modify any behavior and is safe. If you specifically wanted the numpy scalar type, use `np.float64` here.\n",
      "Deprecated in NumPy 1.20; for more details and guidance: https://numpy.org/devdocs/release/1.20.0-notes.html#deprecations\n",
      "  A, B = A.reshape(-1, 2).astype(np.float), B.reshape(-1, 2).astype(np.float)\n"
     ]
    },
    {
     "name": "stdout",
     "output_type": "stream",
     "text": [
      "(2000, 120, 120, 2) (40, 40, 2)\n",
      "(28800000, 2) (40, 40, 2)\n"
     ]
    },
    {
     "ename": "RuntimeError",
     "evalue": "[enforce fail at ..\\c10\\core\\CPUAllocator.cpp:75] data. DefaultCPUAllocator: not enough memory: you tried to allocate 368640000000 bytes. Buy new RAM!",
     "output_type": "error",
     "traceback": [
      "\u001b[1;31m---------------------------------------------------------------------------\u001b[0m",
      "\u001b[1;31mRuntimeError\u001b[0m                              Traceback (most recent call last)",
      "\u001b[1;32m<ipython-input-21-ccb7ae774bf5>\u001b[0m in \u001b[0;36m<module>\u001b[1;34m\u001b[0m\n\u001b[1;32m----> 1\u001b[1;33m \u001b[0magent_centric_map\u001b[0m\u001b[1;33m,\u001b[0m \u001b[0msource_centric_map\u001b[0m\u001b[1;33m,\u001b[0m \u001b[0mwater_centric_map\u001b[0m \u001b[1;33m=\u001b[0m \u001b[0mprocessMap\u001b[0m\u001b[1;33m(\u001b[0m\u001b[0magent_pos\u001b[0m\u001b[1;33m,\u001b[0m \u001b[0msource_pos\u001b[0m\u001b[1;33m,\u001b[0m \u001b[0mwater_flow_force\u001b[0m\u001b[1;33m,\u001b[0m \u001b[0mdone\u001b[0m\u001b[1;33m)\u001b[0m\u001b[1;33m\u001b[0m\u001b[1;33m\u001b[0m\u001b[0m\n\u001b[0m",
      "\u001b[1;32m<ipython-input-18-26f1c70e1be1>\u001b[0m in \u001b[0;36mprocessMap\u001b[1;34m(agent_pos, source_pos, water_flow_force, done)\u001b[0m\n\u001b[0;32m     93\u001b[0m \u001b[1;33m\u001b[0m\u001b[0m\n\u001b[0;32m     94\u001b[0m     \u001b[0mvalid\u001b[0m \u001b[1;33m=\u001b[0m \u001b[1;36m1\u001b[0m \u001b[1;33m-\u001b[0m \u001b[0mdone\u001b[0m\u001b[1;33m\u001b[0m\u001b[1;33m\u001b[0m\u001b[0m\n\u001b[1;32m---> 95\u001b[1;33m     \u001b[0magent_centric_map\u001b[0m \u001b[1;33m=\u001b[0m \u001b[0mgetShownMap\u001b[0m\u001b[1;33m(\u001b[0m\u001b[0magent_pos\u001b[0m\u001b[1;33m[\u001b[0m\u001b[0mvalid\u001b[0m\u001b[1;33m]\u001b[0m\u001b[1;33m)\u001b[0m\u001b[1;33m\u001b[0m\u001b[1;33m\u001b[0m\u001b[0m\n\u001b[0m\u001b[0;32m     96\u001b[0m     \u001b[0msource_centric_map\u001b[0m \u001b[1;33m=\u001b[0m \u001b[0mgetShownMap\u001b[0m\u001b[1;33m(\u001b[0m\u001b[0magent_pos_res_source_pos\u001b[0m\u001b[1;33m[\u001b[0m\u001b[0mvalid\u001b[0m\u001b[1;33m]\u001b[0m\u001b[1;33m)\u001b[0m\u001b[1;33m\u001b[0m\u001b[1;33m\u001b[0m\u001b[0m\n\u001b[0;32m     97\u001b[0m     \u001b[0mwater_centric_map\u001b[0m \u001b[1;33m=\u001b[0m \u001b[0mgetShownMap\u001b[0m\u001b[1;33m(\u001b[0m\u001b[0magent_pos_res_water_flow\u001b[0m\u001b[1;33m[\u001b[0m\u001b[0mvalid\u001b[0m\u001b[1;33m]\u001b[0m\u001b[1;33m)\u001b[0m\u001b[1;33m\u001b[0m\u001b[1;33m\u001b[0m\u001b[0m\n",
      "\u001b[1;32m<ipython-input-18-26f1c70e1be1>\u001b[0m in \u001b[0;36mgetShownMap\u001b[1;34m(agent_pos)\u001b[0m\n\u001b[0;32m     76\u001b[0m \u001b[1;33m\u001b[0m\u001b[0m\n\u001b[0;32m     77\u001b[0m     \u001b[0mprint\u001b[0m\u001b[1;33m(\u001b[0m\u001b[0magent_pos\u001b[0m\u001b[1;33m.\u001b[0m\u001b[0mshape\u001b[0m\u001b[1;33m,\u001b[0m \u001b[0mcentroids\u001b[0m\u001b[1;33m.\u001b[0m\u001b[0mshape\u001b[0m\u001b[1;33m)\u001b[0m\u001b[1;33m\u001b[0m\u001b[1;33m\u001b[0m\u001b[0m\n\u001b[1;32m---> 78\u001b[1;33m     distance_map = torch.cdist(torch.tensor(agent_pos, dtype=float), torch.tensor(centroids.reshape(-1, 2),\n\u001b[0m\u001b[0;32m     79\u001b[0m                                                                                   dtype=float)).numpy()  # bsize, time_len, n_centroids\n\u001b[0;32m     80\u001b[0m     \u001b[0mdistance_map\u001b[0m \u001b[1;33m=\u001b[0m \u001b[0mdistance_map\u001b[0m\u001b[1;33m.\u001b[0m\u001b[0mreshape\u001b[0m\u001b[1;33m(\u001b[0m\u001b[0mdistance_map\u001b[0m\u001b[1;33m.\u001b[0m\u001b[0mshape\u001b[0m\u001b[1;33m[\u001b[0m\u001b[1;36m0\u001b[0m\u001b[1;33m]\u001b[0m\u001b[1;33m,\u001b[0m \u001b[0mmap_x\u001b[0m\u001b[1;33m,\u001b[0m \u001b[0mmap_x\u001b[0m\u001b[1;33m)\u001b[0m\u001b[1;33m\u001b[0m\u001b[1;33m\u001b[0m\u001b[0m\n",
      "\u001b[1;32mc:\\Users\\qqwea\\anaconda3\\lib\\site-packages\\torch\\functional.py\u001b[0m in \u001b[0;36mcdist\u001b[1;34m(x1, x2, p, compute_mode)\u001b[0m\n\u001b[0;32m   1117\u001b[0m             cdist, (x1, x2), x1, x2, p=p, compute_mode=compute_mode)\n\u001b[0;32m   1118\u001b[0m     \u001b[1;32mif\u001b[0m \u001b[0mcompute_mode\u001b[0m \u001b[1;33m==\u001b[0m \u001b[1;34m'use_mm_for_euclid_dist_if_necessary'\u001b[0m\u001b[1;33m:\u001b[0m\u001b[1;33m\u001b[0m\u001b[1;33m\u001b[0m\u001b[0m\n\u001b[1;32m-> 1119\u001b[1;33m         \u001b[1;32mreturn\u001b[0m \u001b[0m_VF\u001b[0m\u001b[1;33m.\u001b[0m\u001b[0mcdist\u001b[0m\u001b[1;33m(\u001b[0m\u001b[0mx1\u001b[0m\u001b[1;33m,\u001b[0m \u001b[0mx2\u001b[0m\u001b[1;33m,\u001b[0m \u001b[0mp\u001b[0m\u001b[1;33m,\u001b[0m \u001b[1;32mNone\u001b[0m\u001b[1;33m)\u001b[0m  \u001b[1;31m# type: ignore\u001b[0m\u001b[1;33m\u001b[0m\u001b[1;33m\u001b[0m\u001b[0m\n\u001b[0m\u001b[0;32m   1120\u001b[0m     \u001b[1;32melif\u001b[0m \u001b[0mcompute_mode\u001b[0m \u001b[1;33m==\u001b[0m \u001b[1;34m'use_mm_for_euclid_dist'\u001b[0m\u001b[1;33m:\u001b[0m\u001b[1;33m\u001b[0m\u001b[1;33m\u001b[0m\u001b[0m\n\u001b[0;32m   1121\u001b[0m         \u001b[1;32mreturn\u001b[0m \u001b[0m_VF\u001b[0m\u001b[1;33m.\u001b[0m\u001b[0mcdist\u001b[0m\u001b[1;33m(\u001b[0m\u001b[0mx1\u001b[0m\u001b[1;33m,\u001b[0m \u001b[0mx2\u001b[0m\u001b[1;33m,\u001b[0m \u001b[0mp\u001b[0m\u001b[1;33m,\u001b[0m \u001b[1;36m1\u001b[0m\u001b[1;33m)\u001b[0m  \u001b[1;31m# type: ignore\u001b[0m\u001b[1;33m\u001b[0m\u001b[1;33m\u001b[0m\u001b[0m\n",
      "\u001b[1;31mRuntimeError\u001b[0m: [enforce fail at ..\\c10\\core\\CPUAllocator.cpp:75] data. DefaultCPUAllocator: not enough memory: you tried to allocate 368640000000 bytes. Buy new RAM!"
     ]
    }
   ],
   "source": [
    "agent_centric_map, source_centric_map, water_centric_map = processMap(agent_pos, source_pos, water_flow_force, done)"
   ]
  },
  {
   "cell_type": "code",
   "execution_count": null,
   "metadata": {},
   "outputs": [],
   "source": []
  },
  {
   "cell_type": "code",
   "execution_count": null,
   "metadata": {},
   "outputs": [],
   "source": []
  },
  {
   "cell_type": "code",
   "execution_count": null,
   "metadata": {},
   "outputs": [],
   "source": []
  },
  {
   "cell_type": "code",
   "execution_count": 65,
   "metadata": {},
   "outputs": [],
   "source": [
    "agent_pos = getData(getTimeSeriesData, ['agent_position']) #bsize, time_len, 2"
   ]
  },
  {
   "cell_type": "code",
   "execution_count": 53,
   "metadata": {},
   "outputs": [],
   "source": [
    "agent_pos = agent_pos[:, :20, :]"
   ]
  },
  {
   "cell_type": "code",
   "execution_count": 25,
   "metadata": {},
   "outputs": [],
   "source": [
    "def findAngleArcCos(A, B):\n",
    "    old_shape = A.shape\n",
    "    A, B = torch.from_numpy(A).reshape(-1, 2).type(torch.float), torch.from_numpy(B).reshape(-1, 2).type(torch.float)\n",
    "    # print(A.shape, B.shape)\n",
    "    cos_between = torch.sum(A * B, axis=-1) / (torch.norm(B, dim=-1) * torch.norm(A, dim=-1))\n",
    "    error_angle = torch.arccos(cos_between)\n",
    "    error_angle[torch.isnan(error_angle)] = -1  # bsize, time_len\n",
    "    return error_angle.reshape(old_shape[:-1]).numpy()\n",
    "\n",
    "def getAngle(vector, deg = False):\n",
    "    vector = vector[:,0] + vector[:,1] * 1j\n",
    "    angle = np.angle(vector, deg = deg)\n",
    "    return angle\n",
    "\n",
    "def findAngleNpAngle(A, B):\n",
    "    old_shape = A.shape\n",
    "    A, B = A.reshape(-1, 2).astype(np.float), B.reshape(-1, 2).astype(np.float)\n",
    "    \n",
    "    angle_between = getAngle(A) - getAngle(B)\n",
    "    \n",
    "    return angle_between.reshape(old_shape[:-1])\n",
    "    \n",
    "\n",
    "\n",
    "\n"
   ]
  },
  {
   "cell_type": "code",
   "execution_count": 55,
   "metadata": {},
   "outputs": [],
   "source": []
  },
  {
   "cell_type": "code",
   "execution_count": 26,
   "metadata": {},
   "outputs": [
    {
     "name": "stderr",
     "output_type": "stream",
     "text": [
      "<ipython-input-25-b645337405a6>:17: DeprecationWarning: `np.float` is a deprecated alias for the builtin `float`. To silence this warning, use `float` by itself. Doing this will not modify any behavior and is safe. If you specifically wanted the numpy scalar type, use `np.float64` here.\n",
      "Deprecated in NumPy 1.20; for more details and guidance: https://numpy.org/devdocs/release/1.20.0-notes.html#deprecations\n",
      "  A, B = A.reshape(-1, 2).astype(np.float), B.reshape(-1, 2).astype(np.float)\n"
     ]
    }
   ],
   "source": [
    "# agent position respect to water flow force\n",
    "rotate_matrix = getRotateMatrix(water_flow_force)\n",
    "agent_pos_res_water_flow = np.einsum('aec,abc->abe', rotate_matrix, agent_pos)\n",
    "\n",
    "rotated_water_flow = np.einsum('aec, ac -> ae', rotate_matrix, water_flow_force)"
   ]
  },
  {
   "cell_type": "code",
   "execution_count": 129,
   "metadata": {},
   "outputs": [
    {
     "name": "stderr",
     "output_type": "stream",
     "text": [
      "<ipython-input-25-b645337405a6>:17: DeprecationWarning: `np.float` is a deprecated alias for the builtin `float`. To silence this warning, use `float` by itself. Doing this will not modify any behavior and is safe. If you specifically wanted the numpy scalar type, use `np.float64` here.\n",
      "Deprecated in NumPy 1.20; for more details and guidance: https://numpy.org/devdocs/release/1.20.0-notes.html#deprecations\n",
      "  A, B = A.reshape(-1, 2).astype(np.float), B.reshape(-1, 2).astype(np.float)\n"
     ]
    }
   ],
   "source": [
    "temp_agent_pos = np.ones((2000, 120, 2)) * np.array([0, 8])\n",
    "temp_agent_pos = np.cumsum(temp_agent_pos, axis = 1)\n",
    "\n",
    "rotate_matrix = getRotateMatrix(water_flow_force)\n",
    "agent_pos_res_water_flow = np.einsum('aec,abc->abe', rotate_matrix, temp_agent_pos)\n",
    "\n",
    "rotated_water_flow = np.einsum('aec, ac -> ae', rotate_matrix, water_flow_force)"
   ]
  },
  {
   "cell_type": "code",
   "execution_count": 31,
   "metadata": {},
   "outputs": [
    {
     "name": "stdout",
     "output_type": "stream",
     "text": [
      "[[ -0.68506406   2.08422107]\n",
      " [ -0.51717954   0.36079096]\n",
      " [  4.01929129   0.48456415]\n",
      " [-13.38887548   2.82990178]\n",
      " [ -1.36745442  -3.01558014]]\n",
      "[[-2.19392120e+00  4.44089210e-16]\n",
      " [-6.30590831e-01  1.11022302e-16]\n",
      " [-4.04839535e+00  1.27675648e-15]\n",
      " [-1.36846750e+01  3.10862447e-15]\n",
      " [-3.31114107e+00 -4.44089210e-16]]\n"
     ]
    }
   ],
   "source": [
    "from simulation.odorSimulation.vector import magnitude\n",
    "print(water_flow_force[:5])\n",
    "print(rotated_water_flow[:5])"
   ]
  },
  {
   "cell_type": "code",
   "execution_count": 69,
   "metadata": {},
   "outputs": [],
   "source": [
    "def getTotalDistance(A, B):\n",
    "    A, B = A.reshape(-1, 2), B.reshape(-1, 2)\n",
    "    return torch.cdist(torch.tensor(A, dtype=float), torch.tensor(B.reshape(-1, 2),\n",
    "                                                                                  dtype=float)).numpy()  # bsize, time_len, n_centroids"
   ]
  },
  {
   "cell_type": "code",
   "execution_count": 81,
   "metadata": {},
   "outputs": [
    {
     "data": {
      "text/plain": [
       "<matplotlib.quiver.Quiver at 0x2488f2b2ee0>"
      ]
     },
     "execution_count": 81,
     "metadata": {},
     "output_type": "execute_result"
    },
    {
     "data": {
      "image/png": "[encoded data removed]",
      "text/plain": [
       "<Figure size 360x360 with 1 Axes>"
      ]
     },
     "metadata": {
      "needs_background": "light"
     },
     "output_type": "display_data"
    }
   ],
   "source": [
    "fig = plt.figure(figsize=(5,5))\n",
    "temp = temp_agent_pos[:1,].reshape(-1, 2)\n",
    "plt.plot(temp[:, 0], temp[:, 1])\n",
    "origins = np.array([[0],[0]])\n",
    "\n",
    "plt.quiver(*origins, water_flow_force[0, 0], water_flow_force[0, 1], color=['r','b','g'], scale=21)"
   ]
  },
  {
   "cell_type": "code",
   "execution_count": 82,
   "metadata": {},
   "outputs": [
    {
     "data": {
      "text/plain": [
       "<matplotlib.quiver.Quiver at 0x2488f30dd00>"
      ]
     },
     "execution_count": 82,
     "metadata": {},
     "output_type": "execute_result"
    },
    {
     "data": {
      "image/png": "[encoded data removed]",
      "text/plain": [
       "<Figure size 360x360 with 1 Axes>"
      ]
     },
     "metadata": {
      "needs_background": "light"
     },
     "output_type": "display_data"
    }
   ],
   "source": [
    "fig = plt.figure(figsize=(5,5))\n",
    "temp = agent_pos_res_water_flow[:1,].reshape(-1, 2)\n",
    "plt.plot(temp[:, 0], temp[:, 1])\n",
    "origins = np.array([[0],[0]])\n",
    "\n",
    "plt.quiver(*origins, rotated_water_flow[0, 0], rotated_water_flow[0, 1], color=['r','b','g'], scale=21)"
   ]
  },
  {
   "cell_type": "code",
   "execution_count": null,
   "metadata": {},
   "outputs": [],
   "source": []
  },
  {
   "cell_type": "code",
   "execution_count": 65,
   "metadata": {},
   "outputs": [
    {
     "data": {
      "text/plain": [
       "<matplotlib.quiver.Quiver at 0x2488ec299d0>"
      ]
     },
     "execution_count": 65,
     "metadata": {},
     "output_type": "execute_result"
    },
    {
     "data": {
      "image/png": "[encoded data removed]",
      "text/plain": [
       "<Figure size 360x360 with 1 Axes>"
      ]
     },
     "metadata": {
      "needs_background": "light"
     },
     "output_type": "display_data"
    }
   ],
   "source": [
    "fig = plt.figure(figsize=(5,5))\n",
    "temp = agent_pos[1:2,:10].reshape(-1, 2)\n",
    "plt.plot(temp[:, 0], temp[:, 1])\n",
    "origins = np.array([[0],[0]])\n",
    "water_flow = water_flow_force[1]\n",
    "plt.quiver(*origins, water_flow[0], water_flow[1], color=['r','b','g'], scale=21)"
   ]
  },
  {
   "cell_type": "code",
   "execution_count": 66,
   "metadata": {},
   "outputs": [
    {
     "data": {
      "text/plain": [
       "<matplotlib.quiver.Quiver at 0x2488ec8b6d0>"
      ]
     },
     "execution_count": 66,
     "metadata": {},
     "output_type": "execute_result"
    },
    {
     "data": {
      "image/png": "[encoded data removed]",
      "text/plain": [
       "<Figure size 360x360 with 1 Axes>"
      ]
     },
     "metadata": {
      "needs_background": "light"
     },
     "output_type": "display_data"
    }
   ],
   "source": [
    "fig = plt.figure(figsize=(5,5))\n",
    "temp = agent_pos_res_water_flow[1:2,:10].reshape(-1, 2)\n",
    "\n",
    "plt.plot(temp[:, 0], temp[:, 1])\n",
    "origins = np.array([[0],[0]])\n",
    "water_flow = rotated_water_flow[1]\n",
    "plt.quiver(*origins, water_flow[0], water_flow[1], color=['r','b','g'], scale=21)"
   ]
  },
  {
   "cell_type": "code",
   "execution_count": 41,
   "metadata": {},
   "outputs": [
    {
     "data": {
      "text/plain": [
       "[<matplotlib.lines.Line2D at 0x2488e1f3a90>]"
      ]
     },
     "execution_count": 41,
     "metadata": {},
     "output_type": "execute_result"
    },
    {
     "data": {
      "image/png": "[encoded data removed]",
      "text/plain": [
       "<Figure size 432x288 with 1 Axes>"
      ]
     },
     "metadata": {
      "needs_background": "light"
     },
     "output_type": "display_data"
    }
   ],
   "source": [
    "temp = agent_pos[1:2,:10].reshape(-1, 2)\n",
    "plt.plot(temp[0], temp[1])"
   ]
  },
  {
   "cell_type": "code",
   "execution_count": 43,
   "metadata": {},
   "outputs": [
    {
     "data": {
      "text/plain": [
       "array([[[ 0,  8],\n",
       "        [ 0, 16],\n",
       "        [ 0, 24],\n",
       "        [ 0, 32],\n",
       "        [ 0, 40],\n",
       "        [ 0, 48],\n",
       "        [ 0, 56],\n",
       "        [ 8, 56],\n",
       "        [16, 56],\n",
       "        [24, 56]]])"
      ]
     },
     "execution_count": 43,
     "metadata": {},
     "output_type": "execute_result"
    }
   ],
   "source": [
    "agent_pos[0:1,:10]"
   ]
  },
  {
   "cell_type": "code",
   "execution_count": 67,
   "metadata": {},
   "outputs": [
    {
     "name": "stderr",
     "output_type": "stream",
     "text": [
      "<ipython-input-54-b645337405a6>:17: DeprecationWarning: `np.float` is a deprecated alias for the builtin `float`. To silence this warning, use `float` by itself. Doing this will not modify any behavior and is safe. If you specifically wanted the numpy scalar type, use `np.float64` here.\n",
      "Deprecated in NumPy 1.20; for more details and guidance: https://numpy.org/devdocs/release/1.20.0-notes.html#deprecations\n",
      "  A, B = A.reshape(-1, 2).astype(np.float), B.reshape(-1, 2).astype(np.float)\n"
     ]
    }
   ],
   "source": [
    "# agent position respect to source location\n",
    "rotate_matrix = getRotateMatrix(source_pos, base = np.array([1, 0]))\n",
    "rotated_source_pos = np.einsum('aec, ac -> ae', rotate_matrix, source_pos)\n",
    "\n",
    "agent_pos_res_source_pos = np.einsum('aec,abc->abe', rotate_matrix, agent_pos)\n",
    "agent_pos_res_source_pos = agent_pos_res_source_pos - rotated_source_pos[:, np.newaxis, :]"
   ]
  },
  {
   "cell_type": "code",
   "execution_count": 58,
   "metadata": {},
   "outputs": [],
   "source": [
    "def findDist(a, b):\n",
    "    a, b = torch.tensor(a).reshape(1, 2).type(torch.float), torch.tensor(b).reshape(1,2).type(torch.float)\n",
    "    return torch.cdist(a,b)"
   ]
  },
  {
   "cell_type": "code",
   "execution_count": 19,
   "metadata": {},
   "outputs": [],
   "source": [
    "# agent_pos = agent_position[:2000]\n",
    "\n",
    "map_x = 40\n",
    "real_range = np.array([[-300, 300], [-300, 300]])\n",
    "real_range = np.array([[-200, 200], [-200, 200]])\n",
    "simulated_range = np.array([map_x, map_x])\n",
    "interval = np.sum(np.abs(real_range), axis = 0) / simulated_range\n",
    "\n",
    "# simulated_pos = (agent_pos - real_range[:, 0]) // interval - (map_x/2)"
   ]
  },
  {
   "cell_type": "code",
   "execution_count": 35,
   "metadata": {},
   "outputs": [
    {
     "data": {
      "text/plain": [
       "array([10., 10.])"
      ]
     },
     "execution_count": 35,
     "metadata": {},
     "output_type": "execute_result"
    }
   ],
   "source": [
    "interval"
   ]
  },
  {
   "cell_type": "code",
   "execution_count": 7,
   "metadata": {},
   "outputs": [],
   "source": [
    "centroid_x = np.array(range(map_x)) - map_x/2\n",
    "centroids = np.stack(np.meshgrid(centroid_x, centroid_x), axis = -1)"
   ]
  },
  {
   "cell_type": "code",
   "execution_count": 141,
   "metadata": {},
   "outputs": [],
   "source": [
    "def getShownMap(agent_pos, show_source=False):\n",
    "    agent_pos = agent_pos.reshape(-1, 2)\n",
    "    # agent_pos = (agent_pos - real_range[:, 0]) // interval - (map_x/2)\n",
    "    agent_pos = (agent_pos) // interval\n",
    "    \n",
    "    distance_map = torch.cdist(torch.tensor(agent_pos, dtype=float), torch.tensor(centroids.reshape(-1, 2), dtype=float)).numpy() # bsize, time_len, n_centroids\n",
    "    distance_map = distance_map.reshape(distance_map.shape[0], map_x, map_x)\n",
    "\n",
    "    shown_map = distance_map == distance_map.min(axis=(-1, -2))[..., np.newaxis, np.newaxis]\n",
    "\n",
    "    # print(distance_map.shape, np.product(distance_map.shape), np.sum((distance_map <= radius_ring)))\n",
    "    shown_map = shown_map * (distance_map <= 0.5)\n",
    "    shown_map = shown_map.sum(axis=0)\n",
    "    \n",
    "    fig = plt.figure()\n",
    "    ax = fig.add_subplot(111)\n",
    "    ax.contourf(shown_map,cmap = 'magma')\n",
    "    \n",
    "    if show_source:\n",
    "        ax.scatter([20], [20], s = 200)\n",
    "    \n",
    "    ticks_x = ticker.FuncFormatter(lambda x, pos: '{0:g}'.format((x- map_x/2) * interval[0]* 0.1 ))\n",
    "    ax.xaxis.set_major_formatter(ticks_x)\n",
    "\n",
    "    ticks_x = ticker.FuncFormatter(lambda x, pos: '{0:g}'.format((x- map_x/2) * interval[0]* 0.1 ))\n",
    "    ax.yaxis.set_major_formatter(ticks_x)\n",
    "\n",
    "    # return shown_map"
   ]
  },
  {
   "cell_type": "code",
   "execution_count": 91,
   "metadata": {},
   "outputs": [
    {
     "data": {
      "text/plain": [
       "array([[[20., 28.],\n",
       "        [20., 36.],\n",
       "        [20., 44.],\n",
       "        [20., 52.]]])"
      ]
     },
     "execution_count": 91,
     "metadata": {},
     "output_type": "execute_result"
    }
   ],
   "source": [
    "temp_agent_pos[:1, :4] - real_range[:, 0]// interval"
   ]
  },
  {
   "cell_type": "code",
   "execution_count": 112,
   "metadata": {},
   "outputs": [
    {
     "name": "stdout",
     "output_type": "stream",
     "text": [
      "[[0 0 0 ... 0 0 0]\n",
      " [0 0 0 ... 0 0 0]\n",
      " [0 0 0 ... 0 0 0]\n",
      " ...\n",
      " [0 0 0 ... 0 0 0]\n",
      " [0 0 0 ... 0 0 0]\n",
      " [0 0 0 ... 0 0 0]]\n"
     ]
    }
   ],
   "source": [
    "np.set_printoptions(linewidth=200)\n",
    "print(shown_map)"
   ]
  },
  {
   "cell_type": "code",
   "execution_count": 138,
   "metadata": {},
   "outputs": [
    {
     "data": {
      "text/plain": [
       "array([[ 96, 110, 108,  98, 128, 133, 115, 123, 107, 114],\n",
       "       [104, 113, 158, 127, 174, 181, 141, 154, 124, 113],\n",
       "       [107, 141, 163, 204, 205, 222, 220, 175, 154, 125],\n",
       "       [112, 139, 199, 298, 335, 363, 323, 216, 155, 116],\n",
       "       [164, 207, 255, 388, 752, 796, 380, 242, 191, 145],\n",
       "       [154, 189, 230, 365, 767, 774, 379, 240, 195, 153],\n",
       "       [103, 137, 207, 299, 388, 371, 280, 211, 153, 109],\n",
       "       [111, 146, 173, 180, 276, 223, 223, 136, 141, 132],\n",
       "       [105, 122, 124, 136, 225, 174, 168, 137, 100,  90],\n",
       "       [116,  93, 101, 127, 171, 116, 139, 133,  93,  90],\n",
       "       [ 71,  86,  84, 120, 145,  93, 115, 118, 104,  69],\n",
       "       [ 63,  66,  79, 103, 125,  73, 112,  87,  87,  75],\n",
       "       [ 67,  67,  77,  93, 107,  61,  89,  77,  90,  80],\n",
       "       [ 43,  53,  89,  76,  49,  29,  62,  84,  76,  67],\n",
       "       [ 51,  58,  71,  48,  94,  51,  44,  82,  61,  58],\n",
       "       [ 54,  55,  64,  52,  89,  46,  42,  65,  49,  71],\n",
       "       [ 37,  72,  40,  60,  82,  41,  49,  53,  57,  55],\n",
       "       [ 51,  53,  39,  58,  74,  38,  41,  38,  63,  44],\n",
       "       [ 50,  42,  46,  57,  67,  36,  35,  44,  55,  36],\n",
       "       [ 53,  43,  43,  54,  61,  34,  31,  40,  44,  44],\n",
       "       [ 45,  36,  44,  47,  59,  32,  28,  40,  39,  43],\n",
       "       [ 32,  37,  45,  30,  27,  15,  23,  38,  34,  44],\n",
       "       [ 33,  36,  40,  37,  53,  27,  20,  28,  34,  38],\n",
       "       [ 37,  35,  23,  46,  50,  24,  28,  18,  32,  49],\n",
       "       [ 32,  25,  33,  41,  50,  22,  27,  23,  28,  42]])"
      ]
     },
     "execution_count": 138,
     "metadata": {},
     "output_type": "execute_result"
    }
   ],
   "source": [
    "np.set_printoptions(precision=1, threshold=None, edgeitems=None, linewidth=1500)\n",
    "shown_map[15:, 15:25]"
   ]
  },
  {
   "cell_type": "code",
   "execution_count": null,
   "metadata": {},
   "outputs": [],
   "source": []
  },
  {
   "cell_type": "code",
   "execution_count": null,
   "metadata": {},
   "outputs": [],
   "source": []
  },
  {
   "cell_type": "code",
   "execution_count": 140,
   "metadata": {},
   "outputs": [
    {
     "data": {
      "text/plain": [
       "<matplotlib.contour.QuadContourSet at 0x24896add790>"
      ]
     },
     "execution_count": 140,
     "metadata": {},
     "output_type": "execute_result"
    },
    {
     "data": {
      "image/png": "[encoded data removed]",
      "text/plain": [
       "<Figure size 576x576 with 1 Axes>"
      ]
     },
     "metadata": {
      "needs_background": "light"
     },
     "output_type": "display_data"
    }
   ],
   "source": [
    "temp = (agent_pos_res_water_flow) // interval\n",
    "    \n",
    "temp = temp.reshape(-1, 2)\n",
    "distance_map = torch.cdist(torch.tensor(temp, dtype=float), torch.tensor(centroids.reshape(-1, 2), dtype=float)).numpy() # bsize, time_len, n_centroids\n",
    "distance_map = distance_map.reshape(distance_map.shape[0], map_x, map_x)\n",
    "\n",
    "shown_map = distance_map == distance_map.min(axis=(-1, -2))[..., np.newaxis, np.newaxis]\n",
    "\n",
    "shown_map = shown_map * (distance_map <= 0.5)\n",
    "\n",
    "# print(distance_map.shape, np.product(distance_map.shape), np.sum((distance_map <= radius_ring)))\n",
    "# shown_map = shown_map * (distance_map <= radius_ring)\n",
    "shown_map = shown_map.sum(axis=0)\n",
    "\n",
    "\n",
    "\n",
    "fig = plt.figure(figsize=(8, 8))\n",
    "ax = fig.add_subplot(111)\n",
    "ax.contourf(shown_map, cmap='magma', vmax= 500)"
   ]
  },
  {
   "cell_type": "code",
   "execution_count": 127,
   "metadata": {},
   "outputs": [
    {
     "data": {
      "image/png": "[encoded data removed]",
      "text/plain": [
       "<Figure size 432x288 with 1 Axes>"
      ]
     },
     "metadata": {
      "needs_background": "light"
     },
     "output_type": "display_data"
    }
   ],
   "source": [
    "shown_map = getShownMap(temp_agent_pos[:2000])"
   ]
  },
  {
   "cell_type": "code",
   "execution_count": 122,
   "metadata": {},
   "outputs": [
    {
     "data": {
      "image/png": "[encoded data removed]",
      "text/plain": [
       "<Figure size 432x288 with 1 Axes>"
      ]
     },
     "metadata": {
      "needs_background": "light"
     },
     "output_type": "display_data"
    }
   ],
   "source": [
    "shown_map = getShownMap(agent_pos[:2000])"
   ]
  },
  {
   "cell_type": "code",
   "execution_count": 123,
   "metadata": {},
   "outputs": [
    {
     "ename": "NameError",
     "evalue": "name 'agent_pos_res_source_pos' is not defined",
     "output_type": "error",
     "traceback": [
      "\u001b[1;31m---------------------------------------------------------------------------\u001b[0m",
      "\u001b[1;31mNameError\u001b[0m                                 Traceback (most recent call last)",
      "\u001b[1;32m<ipython-input-123-925a3abbb6ad>\u001b[0m in \u001b[0;36m<module>\u001b[1;34m\u001b[0m\n\u001b[1;32m----> 1\u001b[1;33m \u001b[0mshown_map\u001b[0m \u001b[1;33m=\u001b[0m \u001b[0mgetShownMap\u001b[0m\u001b[1;33m(\u001b[0m\u001b[0magent_pos_res_source_pos\u001b[0m\u001b[1;33m[\u001b[0m\u001b[1;33m:\u001b[0m\u001b[1;36m2000\u001b[0m\u001b[1;33m]\u001b[0m\u001b[1;33m,\u001b[0m \u001b[0mshow_source\u001b[0m \u001b[1;33m=\u001b[0m \u001b[1;32mTrue\u001b[0m\u001b[1;33m)\u001b[0m\u001b[1;33m\u001b[0m\u001b[1;33m\u001b[0m\u001b[0m\n\u001b[0m\u001b[0;32m      2\u001b[0m \u001b[1;33m\u001b[0m\u001b[0m\n\u001b[0;32m      3\u001b[0m \u001b[1;31m# fig = plt.figure()\u001b[0m\u001b[1;33m\u001b[0m\u001b[1;33m\u001b[0m\u001b[1;33m\u001b[0m\u001b[0m\n\u001b[0;32m      4\u001b[0m \u001b[1;31m# ax = fig.add_subplot(111)\u001b[0m\u001b[1;33m\u001b[0m\u001b[1;33m\u001b[0m\u001b[1;33m\u001b[0m\u001b[0m\n\u001b[0;32m      5\u001b[0m \u001b[1;31m# ax.contourf(shown_map,cmap = 'magma')\u001b[0m\u001b[1;33m\u001b[0m\u001b[1;33m\u001b[0m\u001b[1;33m\u001b[0m\u001b[0m\n",
      "\u001b[1;31mNameError\u001b[0m: name 'agent_pos_res_source_pos' is not defined"
     ]
    }
   ],
   "source": [
    "shown_map = getShownMap(agent_pos_res_source_pos[:2000], show_source = True)\n",
    "\n",
    "# fig = plt.figure()\n",
    "# ax = fig.add_subplot(111)\n",
    "# ax.contourf(shown_map,cmap = 'magma')\n",
    "\n",
    "# "
   ]
  },
  {
   "cell_type": "code",
   "execution_count": 128,
   "metadata": {},
   "outputs": [
    {
     "data": {
      "image/png": "[encoded data removed]",
      "text/plain": [
       "<Figure size 432x288 with 1 Axes>"
      ]
     },
     "metadata": {
      "needs_background": "light"
     },
     "output_type": "display_data"
    }
   ],
   "source": [
    "shown_map = getShownMap(agent_pos_res_water_flow[:2000])\n",
    "\n"
   ]
  },
  {
   "cell_type": "code",
   "execution_count": 145,
   "metadata": {},
   "outputs": [],
   "source": [
    "rotate_angle_degree = rotate_angle * 180 / np.pi"
   ]
  },
  {
   "cell_type": "code",
   "execution_count": 146,
   "metadata": {},
   "outputs": [
    {
     "name": "stdout",
     "output_type": "stream",
     "text": [
      "[[ -2.1939   0.    ]\n",
      " [ -0.6306   0.    ]\n",
      " [ -4.0484   0.    ]\n",
      " [-13.6847   0.    ]\n",
      " [ -3.3111  -0.    ]]\n",
      "[[ -0.6851   2.0842]\n",
      " [ -0.5172   0.3608]\n",
      " [  4.0193   0.4846]\n",
      " [-13.3889   2.8299]\n",
      " [ -1.3675  -3.0156]]\n",
      "[ 71.8048  34.9001 173.1256  11.9345 294.3925]\n"
     ]
    }
   ],
   "source": [
    "np.set_printoptions(precision=4, suppress=True)\n",
    "print(rotated_water_flow[:5])\n",
    "print(water_flow_force[:5])\n",
    "print(rotate_angle_degree[:5])"
   ]
  },
  {
   "cell_type": "code",
   "execution_count": 131,
   "metadata": {},
   "outputs": [],
   "source": [
    "from simulation.odorSimulation.vector import rotate"
   ]
  },
  {
   "cell_type": "code",
   "execution_count": 136,
   "metadata": {},
   "outputs": [
    {
     "data": {
      "text/plain": [
       "array([-13.6847,   0.    ])"
      ]
     },
     "execution_count": 136,
     "metadata": {},
     "output_type": "execute_result"
    }
   ],
   "source": [
    "rotate(water_flow_force[3], rotate_angle[3])"
   ]
  },
  {
   "cell_type": "code",
   "execution_count": 135,
   "metadata": {},
   "outputs": [
    {
     "data": {
      "text/plain": [
       "array([-3.3111, -0.    ])"
      ]
     },
     "execution_count": 135,
     "metadata": {},
     "output_type": "execute_result"
    }
   ],
   "source": [
    "np.matmul(rotate_matrix[4], water_flow_force[4])"
   ]
  },
  {
   "cell_type": "code",
   "execution_count": 46,
   "metadata": {},
   "outputs": [
    {
     "data": {
      "text/plain": [
       "array([[1],\n",
       "       [1],\n",
       "       [0],\n",
       "       [0],\n",
       "       [2]])"
      ]
     },
     "execution_count": 46,
     "metadata": {},
     "output_type": "execute_result"
    }
   ],
   "source": [
    "agent_action[:5, 0]"
   ]
  },
  {
   "cell_type": "code",
   "execution_count": 118,
   "metadata": {},
   "outputs": [
    {
     "name": "stdout",
     "output_type": "stream",
     "text": [
      "5.138119117091589\n",
      "-0.9107374396058274 0.4129858546006411\n"
     ]
    }
   ],
   "source": [
    "temp = rotate_angle[4] + np.pi * 2\n",
    "print(temp)\n",
    "print(np.sin(temp), np.cos(temp))"
   ]
  },
  {
   "cell_type": "code",
   "execution_count": 56,
   "metadata": {},
   "outputs": [],
   "source": [
    "rotated_water_flow = np.einsum('aec, ac ->ae',rotate_matrix, water_flow_force)"
   ]
  },
  {
   "cell_type": "code",
   "execution_count": 39,
   "metadata": {},
   "outputs": [],
   "source": [
    "base_water_flow_force = np.repeat(np.array([-1, 0])[np.newaxis, :], water_flow_force.shape[0], axis = 0)"
   ]
  },
  {
   "cell_type": "code",
   "execution_count": 47,
   "metadata": {},
   "outputs": [
    {
     "name": "stdout",
     "output_type": "stream",
     "text": [
      "(22000, 120, 2)\n",
      "(22000, 2, 2)\n"
     ]
    }
   ],
   "source": [
    "print(agent_position.shape)\n",
    "print(rotate_matrix.shape)"
   ]
  },
  {
   "cell_type": "code",
   "execution_count": 19,
   "metadata": {},
   "outputs": [
    {
     "data": {
      "text/plain": [
       "(22000, 120, 2)"
      ]
     },
     "execution_count": 19,
     "metadata": {},
     "output_type": "execute_result"
    }
   ],
   "source": [
    "temp.shape"
   ]
  },
  {
   "cell_type": "code",
   "execution_count": null,
   "metadata": {},
   "outputs": [],
   "source": []
  }
 ],
 "metadata": {
  "kernelspec": {
   "display_name": "Python 3.8.8 ('base')",
   "language": "python",
   "name": "python3"
  },
  "language_info": {
   "codemirror_mode": {
    "name": "ipython",
    "version": 3
   },
   "file_extension": ".py",
   "mimetype": "text/x-python",
   "name": "python",
   "nbconvert_exporter": "python",
   "pygments_lexer": "ipython3",
   "version": "3.8.8"
  },
  "orig_nbformat": 4,
  "vscode": {
   "interpreter": {
    "hash": "003556b25945ce52072ca753ec57adfd50ede7d6a37cfc0e234260ddf64e6f49"
   }
  }
 },
 "nbformat": 4,
 "nbformat_minor": 2
}
