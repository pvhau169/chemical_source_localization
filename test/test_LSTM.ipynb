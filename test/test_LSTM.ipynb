{
 "cells": [
  {
   "cell_type": "code",
   "execution_count": 1,
   "metadata": {},
   "outputs": [],
   "source": [
    "# from network.Gamma2DCropPaste import StackTPredict, UNet, StackSequenceT , Gamma2DCropPaste, Gamma2DNet\n",
    "from network.mapGeneratorNet import LSTMNet, Generator, GeneratorPredict\n",
    "\n",
    "import torch\n",
    "import numpy as np \n",
    "from common.readFiles import *\n",
    "from matplotlib import pyplot as plt\n",
    "from policy.PytorchTraining import PytorchRunner\n",
    "DEVICE = torch.device(\"cuda\" if torch.cuda.is_available() else \"cpu\")"
   ]
  },
  {
   "cell_type": "code",
   "execution_count": 2,
   "metadata": {},
   "outputs": [],
   "source": [
    "map_x = 5\n",
    "variables = [\"source_pos\", \"source_region\", \"X_input\", \"source_concentration\", \n",
    "             \"water_flow_force\", \"source_inside\", \"distance_map\", \"source_detect\",\n",
    "             \"source_distance\", \"agent_action\", \"agent_position\", \"centroids\", \"source_detect\"]\n",
    "\n",
    "datas = []\n",
    "for map_x in [5, 10, 20]:\n",
    "    path = \"../output/data/processedData/reinforce/stochastic/{}/\".format(map_x)\n",
    "    datas.append(getData(path, variables) )"
   ]
  },
  {
   "cell_type": "code",
   "execution_count": null,
   "metadata": {},
   "outputs": [],
   "source": []
  },
  {
   "cell_type": "code",
   "execution_count": 3,
   "metadata": {},
   "outputs": [],
   "source": [
    "map_x = 5\n",
    "env_arg = {\n",
    "    \"predict_map_shape\": (map_x, map_x),\n",
    "    \n",
    "    \"directions\": torch.tensor([[0, -1], [1, 0], [0, 1], [-1, 0]]),\n",
    "    \"dt\":5,\n",
    "    \n",
    "    \"feature_dim\":3,\n",
    "}\n",
    "\n",
    "model_arg = {\n",
    "    \"T\":5,\n",
    "    \"k_tap\":7,\n",
    "    \"T_range\":5,\n",
    "    \"T_threshold\": 0,\n",
    "    \"up\" : 1,\n",
    "    \"skip_connection\":False,\n",
    "    \"mu\": 1,\n",
    "}\n",
    "runner_arg = {\n",
    "    \"new_loss\" : True,\n",
    "    \"regularizer_constant\": 0.01,\n",
    "    \"accuracy_range\":0,\n",
    "    \"folder_path\":\"../output/ReportModel/stochastic/{}outOf{}/\",\n",
    "    \"name\":\"LSTM\"\n",
    "}"
   ]
  },
  {
   "cell_type": "code",
   "execution_count": 4,
   "metadata": {},
   "outputs": [
    {
     "data": {
      "text/plain": [
       "73402"
      ]
     },
     "execution_count": 4,
     "metadata": {},
     "output_type": "execute_result"
    }
   ],
   "source": [
    "LSTM_model = GeneratorPredict(env_arg, model_arg).to(DEVICE)\n",
    "pytorch_total_params = sum(p.numel() for p in LSTM_model.parameters())\n",
    "pytorch_total_params"
   ]
  },
  {
   "cell_type": "code",
   "execution_count": null,
   "metadata": {},
   "outputs": [],
   "source": []
  },
  {
   "cell_type": "code",
   "execution_count": 5,
   "metadata": {},
   "outputs": [
    {
     "name": "stdout",
     "output_type": "stream",
     "text": [
      "tensor(1.) tensor(1.)\n",
      "tensor(1.) tensor(1.)\n",
      "16\n",
      "../output/ReportModel/stochastic/reinforce/log/train_log/model_5_False_0.txt \n",
      "\n",
      "loss= 109.56, acc= 0.68, dis_in= 11.12, dis_in_no_detect= 5.79, dis_out= 103.22, dis_out_no_detect= 121.60, ang_in= 1.39, ang_in_no_detect= 0.76, ang_out= 0.49, ang_out_no_detect= 0.85\n"
     ]
    }
   ],
   "source": [
    "# T_thresholds = [0] #, 1, 1]\n",
    "# T_ranges = [ 5] #, 20, 30]\n",
    "\n",
    "env_arg[\"predict_map_shape\"] = (5,5)\n",
    "new_losses = [False]\n",
    "regularizer = [0] #, 0.01, 0.1]\n",
    "ups = [3, 2, 1]\n",
    "ups = [1]\n",
    "# T_thresholds = [1]\n",
    "# T_ranges = [10]\n",
    "# T_thresholds = [1, 1]\n",
    "# T_ranges = [30, 20]\n",
    "\n",
    "for (i,up) in enumerate(ups):\n",
    "    source_pos, source_region, X_input, source_concentration, water_flow_force, source_inside, distance_map, source_detect, source_distance, agent_action, agent_position, centroids, source_detect = datas[up-1]\n",
    "    for new_loss in new_losses:\n",
    "        for regularizer_constant in regularizer:\n",
    "            model_arg['up'] = up\n",
    "            runner_arg[\"regularizer_constant\"] = regularizer_constant\n",
    "            runner_arg[\"new_loss\"] = new_loss\n",
    "            runner_arg[\"folder_path\"] = \"../output/ReportModel/stochastic/reinforce/\"\n",
    "            # runner_arg[\"folder_path\"] = \"../output/ReportModel/upDown/evaluate/\"\n",
    "            runner_arg[\"name\"] = \"model_{}_{}_{}\".format(up*5,new_loss, regularizer_constant)\n",
    "            LSTM_model = GeneratorPredict(env_arg, model_arg).to(DEVICE)\n",
    "            LSTM_runner = PytorchRunner(runner_arg=runner_arg)\n",
    "            LSTM_runner.modelInitialize(LSTM_model)\n",
    "            LSTM_runner.dataInitialize([X_input, agent_action, distance_map, source_region, source_pos, source_inside, source_detect])\n",
    "            LSTM_runner.logDataInitialize([source_concentration, water_flow_force, centroids])\n",
    "            LSTM_runner.learn(num_epochs = 100, bsize = 80, shown = False)\n",
    "            \n",
    "            print(\"loss= {:.2f}, acc= {:.2f}, dis_in= {:.2f}, dis_in_no_detect= {:.2f}, dis_out= {:.2f}, dis_out_no_detect= {:.2f}, ang_in= {:.2f}, ang_in_no_detect= {:.2f}, ang_out= {:.2f}, ang_out_no_detect= {:.2f}\".format(\\\n",
    "                LSTM_runner.test_log.getCurrent('conditional_loss'), LSTM_runner.test_log.getCurrent('conditional_accuracy'), LSTM_runner.test_log.getCurrent('error_distance_inside'), \\\n",
    "                LSTM_runner.test_log.getCurrent('error_distance_inside_no_detect'), LSTM_runner.test_log.getCurrent('error_distance_outside'), LSTM_runner.test_log.getCurrent('error_distance_outside_no_detect'),\\\n",
    "                    LSTM_runner.test_log.getCurrent('error_angle_inside'), LSTM_runner.test_log.getCurrent('error_angle_inside_no_detect'), LSTM_runner.test_log.getCurrent('error_angle_outside'),\\\n",
    "                        LSTM_runner.test_log.getCurrent('error_angle_outside_no_detect')))"
   ]
  },
  {
   "cell_type": "code",
   "execution_count": 9,
   "metadata": {},
   "outputs": [
    {
     "name": "stdout",
     "output_type": "stream",
     "text": [
      "tensor(1.) tensor(1.)\n",
      "tensor(1.) tensor(1.)\n",
      "22\n",
      "../output/ReportModel/stochastic/log/train_log/model_15_False_0.txt \n",
      "\n",
      "loss= 43.19, acc= 0.16, dis_in= 22.54, dis_in_no_detect= 70.76, dis_out= 52.07, dis_out_no_detect= 74.61, ang_in= 0.22, ang_in_no_detect= 0.80, ang_out= 0.09, ang_out_no_detect= 0.19\n",
      "tensor(1.) tensor(1.)\n",
      "tensor(1.) tensor(1.)\n",
      "13\n",
      "../output/ReportModel/stochastic/log/train_log/model_15_False_0.01.txt \n",
      "\n",
      "loss= 45.13, acc= 0.14, dis_in= 23.73, dis_in_no_detect= 70.49, dis_out= 52.57, dis_out_no_detect= 78.82, ang_in= 0.23, ang_in_no_detect= 0.80, ang_out= 0.09, ang_out_no_detect= 0.19\n",
      "tensor(0.6353) tensor(1.)\n",
      "tensor(0.6361) tensor(1.)\n",
      "19\n",
      "../output/ReportModel/stochastic/log/train_log/model_15_True_0.txt \n",
      "\n",
      "loss= 39.15, acc= 0.17, dis_in= 24.41, dis_in_no_detect= 86.09, dis_out= 57.83, dis_out_no_detect= 77.28, ang_in= 0.23, ang_in_no_detect= 0.86, ang_out= 0.09, ang_out_no_detect= 0.21\n",
      "tensor(0.6353) tensor(1.)\n",
      "tensor(0.6361) tensor(1.)\n",
      "27\n",
      "../output/ReportModel/stochastic/log/train_log/model_15_True_0.01.txt \n",
      "\n",
      "loss= 38.14, acc= 0.19, dis_in= 24.17, dis_in_no_detect= 104.07, dis_out= 54.17, dis_out_no_detect= 75.49, ang_in= 0.22, ang_in_no_detect= 0.90, ang_out= 0.10, ang_out_no_detect= 0.20\n",
      "tensor(1.) tensor(1.)\n",
      "tensor(1.) tensor(1.)\n",
      "19\n",
      "../output/ReportModel/stochastic/log/train_log/model_10_False_0.txt \n",
      "\n",
      "loss= 47.19, acc= 0.31, dis_in= 27.51, dis_in_no_detect= 70.87, dis_out= 60.01, dis_out_no_detect= 84.39, ang_in= 0.27, ang_in_no_detect= 0.81, ang_out= 0.10, ang_out_no_detect= 0.20\n",
      "tensor(1.) tensor(1.)\n",
      "tensor(1.) tensor(1.)\n",
      "19\n",
      "../output/ReportModel/stochastic/log/train_log/model_10_False_0.01.txt \n",
      "\n",
      "loss= 47.61, acc= 0.30, dis_in= 28.55, dis_in_no_detect= 70.54, dis_out= 61.34, dis_out_no_detect= 84.17, ang_in= 0.28, ang_in_no_detect= 0.81, ang_out= 0.10, ang_out_no_detect= 0.20\n",
      "tensor(0.6332) tensor(1.)\n",
      "tensor(0.6348) tensor(1.)\n",
      "15\n",
      "../output/ReportModel/stochastic/log/train_log/model_10_True_0.txt \n",
      "\n",
      "loss= 51.61, acc= 0.29, dis_in= 35.16, dis_in_no_detect= 87.10, dis_out= 71.95, dis_out_no_detect= 91.80, ang_in= 0.33, ang_in_no_detect= 0.92, ang_out= 0.14, ang_out_no_detect= 0.26\n",
      "tensor(0.6332) tensor(1.)\n",
      "tensor(0.6348) tensor(1.)\n",
      "16\n",
      "../output/ReportModel/stochastic/log/train_log/model_10_True_0.01.txt \n",
      "\n",
      "loss= 44.93, acc= 0.34, dis_in= 29.64, dis_in_no_detect= 86.82, dis_out= 66.01, dis_out_no_detect= 82.90, ang_in= 0.29, ang_in_no_detect= 0.88, ang_out= 0.11, ang_out_no_detect= 0.21\n",
      "tensor(1.) tensor(1.)\n",
      "tensor(1.) tensor(1.)\n",
      "12\n",
      "../output/ReportModel/stochastic/log/train_log/model_5_False_0.txt \n",
      "\n",
      "loss= 58.64, acc= 0.48, dis_in= 41.00, dis_in_no_detect= 75.62, dis_out= 82.66, dis_out_no_detect= 98.49, ang_in= 0.28, ang_in_no_detect= 0.68, ang_out= 0.16, ang_out_no_detect= 0.22\n",
      "tensor(1.) tensor(1.)\n",
      "tensor(1.) tensor(1.)\n",
      "17\n",
      "../output/ReportModel/stochastic/log/train_log/model_5_False_0.01.txt \n",
      "\n",
      "loss= 58.56, acc= 0.48, dis_in= 40.26, dis_in_no_detect= 75.71, dis_out= 85.31, dis_out_no_detect= 103.01, ang_in= 0.28, ang_in_no_detect= 0.68, ang_out= 0.16, ang_out_no_detect= 0.24\n",
      "tensor(0.6359) tensor(1.)\n",
      "tensor(0.6346) tensor(1.)\n",
      "15\n",
      "../output/ReportModel/stochastic/log/train_log/model_5_True_0.txt \n",
      "\n",
      "loss= 69.24, acc= 0.41, dis_in= 50.59, dis_in_no_detect= 92.93, dis_out= 115.09, dis_out_no_detect= 124.38, ang_in= 0.37, ang_in_no_detect= 0.87, ang_out= 0.25, ang_out_no_detect= 0.31\n",
      "tensor(0.6359) tensor(1.)\n",
      "tensor(0.6346) tensor(1.)\n",
      "14\n",
      "../output/ReportModel/stochastic/log/train_log/model_5_True_0.01.txt \n",
      "\n",
      "loss= 66.14, acc= 0.44, dis_in= 48.74, dis_in_no_detect= 95.76, dis_out= 104.77, dis_out_no_detect= 114.15, ang_in= 0.36, ang_in_no_detect= 0.89, ang_out= 0.22, ang_out_no_detect= 0.27\n"
     ]
    }
   ],
   "source": [
    "# T_thresholds = [0] #, 1, 1]\n",
    "# T_ranges = [ 5] #, 20, 30]\n",
    "\n",
    "new_losses = [False, True]\n",
    "regularizer = [0, 0.01]\n",
    "ups = [3, 2, 1]\n",
    "# T_thresholds = [1]\n",
    "# T_ranges = [10]\n",
    "# T_thresholds = [1, 1]\n",
    "# T_ranges = [30, 20]\n",
    "\n",
    "for up in ups:\n",
    "    getData(variables, map_x * (2**((up-1))))\n",
    "    for new_loss in new_losses:\n",
    "        for regularizer_constant in regularizer:\n",
    "            model_arg['up'] = up\n",
    "            runner_arg[\"regularizer_constant\"] = regularizer_constant\n",
    "            runner_arg[\"new_loss\"] = new_loss\n",
    "            runner_arg[\"folder_path\"] = \"../output/ReportModel/stochastic/\"\n",
    "            runner_arg[\"name\"] = \"model_{}_{}_{}\".format(up*5,new_loss, regularizer_constant)\n",
    "            LSTM_model = GeneratorPredict(env_arg, model_arg).to(DEVICE)\n",
    "            LSTM_runner = PytorchRunner(runner_arg=runner_arg)\n",
    "            LSTM_runner.modelInitialize(LSTM_model)\n",
    "            LSTM_runner.dataInitialize([X_input, agent_action, distance_map, source_region, source_pos, source_inside, source_detect])\n",
    "            LSTM_runner.logDataInitialize([source_concentration, water_flow_force, centroids])\n",
    "            LSTM_runner.learn(num_epochs = 100, bsize = 80, shown = False)\n",
    "            \n",
    "            print(\"loss= {:.2f}, acc= {:.2f}, dis_in= {:.2f}, dis_in_no_detect= {:.2f}, dis_out= {:.2f}, dis_out_no_detect= {:.2f}, ang_in= {:.2f}, ang_in_no_detect= {:.2f}, ang_out= {:.2f}, ang_out_no_detect= {:.2f}\".format(\\\n",
    "                LSTM_runner.test_log.getCurrent('conditional_loss'), LSTM_runner.test_log.getCurrent('conditional_accuracy'), LSTM_runner.test_log.getCurrent('error_distance_inside'), \\\n",
    "                LSTM_runner.test_log.getCurrent('error_distance_inside_no_detect'), LSTM_runner.test_log.getCurrent('error_distance_outside'), LSTM_runner.test_log.getCurrent('error_distance_outside_no_detect'),\\\n",
    "                    LSTM_runner.test_log.getCurrent('error_angle_inside'), LSTM_runner.test_log.getCurrent('error_angle_inside_no_detect'), LSTM_runner.test_log.getCurrent('error_angle_outside'),\\\n",
    "                        LSTM_runner.test_log.getCurrent('error_angle_outside_no_detect')))"
   ]
  },
  {
   "cell_type": "code",
   "execution_count": 8,
   "metadata": {},
   "outputs": [
    {
     "name": "stdout",
     "output_type": "stream",
     "text": [
      "tensor(1.) tensor(1.)\n",
      "tensor(1.) tensor(1.)\n"
     ]
    },
    {
     "name": "stderr",
     "output_type": "stream",
     "text": [
      "train: c_loss = 1.013, c_acc = 0.304, acc = 0.304, hl_acc = 0.295| test: c_loss = 2.343, c_acc = 0.041, acc = 0.041, hl_acc = 0.041: 100%|██████████| 144/144 [00:44<00:00,  3.21it/s]\n",
      "train: c_loss = 0.811, c_acc = 0.390, acc = 0.390, hl_acc = 0.435| test: c_loss = 0.901, c_acc = 0.332, acc = 0.332, hl_acc = 0.336: 100%|██████████| 144/144 [00:45<00:00,  3.18it/s]\n",
      "train: c_loss = 0.763, c_acc = 0.424, acc = 0.424, hl_acc = 0.475| test: c_loss = 0.729, c_acc = 0.436, acc = 0.436, hl_acc = 0.475: 100%|██████████| 144/144 [00:44<00:00,  3.24it/s]\n",
      "train: c_loss = 0.769, c_acc = 0.474, acc = 0.474, hl_acc = 0.533| test: c_loss = 0.682, c_acc = 0.477, acc = 0.477, hl_acc = 0.531: 100%|██████████| 144/144 [00:44<00:00,  3.21it/s]\n",
      "train: c_loss = 0.749, c_acc = 0.458, acc = 0.458, hl_acc = 0.544| test: c_loss = 0.661, c_acc = 0.497, acc = 0.497, hl_acc = 0.551: 100%|██████████| 144/144 [00:44<00:00,  3.22it/s]\n",
      "train: c_loss = 0.733, c_acc = 0.499, acc = 0.499, hl_acc = 0.552| test: c_loss = 0.631, c_acc = 0.523, acc = 0.523, hl_acc = 0.591: 100%|██████████| 144/144 [00:44<00:00,  3.27it/s]\n",
      "train: c_loss = 0.715, c_acc = 0.484, acc = 0.484, hl_acc = 0.561| test: c_loss = 0.610, c_acc = 0.538, acc = 0.538, hl_acc = 0.605: 100%|██████████| 144/144 [00:45<00:00,  3.18it/s]\n",
      "train: c_loss = 0.630, c_acc = 0.500, acc = 0.500, hl_acc = 0.594| test: c_loss = 0.602, c_acc = 0.541, acc = 0.541, hl_acc = 0.608: 100%|██████████| 144/144 [00:43<00:00,  3.28it/s]\n",
      "train: c_loss = 0.644, c_acc = 0.521, acc = 0.521, hl_acc = 0.602| test: c_loss = 0.596, c_acc = 0.548, acc = 0.548, hl_acc = 0.619: 100%|██████████| 144/144 [00:47<00:00,  3.04it/s]\n",
      "train: c_loss = 0.673, c_acc = 0.527, acc = 0.527, hl_acc = 0.582| test: c_loss = 0.593, c_acc = 0.552, acc = 0.552, hl_acc = 0.622: 100%|██████████| 144/144 [00:44<00:00,  3.21it/s]\n",
      "train: c_loss = 0.767, c_acc = 0.466, acc = 0.466, hl_acc = 0.543| test: c_loss = 0.597, c_acc = 0.549, acc = 0.549, hl_acc = 0.618: 100%|██████████| 144/144 [00:43<00:00,  3.27it/s]\n",
      "train: c_loss = 0.701, c_acc = 0.533, acc = 0.533, hl_acc = 0.619| test: c_loss = 0.596, c_acc = 0.549, acc = 0.549, hl_acc = 0.618: 100%|██████████| 144/144 [00:44<00:00,  3.20it/s]\n",
      "train: c_loss = 0.691, c_acc = 0.503, acc = 0.503, hl_acc = 0.560| test: c_loss = 0.578, c_acc = 0.564, acc = 0.564, hl_acc = 0.641: 100%|██████████| 144/144 [00:44<00:00,  3.23it/s]\n",
      "train: c_loss = 0.718, c_acc = 0.475, acc = 0.475, hl_acc = 0.524| test: c_loss = 0.575, c_acc = 0.568, acc = 0.568, hl_acc = 0.646: 100%|██████████| 144/144 [00:43<00:00,  3.30it/s]\n",
      "train: c_loss = 0.660, c_acc = 0.499, acc = 0.499, hl_acc = 0.571| test: c_loss = 0.605, c_acc = 0.543, acc = 0.543, hl_acc = 0.611: 100%|██████████| 144/144 [00:43<00:00,  3.29it/s]\n",
      "train: c_loss = 0.697, c_acc = 0.497, acc = 0.497, hl_acc = 0.563| test: c_loss = 0.567, c_acc = 0.574, acc = 0.574, hl_acc = 0.652: 100%|██████████| 144/144 [00:43<00:00,  3.28it/s]\n",
      "train: c_loss = 0.610, c_acc = 0.559, acc = 0.559, hl_acc = 0.651| test: c_loss = 0.563, c_acc = 0.577, acc = 0.577, hl_acc = 0.654: 100%|██████████| 144/144 [00:44<00:00,  3.23it/s]\n",
      "train: c_loss = 0.601, c_acc = 0.543, acc = 0.543, hl_acc = 0.618| test: c_loss = 0.573, c_acc = 0.572, acc = 0.572, hl_acc = 0.651: 100%|██████████| 144/144 [00:43<00:00,  3.28it/s]\n",
      "train: c_loss = 0.655, c_acc = 0.514, acc = 0.514, hl_acc = 0.604| test: c_loss = 0.574, c_acc = 0.569, acc = 0.569, hl_acc = 0.646: 100%|██████████| 144/144 [00:43<00:00,  3.28it/s]\n",
      "train: c_loss = 0.670, c_acc = 0.508, acc = 0.508, hl_acc = 0.580| test: c_loss = 0.576, c_acc = 0.565, acc = 0.565, hl_acc = 0.638: 100%|██████████| 144/144 [00:43<00:00,  3.29it/s]\n"
     ]
    },
    {
     "name": "stdout",
     "output_type": "stream",
     "text": [
      "19\n",
      "../output/ReportModel/stochastic/0outOf5/log/train_log/LSTM_0.562920.txt \n",
      "\n",
      "0.527041, 0.565292, 0.565292, 0.637636\n"
     ]
    }
   ],
   "source": [
    "#old loss + regularizer: train: c_loss = 0.670, c_acc = 0.508, acc = 0.508, hl_acc = 0.580| test: c_loss = 0.576, c_acc = 0.565, acc = 0.565, hl_acc = 0.638\n",
    "#new loss + regularizer: train: c_loss = 0.669, c_acc = 0.525, acc = 0.429, hl_acc = 0.495| test: c_loss = 0.610, c_acc = 0.522, acc = 0.460, hl_acc = 0.514\n",
    "\n",
    "#old_loss:\n",
    "#new_loss:\n",
    "\n",
    "T_thresholds = [0] #, 1, 1]\n",
    "T_ranges = [ 5] #, 20, 30]\n",
    "\n",
    "# T_thresholds = [1]\n",
    "# T_ranges = [10]\n",
    "# T_thresholds = [1, 1]\n",
    "# T_ranges = [30, 20]\n",
    "for i in range(len(T_thresholds)):\n",
    "    model_arg[\"T_range\"] = T_ranges[i]\n",
    "    model_arg[\"T_threshold\"] = T_thresholds[i]\n",
    "    runner_arg[\"folder_path\"] = \"../output/ReportModel/stochastic/{}outOf{}/\".format(T_thresholds[i], T_ranges[i])\n",
    "    LSTM_model = GeneratorPredict(env_arg, model_arg).to(DEVICE)\n",
    "    LSTM_runner = PytorchRunner(runner_arg=runner_arg)\n",
    "    LSTM_runner.modelInitialize(LSTM_model)\n",
    "    LSTM_runner.dataInitialize([X_input, agent_action, distance_map, source_map_position, source_map_position_index])\n",
    "    LSTM_runner.logDataInitialize([source_concentration, water_flow_force])\n",
    "    LSTM_runner.learn(num_epochs = 100, bsize = 100, shown = True)\n",
    "    print(\"{:3f}, {:3f}, {:3f}, {:3f}\".format(LSTM_runner.train_log.getCurrent('conditional_accuracy'), LSTM_runner.test_log.getCurrent('conditional_accuracy'), LSTM_runner.test_log.getCurrent('accuracy'), LSTM_runner.test_log.getCurrent('half_last_accuracy')))\n",
    "    "
   ]
  },
  {
   "cell_type": "code",
   "execution_count": null,
   "metadata": {},
   "outputs": [
    {
     "name": "stdout",
     "output_type": "stream",
     "text": [
      "tensor(0.6689) tensor(1.)\n",
      "tensor(0.8347) tensor(1.)\n"
     ]
    },
    {
     "name": "stderr",
     "output_type": "stream",
     "text": [
      "train: c_loss = 1.221, c_acc = 0.278, acc = 0.230, hl_acc = 0.215| test: c_loss = 2.420, c_acc = 0.039, acc = 0.039, hl_acc = 0.039: 100%|██████████| 144/144 [00:42<00:00,  3.35it/s]\n",
      "train: c_loss = 0.990, c_acc = 0.389, acc = 0.317, hl_acc = 0.338| test: c_loss = 0.963, c_acc = 0.300, acc = 0.274, hl_acc = 0.272: 100%|██████████| 144/144 [00:43<00:00,  3.34it/s]\n",
      "train: c_loss = 0.862, c_acc = 0.427, acc = 0.360, hl_acc = 0.397| test: c_loss = 0.777, c_acc = 0.410, acc = 0.367, hl_acc = 0.398: 100%|██████████| 144/144 [00:43<00:00,  3.35it/s]\n",
      "train: c_loss = 0.773, c_acc = 0.456, acc = 0.374, hl_acc = 0.429| test: c_loss = 0.712, c_acc = 0.459, acc = 0.409, hl_acc = 0.448: 100%|██████████| 144/144 [00:44<00:00,  3.26it/s]\n",
      "train: c_loss = 0.932, c_acc = 0.402, acc = 0.352, hl_acc = 0.365| test: c_loss = 0.693, c_acc = 0.468, acc = 0.416, hl_acc = 0.461: 100%|██████████| 144/144 [00:44<00:00,  3.22it/s]\n",
      "train: c_loss = 0.783, c_acc = 0.476, acc = 0.369, hl_acc = 0.388| test: c_loss = 0.740, c_acc = 0.425, acc = 0.380, hl_acc = 0.404: 100%|██████████| 144/144 [00:44<00:00,  3.22it/s]\n",
      "train: c_loss = 0.809, c_acc = 0.450, acc = 0.389, hl_acc = 0.407| test: c_loss = 0.680, c_acc = 0.475, acc = 0.421, hl_acc = 0.459: 100%|██████████| 144/144 [00:44<00:00,  3.23it/s]\n",
      "train: c_loss = 0.731, c_acc = 0.464, acc = 0.391, hl_acc = 0.415| test: c_loss = 0.701, c_acc = 0.457, acc = 0.406, hl_acc = 0.440: 100%|██████████| 144/144 [00:43<00:00,  3.31it/s]\n",
      "train: c_loss = 0.757, c_acc = 0.501, acc = 0.439, hl_acc = 0.457| test: c_loss = 0.650, c_acc = 0.497, acc = 0.439, hl_acc = 0.477: 100%|██████████| 144/144 [00:43<00:00,  3.29it/s]\n",
      "train: c_loss = 0.946, c_acc = 0.419, acc = 0.360, hl_acc = 0.378| test: c_loss = 0.637, c_acc = 0.506, acc = 0.448, hl_acc = 0.492: 100%|██████████| 144/144 [00:43<00:00,  3.31it/s]\n",
      "train: c_loss = 0.883, c_acc = 0.447, acc = 0.355, hl_acc = 0.376| test: c_loss = 0.736, c_acc = 0.434, acc = 0.384, hl_acc = 0.420: 100%|██████████| 144/144 [00:43<00:00,  3.28it/s]\n",
      "train: c_loss = 0.755, c_acc = 0.506, acc = 0.425, hl_acc = 0.468| test: c_loss = 0.727, c_acc = 0.439, acc = 0.387, hl_acc = 0.411:  20%|██        | 29/144 [00:08<00:36,  3.18it/s]"
     ]
    }
   ],
   "source": [
    "#c_loss = 0.755, c_acc = 0.506, acc = 0.425, hl_acc = 0.468| test: c_loss = 0.727, c_acc = 0.439, acc = 0.387, hl_acc = 0.411\n",
    "T_thresholds = [0] #, 1, 1]\n",
    "T_ranges = [ 5] #, 20, 30]\n",
    "\n",
    "# T_thresholds = [1]\n",
    "# T_ranges = [10]\n",
    "# T_thresholds = [1, 1]\n",
    "# T_ranges = [30, 20]\n",
    "for i in range(len(T_thresholds)):\n",
    "    model_arg[\"T_range\"] = T_ranges[i]\n",
    "    model_arg[\"T_threshold\"] = T_thresholds[i]\n",
    "    runner_arg[\"folder_path\"] = \"../output/ReportModel/stochastic/{}outOf{}/\".format(T_thresholds[i], T_ranges[i])\n",
    "    LSTM_model = GeneratorPredict(env_arg, model_arg).to(DEVICE)\n",
    "    LSTM_runner = PytorchRunner(runner_arg=runner_arg)\n",
    "    LSTM_runner.modelInitialize(LSTM_model)\n",
    "    LSTM_runner.dataInitialize([X_input, agent_action, distance_map, source_map_position, source_map_position_index])\n",
    "    LSTM_runner.logDataInitialize([source_concentration, water_flow_force])\n",
    "    LSTM_runner.learn(num_epochs = 100, bsize = 100, shown = True)\n",
    "    print(\"{:3f}, {:3f}, {:3f}, {:3f}\".format(LSTM_runner.train_log.getCurrent('conditional_accuracy'), LSTM_runner.test_log.getCurrent('conditional_accuracy'), LSTM_runner.test_log.getCurrent('accuracy'), LSTM_runner.test_log.getCurrent('half_last_accuracy')))\n",
    "    "
   ]
  },
  {
   "cell_type": "code",
   "execution_count": 28,
   "metadata": {},
   "outputs": [
    {
     "name": "stdout",
     "output_type": "stream",
     "text": [
      "tensor(1.) tensor(1.)\n",
      "tensor(1.) tensor(1.)\n"
     ]
    },
    {
     "name": "stderr",
     "output_type": "stream",
     "text": [
      "train: c_loss = 19.205, c_acc = 0.631, acc = 0.631, hl_acc = 0.722| test: c_loss = 19.959, c_acc = 0.039, acc = 0.039, hl_acc = 0.039: 100%|██████████| 121/121 [00:36<00:00,  3.31it/s]\n",
      "train: c_loss = 18.499, c_acc = 0.677, acc = 0.677, hl_acc = 0.753| test: c_loss = 18.050, c_acc = 0.615, acc = 0.615, hl_acc = 0.685: 100%|██████████| 121/121 [00:39<00:00,  3.06it/s]\n",
      "train: c_loss = 19.112, c_acc = 0.705, acc = 0.705, hl_acc = 0.808| test: c_loss = 17.951, c_acc = 0.662, acc = 0.662, hl_acc = 0.736: 100%|██████████| 121/121 [00:38<00:00,  3.14it/s]\n",
      "train: c_loss = 18.001, c_acc = 0.695, acc = 0.695, hl_acc = 0.773| test: c_loss = 17.922, c_acc = 0.677, acc = 0.677, hl_acc = 0.754: 100%|██████████| 121/121 [00:37<00:00,  3.23it/s]\n",
      "train: c_loss = 18.747, c_acc = 0.708, acc = 0.708, hl_acc = 0.765| test: c_loss = 17.867, c_acc = 0.684, acc = 0.684, hl_acc = 0.765: 100%|██████████| 121/121 [00:37<00:00,  3.20it/s]\n",
      "train: c_loss = 18.414, c_acc = 0.723, acc = 0.723, hl_acc = 0.801| test: c_loss = 17.871, c_acc = 0.685, acc = 0.685, hl_acc = 0.766: 100%|██████████| 121/121 [00:36<00:00,  3.33it/s]\n",
      "train: c_loss = 18.533, c_acc = 0.701, acc = 0.701, hl_acc = 0.775| test: c_loss = 17.840, c_acc = 0.693, acc = 0.693, hl_acc = 0.773: 100%|██████████| 121/121 [00:36<00:00,  3.30it/s]\n",
      "train: c_loss = 18.092, c_acc = 0.707, acc = 0.707, hl_acc = 0.791| test: c_loss = 17.823, c_acc = 0.696, acc = 0.696, hl_acc = 0.778: 100%|██████████| 121/121 [00:36<00:00,  3.33it/s]\n",
      "train: c_loss = 17.129, c_acc = 0.694, acc = 0.694, hl_acc = 0.775| test: c_loss = 17.842, c_acc = 0.700, acc = 0.700, hl_acc = 0.783: 100%|██████████| 121/121 [00:36<00:00,  3.32it/s]\n",
      "train: c_loss = 16.055, c_acc = 0.670, acc = 0.670, hl_acc = 0.764| test: c_loss = 17.826, c_acc = 0.689, acc = 0.689, hl_acc = 0.767: 100%|██████████| 121/121 [00:36<00:00,  3.30it/s]\n",
      "train: c_loss = 17.769, c_acc = 0.687, acc = 0.687, hl_acc = 0.765| test: c_loss = 17.877, c_acc = 0.693, acc = 0.693, hl_acc = 0.772: 100%|██████████| 121/121 [00:36<00:00,  3.33it/s]\n"
     ]
    },
    {
     "name": "stdout",
     "output_type": "stream",
     "text": [
      "10\n",
      "../output/ReportModel/stochastic/0outOf5/log/train_log/LSTM_17.822763.txt \n",
      "\n",
      "0.706673, 0.692641, 0.692641, 0.772281\n",
      "tensor(0.2039) tensor(1.)\n",
      "tensor(0.2124) tensor(1.)\n"
     ]
    },
    {
     "name": "stderr",
     "output_type": "stream",
     "text": [
      "train: c_loss = 9.569, c_acc = 0.521, acc = 0.385, hl_acc = 0.372| test: c_loss = 11.995, c_acc = 0.039, acc = 0.040, hl_acc = 0.040: 100%|██████████| 121/121 [00:35<00:00,  3.38it/s] \n",
      "train: c_loss = 11.442, c_acc = 0.578, acc = 0.428, hl_acc = 0.403| test: c_loss = 10.015, c_acc = 0.563, acc = 0.419, hl_acc = 0.399: 100%|██████████| 121/121 [00:36<00:00,  3.34it/s]\n",
      "train: c_loss = 10.973, c_acc = 0.639, acc = 0.442, hl_acc = 0.395| test: c_loss = 9.946, c_acc = 0.568, acc = 0.412, hl_acc = 0.387:  58%|█████▊    | 70/121 [00:21<00:15,  3.28it/s]"
     ]
    }
   ],
   "source": [
    "T_thresholds = [0, 1, 1] #, 1, 1]\n",
    "T_ranges = [ 5, 5, 10] #, 20, 30]\n",
    "\n",
    "# T_thresholds = [1]\n",
    "# T_ranges = [10]\n",
    "# T_thresholds = [1, 1]\n",
    "# T_ranges = [30, 20]\n",
    "for i in range(len(T_thresholds)):\n",
    "    model_arg[\"T_range\"] = T_ranges[i]\n",
    "    model_arg[\"T_threshold\"] = T_thresholds[i]\n",
    "    runner_arg[\"folder_path\"] = \"../output/ReportModel/stochastic/{}outOf{}/\".format(T_thresholds[i], T_ranges[i])\n",
    "    LSTM_model = GeneratorPredict(env_arg, model_arg).to(DEVICE)\n",
    "    LSTM_runner = PytorchRunner(runner_arg=runner_arg)\n",
    "    LSTM_runner.modelInitialize(LSTM_model)\n",
    "    LSTM_runner.dataInitialize([X_input, agent_action, distance_map, source_map_position, source_map_position_index])\n",
    "    LSTM_runner.logDataInitialize([source_concentration, water_flow_force])\n",
    "    LSTM_runner.learn(num_epochs = 100, bsize = 100, shown = True)\n",
    "    print(\"{:3f}, {:3f}, {:3f}, {:3f}\".format(LSTM_runner.train_log.getCurrent('conditional_accuracy'), LSTM_runner.test_log.getCurrent('conditional_accuracy'), LSTM_runner.test_log.getCurrent('accuracy'), LSTM_runner.test_log.getCurrent('half_last_accuracy')))\n",
    "    "
   ]
  },
  {
   "cell_type": "code",
   "execution_count": 9,
   "metadata": {},
   "outputs": [
    {
     "name": "stdout",
     "output_type": "stream",
     "text": [
      "tensor(0.2921) tensor(1.)\n",
      "tensor(0.2902) tensor(1.)\n"
     ]
    },
    {
     "name": "stderr",
     "output_type": "stream",
     "text": [
      "train: c_loss = 1.357, c_acc = 0.210, acc = 0.083, hl_acc = 0.048| test: c_loss = 2.631, c_acc = 0.041, acc = 0.040, hl_acc = 0.040: 100%|██████████| 144/144 [00:38<00:00,  3.74it/s]\n",
      "train: c_loss = 1.161, c_acc = 0.259, acc = 0.133, hl_acc = 0.097| test: c_loss = 1.285, c_acc = 0.194, acc = 0.076, hl_acc = 0.050: 100%|██████████| 144/144 [00:38<00:00,  3.75it/s]\n",
      "train: c_loss = 0.991, c_acc = 0.316, acc = 0.140, hl_acc = 0.111| test: c_loss = 1.145, c_acc = 0.264, acc = 0.124, hl_acc = 0.095: 100%|██████████| 144/144 [00:38<00:00,  3.74it/s]\n",
      "train: c_loss = 1.074, c_acc = 0.330, acc = 0.154, hl_acc = 0.117| test: c_loss = 1.083, c_acc = 0.295, acc = 0.147, hl_acc = 0.119: 100%|██████████| 144/144 [00:38<00:00,  3.69it/s]\n",
      "train: c_loss = 0.917, c_acc = 0.345, acc = 0.171, hl_acc = 0.134| test: c_loss = 1.062, c_acc = 0.302, acc = 0.148, hl_acc = 0.120: 100%|██████████| 144/144 [00:39<00:00,  3.65it/s]\n",
      "train: c_loss = 0.904, c_acc = 0.333, acc = 0.133, hl_acc = 0.104| test: c_loss = 1.021, c_acc = 0.326, acc = 0.162, hl_acc = 0.134: 100%|██████████| 144/144 [00:38<00:00,  3.75it/s]\n",
      "train: c_loss = 0.917, c_acc = 0.353, acc = 0.183, hl_acc = 0.140| test: c_loss = 1.018, c_acc = 0.332, acc = 0.167, hl_acc = 0.141: 100%|██████████| 144/144 [00:38<00:00,  3.75it/s]\n",
      "train: c_loss = 1.022, c_acc = 0.313, acc = 0.163, hl_acc = 0.118| test: c_loss = 1.003, c_acc = 0.337, acc = 0.161, hl_acc = 0.133: 100%|██████████| 144/144 [00:38<00:00,  3.76it/s]\n",
      "train: c_loss = 0.895, c_acc = 0.387, acc = 0.183, hl_acc = 0.153| test: c_loss = 0.986, c_acc = 0.351, acc = 0.171, hl_acc = 0.144: 100%|██████████| 144/144 [00:42<00:00,  3.36it/s]\n",
      "train: c_loss = 0.875, c_acc = 0.393, acc = 0.194, hl_acc = 0.178| test: c_loss = 0.983, c_acc = 0.352, acc = 0.180, hl_acc = 0.155: 100%|██████████| 144/144 [00:38<00:00,  3.73it/s]\n",
      "train: c_loss = 0.931, c_acc = 0.348, acc = 0.171, hl_acc = 0.171| test: c_loss = 0.977, c_acc = 0.353, acc = 0.183, hl_acc = 0.159: 100%|██████████| 144/144 [00:39<00:00,  3.64it/s]\n",
      "train: c_loss = 0.959, c_acc = 0.367, acc = 0.183, hl_acc = 0.169| test: c_loss = 0.974, c_acc = 0.358, acc = 0.186, hl_acc = 0.163: 100%|██████████| 144/144 [00:39<00:00,  3.66it/s]\n",
      "train: c_loss = 0.919, c_acc = 0.393, acc = 0.202, hl_acc = 0.143| test: c_loss = 0.973, c_acc = 0.356, acc = 0.182, hl_acc = 0.157: 100%|██████████| 144/144 [00:40<00:00,  3.60it/s]\n",
      "train: c_loss = 0.909, c_acc = 0.375, acc = 0.202, hl_acc = 0.173| test: c_loss = 0.963, c_acc = 0.365, acc = 0.190, hl_acc = 0.167: 100%|██████████| 144/144 [00:38<00:00,  3.70it/s]\n",
      "train: c_loss = 0.873, c_acc = 0.411, acc = 0.199, hl_acc = 0.164| test: c_loss = 0.956, c_acc = 0.367, acc = 0.191, hl_acc = 0.168: 100%|██████████| 144/144 [00:38<00:00,  3.73it/s]\n",
      "train: c_loss = 0.803, c_acc = 0.397, acc = 0.202, hl_acc = 0.204| test: c_loss = 0.954, c_acc = 0.369, acc = 0.190, hl_acc = 0.166: 100%|██████████| 144/144 [00:38<00:00,  3.73it/s]\n",
      "train: c_loss = 1.105, c_acc = 0.336, acc = 0.174, hl_acc = 0.144| test: c_loss = 0.950, c_acc = 0.374, acc = 0.196, hl_acc = 0.174: 100%|██████████| 144/144 [00:38<00:00,  3.73it/s]\n",
      "train: c_loss = 0.890, c_acc = 0.371, acc = 0.170, hl_acc = 0.152| test: c_loss = 0.949, c_acc = 0.373, acc = 0.195, hl_acc = 0.171: 100%|██████████| 144/144 [00:38<00:00,  3.75it/s]\n",
      "train: c_loss = 0.827, c_acc = 0.415, acc = 0.214, hl_acc = 0.181| test: c_loss = 0.951, c_acc = 0.369, acc = 0.194, hl_acc = 0.169: 100%|██████████| 144/144 [00:38<00:00,  3.75it/s]\n",
      "train: c_loss = 0.969, c_acc = 0.401, acc = 0.197, hl_acc = 0.149| test: c_loss = 0.944, c_acc = 0.376, acc = 0.195, hl_acc = 0.169: 100%|██████████| 144/144 [00:39<00:00,  3.62it/s]\n",
      "train: c_loss = 0.897, c_acc = 0.405, acc = 0.215, hl_acc = 0.179| test: c_loss = 0.948, c_acc = 0.375, acc = 0.190, hl_acc = 0.166: 100%|██████████| 144/144 [00:38<00:00,  3.73it/s]\n",
      "train: c_loss = 0.856, c_acc = 0.456, acc = 0.234, hl_acc = 0.242| test: c_loss = 0.950, c_acc = 0.372, acc = 0.194, hl_acc = 0.170: 100%|██████████| 144/144 [00:38<00:00,  3.74it/s]\n",
      "train: c_loss = 0.892, c_acc = 0.402, acc = 0.193, hl_acc = 0.174| test: c_loss = 0.931, c_acc = 0.385, acc = 0.203, hl_acc = 0.180: 100%|██████████| 144/144 [00:38<00:00,  3.76it/s]\n",
      "train: c_loss = 1.108, c_acc = 0.312, acc = 0.178, hl_acc = 0.145| test: c_loss = 0.932, c_acc = 0.382, acc = 0.201, hl_acc = 0.177: 100%|██████████| 144/144 [00:38<00:00,  3.77it/s]\n",
      "train: c_loss = 0.942, c_acc = 0.344, acc = 0.185, hl_acc = 0.184| test: c_loss = 1.049, c_acc = 0.312, acc = 0.171, hl_acc = 0.150: 100%|██████████| 144/144 [00:38<00:00,  3.77it/s]\n",
      "train: c_loss = 1.034, c_acc = 0.406, acc = 0.208, hl_acc = 0.191| test: c_loss = 0.947, c_acc = 0.372, acc = 0.200, hl_acc = 0.179: 100%|██████████| 144/144 [00:38<00:00,  3.76it/s]\n"
     ]
    },
    {
     "name": "stdout",
     "output_type": "stream",
     "text": [
      "25\n",
      "../output/ReportModel/stochastic/1outOf10/log/train_log/LSTM_0.931325.txt \n",
      "\n",
      "0.384118, 0.372247, 0.199539, 0.178736\n"
     ]
    }
   ],
   "source": [
    "T_thresholds = [1, 0, 1, 1, 1]\n",
    "T_ranges = [10, 5, 5, 20, 30]\n",
    "\n",
    "T_thresholds = [1]\n",
    "T_ranges = [10]\n",
    "# T_thresholds = [1, 1]\n",
    "# T_ranges = [30, 20]\n",
    "for i in range(len(T_thresholds)):\n",
    "    model_arg[\"T_range\"] = T_ranges[i]\n",
    "    model_arg[\"T_threshold\"] = T_thresholds[i]\n",
    "    runner_arg[\"folder_path\"] = \"../output/ReportModel/stochastic/{}outOf{}/\".format(T_thresholds[i], T_ranges[i])\n",
    "    LSTM_model = LSTMOnGamma(env_arg, model_arg).to(DEVICE)\n",
    "    LSTM_runner = PytorchRunner(runner_arg=runner_arg)\n",
    "    LSTM_runner.modelInitialize(LSTM_model)\n",
    "    LSTM_runner.dataInitialize([X_input, agent_action, distance_map, source_map_position, source_map_position_index])\n",
    "    LSTM_runner.logDataInitialize([source_concentration, water_flow_force])\n",
    "    LSTM_runner.learn(num_epochs = 100, bsize = 100, shown = True)\n",
    "    print(\"{:3f}, {:3f}, {:3f}, {:3f}\".format(LSTM_runner.train_log.getCurrent('conditional_accuracy'), LSTM_runner.test_log.getCurrent('conditional_accuracy'), LSTM_runner.test_log.getCurrent('accuracy'), LSTM_runner.test_log.getCurrent('half_last_accuracy')))\n",
    "    "
   ]
  },
  {
   "cell_type": "code",
   "execution_count": null,
   "metadata": {},
   "outputs": [],
   "source": [
    "T_thresholds = [1, 0, 1, 1, 1]\n",
    "T_ranges = [10, 5, 5, 20, 30]\n",
    "\n",
    "T_thresholds = [1]\n",
    "T_ranges = [10]\n",
    "# T_thresholds = [1, 1]\n",
    "# T_ranges = [30, 20]\n",
    "for i in range(len(T_thresholds)):\n",
    "    model_arg[\"T_range\"] = T_ranges[i]\n",
    "    model_arg[\"T_threshold\"] = T_thresholds[i]\n",
    "    runner_arg[\"folder_path\"] = \"../output/ReportModel/stochastic/{}outOf{}/\".format(T_thresholds[i], T_ranges[i])\n",
    "    LSTM_model = LSTMPredict(env_arg, model_arg).to(DEVICE)\n",
    "    LSTM_runner = PytorchRunner(runner_arg=runner_arg)\n",
    "    LSTM_runner.modelInitialize(LSTM_model)\n",
    "    LSTM_runner.dataInitialize([X_input, agent_action, distance_map, source_map_position, source_map_position_index])\n",
    "    LSTM_runner.logDataInitialize([source_concentration, water_flow_force])\n",
    "    LSTM_runner.learn(num_epochs = 100, bsize = 100, shown = True)\n",
    "    print(\"{:3f}, {:3f}, {:3f}, {:3f}\".format(LSTM_runner.train_log.getCurrent('conditional_accuracy'), LSTM_runner.test_log.getCurrent('conditional_accuracy'), LSTM_runner.test_log.getCurrent('accuracy'), LSTM_runner.test_log.getCurrent('half_last_accuracy')))\n",
    "    "
   ]
  },
  {
   "cell_type": "code",
   "execution_count": 7,
   "metadata": {},
   "outputs": [
    {
     "name": "stdout",
     "output_type": "stream",
     "text": [
      "tensor(0.2921) tensor(0.8345)\n",
      "tensor(0.2902) tensor(0.8347)\n"
     ]
    },
    {
     "name": "stderr",
     "output_type": "stream",
     "text": [
      "train: c_loss = 1.176, c_acc = 0.237, acc = 0.115, hl_acc = 0.075| test: c_loss = 2.657, c_acc = 0.040, acc = 0.040, hl_acc = 0.041: 100%|██████████| 144/144 [00:53<00:00,  2.68it/s]\n",
      "train: c_loss = 1.081, c_acc = 0.290, acc = 0.172, hl_acc = 0.125| test: c_loss = 1.214, c_acc = 0.239, acc = 0.118, hl_acc = 0.081: 100%|██████████| 144/144 [00:55<00:00,  2.61it/s]\n",
      "train: c_loss = 1.213, c_acc = 0.281, acc = 0.166, hl_acc = 0.117| test: c_loss = 1.087, c_acc = 0.299, acc = 0.173, hl_acc = 0.131: 100%|██████████| 144/144 [00:53<00:00,  2.71it/s]\n",
      "train: c_loss = 1.013, c_acc = 0.322, acc = 0.168, hl_acc = 0.108| test: c_loss = 1.034, c_acc = 0.324, acc = 0.193, hl_acc = 0.151: 100%|██████████| 144/144 [00:54<00:00,  2.65it/s]\n",
      "train: c_loss = 0.968, c_acc = 0.350, acc = 0.203, hl_acc = 0.154| test: c_loss = 1.012, c_acc = 0.334, acc = 0.193, hl_acc = 0.149: 100%|██████████| 144/144 [00:54<00:00,  2.66it/s]\n",
      "train: c_loss = 0.972, c_acc = 0.353, acc = 0.201, hl_acc = 0.162| test: c_loss = 0.975, c_acc = 0.354, acc = 0.204, hl_acc = 0.158: 100%|██████████| 144/144 [00:54<00:00,  2.66it/s]\n",
      "train: c_loss = 1.055, c_acc = 0.356, acc = 0.234, hl_acc = 0.178| test: c_loss = 0.960, c_acc = 0.367, acc = 0.219, hl_acc = 0.174: 100%|██████████| 144/144 [00:54<00:00,  2.64it/s]\n",
      "train: c_loss = 0.914, c_acc = 0.388, acc = 0.218, hl_acc = 0.151| test: c_loss = 0.956, c_acc = 0.364, acc = 0.224, hl_acc = 0.179: 100%|██████████| 144/144 [00:53<00:00,  2.68it/s]\n",
      "train: c_loss = 0.904, c_acc = 0.382, acc = 0.224, hl_acc = 0.172| test: c_loss = 0.934, c_acc = 0.378, acc = 0.230, hl_acc = 0.183: 100%|██████████| 144/144 [00:53<00:00,  2.68it/s]\n",
      "train: c_loss = 0.839, c_acc = 0.423, acc = 0.261, hl_acc = 0.203| test: c_loss = 0.936, c_acc = 0.380, acc = 0.233, hl_acc = 0.186: 100%|██████████| 144/144 [00:53<00:00,  2.68it/s]\n",
      "train: c_loss = 1.046, c_acc = 0.364, acc = 0.248, hl_acc = 0.225| test: c_loss = 0.930, c_acc = 0.381, acc = 0.237, hl_acc = 0.190: 100%|██████████| 144/144 [00:53<00:00,  2.67it/s]\n",
      "train: c_loss = 0.976, c_acc = 0.340, acc = 0.217, hl_acc = 0.188| test: c_loss = 0.913, c_acc = 0.393, acc = 0.252, hl_acc = 0.204: 100%|██████████| 144/144 [00:53<00:00,  2.67it/s]\n",
      "train: c_loss = 0.903, c_acc = 0.405, acc = 0.236, hl_acc = 0.189| test: c_loss = 0.909, c_acc = 0.394, acc = 0.246, hl_acc = 0.199: 100%|██████████| 144/144 [00:53<00:00,  2.68it/s]\n",
      "train: c_loss = 0.831, c_acc = 0.423, acc = 0.269, hl_acc = 0.210| test: c_loss = 0.910, c_acc = 0.396, acc = 0.245, hl_acc = 0.195: 100%|██████████| 144/144 [00:53<00:00,  2.68it/s]\n",
      "train: c_loss = 0.924, c_acc = 0.390, acc = 0.263, hl_acc = 0.225| test: c_loss = 0.903, c_acc = 0.398, acc = 0.247, hl_acc = 0.197: 100%|██████████| 144/144 [00:52<00:00,  2.75it/s]\n",
      "train: c_loss = 0.961, c_acc = 0.393, acc = 0.241, hl_acc = 0.170| test: c_loss = 0.906, c_acc = 0.398, acc = 0.249, hl_acc = 0.200: 100%|██████████| 144/144 [00:52<00:00,  2.73it/s]\n",
      "train: c_loss = 0.865, c_acc = 0.393, acc = 0.237, hl_acc = 0.166| test: c_loss = 0.918, c_acc = 0.390, acc = 0.242, hl_acc = 0.191: 100%|██████████| 144/144 [00:51<00:00,  2.77it/s]\n",
      "train: c_loss = 0.992, c_acc = 0.342, acc = 0.213, hl_acc = 0.178| test: c_loss = 0.901, c_acc = 0.400, acc = 0.257, hl_acc = 0.209: 100%|██████████| 144/144 [00:53<00:00,  2.69it/s]\n",
      "train: c_loss = 0.910, c_acc = 0.398, acc = 0.232, hl_acc = 0.180| test: c_loss = 0.935, c_acc = 0.381, acc = 0.228, hl_acc = 0.181:  75%|███████▌  | 108/144 [00:40<00:13,  2.69it/s]\n"
     ]
    },
    {
     "ename": "KeyboardInterrupt",
     "evalue": "",
     "output_type": "error",
     "traceback": [
      "\u001b[1;31m---------------------------------------------------------------------------\u001b[0m",
      "\u001b[1;31mKeyboardInterrupt\u001b[0m                         Traceback (most recent call last)",
      "\u001b[1;32m<ipython-input-7-d13fe69daadb>\u001b[0m in \u001b[0;36m<module>\u001b[1;34m\u001b[0m\n\u001b[0;32m     15\u001b[0m     \u001b[0mLSTM_runner\u001b[0m\u001b[1;33m.\u001b[0m\u001b[0mdataInitialize\u001b[0m\u001b[1;33m(\u001b[0m\u001b[1;33m[\u001b[0m\u001b[0mX_input\u001b[0m\u001b[1;33m,\u001b[0m \u001b[0magent_action\u001b[0m\u001b[1;33m,\u001b[0m \u001b[0mdistance_map\u001b[0m\u001b[1;33m,\u001b[0m \u001b[0msource_map_position\u001b[0m\u001b[1;33m,\u001b[0m \u001b[0msource_map_position_index\u001b[0m\u001b[1;33m]\u001b[0m\u001b[1;33m)\u001b[0m\u001b[1;33m\u001b[0m\u001b[1;33m\u001b[0m\u001b[0m\n\u001b[0;32m     16\u001b[0m     \u001b[0mLSTM_runner\u001b[0m\u001b[1;33m.\u001b[0m\u001b[0mlogDataInitialize\u001b[0m\u001b[1;33m(\u001b[0m\u001b[1;33m[\u001b[0m\u001b[0msource_concentration\u001b[0m\u001b[1;33m,\u001b[0m \u001b[0mwater_flow_force\u001b[0m\u001b[1;33m]\u001b[0m\u001b[1;33m)\u001b[0m\u001b[1;33m\u001b[0m\u001b[1;33m\u001b[0m\u001b[0m\n\u001b[1;32m---> 17\u001b[1;33m     \u001b[0mLSTM_runner\u001b[0m\u001b[1;33m.\u001b[0m\u001b[0mlearn\u001b[0m\u001b[1;33m(\u001b[0m\u001b[0mnum_epochs\u001b[0m \u001b[1;33m=\u001b[0m \u001b[1;36m100\u001b[0m\u001b[1;33m,\u001b[0m \u001b[0mbsize\u001b[0m \u001b[1;33m=\u001b[0m \u001b[1;36m100\u001b[0m\u001b[1;33m,\u001b[0m \u001b[0mshown\u001b[0m \u001b[1;33m=\u001b[0m \u001b[1;32mTrue\u001b[0m\u001b[1;33m)\u001b[0m\u001b[1;33m\u001b[0m\u001b[1;33m\u001b[0m\u001b[0m\n\u001b[0m\u001b[0;32m     18\u001b[0m     \u001b[0mprint\u001b[0m\u001b[1;33m(\u001b[0m\u001b[1;34m\"{:3f}, {:3f}, {:3f}, {:3f}\"\u001b[0m\u001b[1;33m.\u001b[0m\u001b[0mformat\u001b[0m\u001b[1;33m(\u001b[0m\u001b[0mLSTM_runner\u001b[0m\u001b[1;33m.\u001b[0m\u001b[0mtrain_log\u001b[0m\u001b[1;33m.\u001b[0m\u001b[0mgetCurrent\u001b[0m\u001b[1;33m(\u001b[0m\u001b[1;34m'conditional_accuracy'\u001b[0m\u001b[1;33m)\u001b[0m\u001b[1;33m,\u001b[0m \u001b[0mLSTM_runner\u001b[0m\u001b[1;33m.\u001b[0m\u001b[0mtest_log\u001b[0m\u001b[1;33m.\u001b[0m\u001b[0mgetCurrent\u001b[0m\u001b[1;33m(\u001b[0m\u001b[1;34m'conditional_accuracy'\u001b[0m\u001b[1;33m)\u001b[0m\u001b[1;33m,\u001b[0m \u001b[0mLSTM_runner\u001b[0m\u001b[1;33m.\u001b[0m\u001b[0mtest_log\u001b[0m\u001b[1;33m.\u001b[0m\u001b[0mgetCurrent\u001b[0m\u001b[1;33m(\u001b[0m\u001b[1;34m'accuracy'\u001b[0m\u001b[1;33m)\u001b[0m\u001b[1;33m,\u001b[0m \u001b[0mLSTM_runner\u001b[0m\u001b[1;33m.\u001b[0m\u001b[0mtest_log\u001b[0m\u001b[1;33m.\u001b[0m\u001b[0mgetCurrent\u001b[0m\u001b[1;33m(\u001b[0m\u001b[1;34m'half_last_accuracy'\u001b[0m\u001b[1;33m)\u001b[0m\u001b[1;33m)\u001b[0m\u001b[1;33m)\u001b[0m\u001b[1;33m\u001b[0m\u001b[1;33m\u001b[0m\u001b[0m\n\u001b[0;32m     19\u001b[0m \u001b[1;33m\u001b[0m\u001b[0m\n",
      "\u001b[1;32md:\\lobsterproject\\new_project\\policy\\PytorchTraining.py\u001b[0m in \u001b[0;36mlearn\u001b[1;34m(self, num_epochs, max_patience, bsize, shown)\u001b[0m\n\u001b[0;32m    172\u001b[0m             \u001b[0mself\u001b[0m\u001b[1;33m.\u001b[0m\u001b[0mvalid\u001b[0m \u001b[1;33m=\u001b[0m \u001b[0mself\u001b[0m\u001b[1;33m.\u001b[0m\u001b[0mX_input_valid_final_train\u001b[0m\u001b[1;33m\u001b[0m\u001b[1;33m\u001b[0m\u001b[0m\n\u001b[0;32m    173\u001b[0m             \u001b[0mself\u001b[0m\u001b[1;33m.\u001b[0m\u001b[0mfull_valid\u001b[0m \u001b[1;33m=\u001b[0m \u001b[0mself\u001b[0m\u001b[1;33m.\u001b[0m\u001b[0mX_full_input_valid_final_train\u001b[0m\u001b[1;33m\u001b[0m\u001b[1;33m\u001b[0m\u001b[0m\n\u001b[1;32m--> 174\u001b[1;33m             \u001b[0mself\u001b[0m\u001b[1;33m.\u001b[0m\u001b[0mrunEp\u001b[0m\u001b[1;33m(\u001b[0m\u001b[0mself\u001b[0m\u001b[1;33m.\u001b[0m\u001b[0mtrain_data\u001b[0m\u001b[1;33m,\u001b[0m \u001b[0mlog\u001b[0m\u001b[1;33m=\u001b[0m\u001b[0mself\u001b[0m\u001b[1;33m.\u001b[0m\u001b[0mtrain_log\u001b[0m\u001b[1;33m,\u001b[0m \u001b[0mupdate\u001b[0m\u001b[1;33m=\u001b[0m\u001b[1;32mTrue\u001b[0m\u001b[1;33m,\u001b[0m \u001b[0mshown\u001b[0m\u001b[1;33m=\u001b[0m\u001b[0mshown\u001b[0m\u001b[1;33m)\u001b[0m\u001b[1;33m\u001b[0m\u001b[1;33m\u001b[0m\u001b[0m\n\u001b[0m\u001b[0;32m    175\u001b[0m \u001b[1;33m\u001b[0m\u001b[0m\n\u001b[0;32m    176\u001b[0m             \u001b[1;31m# early terminate\u001b[0m\u001b[1;33m\u001b[0m\u001b[1;33m\u001b[0m\u001b[1;33m\u001b[0m\u001b[0m\n",
      "\u001b[1;32md:\\lobsterproject\\new_project\\policy\\PytorchTraining.py\u001b[0m in \u001b[0;36mrunEp\u001b[1;34m(self, datas, log, update, shown)\u001b[0m\n\u001b[0;32m    248\u001b[0m             \u001b[0mself\u001b[0m\u001b[1;33m.\u001b[0m\u001b[0mX_full_input_valid\u001b[0m \u001b[1;33m=\u001b[0m \u001b[0mself\u001b[0m\u001b[1;33m.\u001b[0m\u001b[0mfull_valid\u001b[0m\u001b[1;33m[\u001b[0m\u001b[0msample_idx\u001b[0m\u001b[1;33m]\u001b[0m\u001b[1;33m.\u001b[0m\u001b[0mto\u001b[0m\u001b[1;33m(\u001b[0m\u001b[0mDEVICE\u001b[0m\u001b[1;33m)\u001b[0m\u001b[1;33m\u001b[0m\u001b[1;33m\u001b[0m\u001b[0m\n\u001b[0;32m    249\u001b[0m             \u001b[1;31m# gpu_usage()\u001b[0m\u001b[1;33m\u001b[0m\u001b[1;33m\u001b[0m\u001b[1;33m\u001b[0m\u001b[0m\n\u001b[1;32m--> 250\u001b[1;33m             \u001b[0moutputs\u001b[0m \u001b[1;33m=\u001b[0m \u001b[0mself\u001b[0m\u001b[1;33m.\u001b[0m\u001b[0mmodel\u001b[0m\u001b[1;33m(\u001b[0m\u001b[0mX_input\u001b[0m\u001b[1;33m,\u001b[0m \u001b[0magent_action\u001b[0m\u001b[1;33m.\u001b[0m\u001b[0mtype\u001b[0m\u001b[1;33m(\u001b[0m\u001b[0mtorch\u001b[0m\u001b[1;33m.\u001b[0m\u001b[0mlong\u001b[0m\u001b[1;33m)\u001b[0m\u001b[1;33m,\u001b[0m \u001b[0mget_all\u001b[0m\u001b[1;33m=\u001b[0m\u001b[1;32mTrue\u001b[0m\u001b[1;33m)\u001b[0m\u001b[1;33m\u001b[0m\u001b[1;33m\u001b[0m\u001b[0m\n\u001b[0m\u001b[0;32m    251\u001b[0m \u001b[1;33m\u001b[0m\u001b[0m\n\u001b[0;32m    252\u001b[0m             \u001b[0mloss\u001b[0m\u001b[1;33m,\u001b[0m \u001b[0maccuracy\u001b[0m \u001b[1;33m=\u001b[0m \u001b[0mself\u001b[0m\u001b[1;33m.\u001b[0m\u001b[0mcriterion\u001b[0m\u001b[1;33m(\u001b[0m\u001b[0moutputs\u001b[0m\u001b[1;33m,\u001b[0m \u001b[1;33m(\u001b[0m\u001b[0mdistance_map\u001b[0m\u001b[1;33m,\u001b[0m \u001b[0msource_map_pos\u001b[0m\u001b[1;33m,\u001b[0m \u001b[0msource_map_pos_index\u001b[0m\u001b[1;33m)\u001b[0m\u001b[1;33m)\u001b[0m\u001b[1;33m\u001b[0m\u001b[1;33m\u001b[0m\u001b[0m\n",
      "\u001b[1;32m~\\anaconda3\\lib\\site-packages\\torch\\nn\\modules\\module.py\u001b[0m in \u001b[0;36m_call_impl\u001b[1;34m(self, *input, **kwargs)\u001b[0m\n\u001b[0;32m    887\u001b[0m             \u001b[0mresult\u001b[0m \u001b[1;33m=\u001b[0m \u001b[0mself\u001b[0m\u001b[1;33m.\u001b[0m\u001b[0m_slow_forward\u001b[0m\u001b[1;33m(\u001b[0m\u001b[1;33m*\u001b[0m\u001b[0minput\u001b[0m\u001b[1;33m,\u001b[0m \u001b[1;33m**\u001b[0m\u001b[0mkwargs\u001b[0m\u001b[1;33m)\u001b[0m\u001b[1;33m\u001b[0m\u001b[1;33m\u001b[0m\u001b[0m\n\u001b[0;32m    888\u001b[0m         \u001b[1;32melse\u001b[0m\u001b[1;33m:\u001b[0m\u001b[1;33m\u001b[0m\u001b[1;33m\u001b[0m\u001b[0m\n\u001b[1;32m--> 889\u001b[1;33m             \u001b[0mresult\u001b[0m \u001b[1;33m=\u001b[0m \u001b[0mself\u001b[0m\u001b[1;33m.\u001b[0m\u001b[0mforward\u001b[0m\u001b[1;33m(\u001b[0m\u001b[1;33m*\u001b[0m\u001b[0minput\u001b[0m\u001b[1;33m,\u001b[0m \u001b[1;33m**\u001b[0m\u001b[0mkwargs\u001b[0m\u001b[1;33m)\u001b[0m\u001b[1;33m\u001b[0m\u001b[1;33m\u001b[0m\u001b[0m\n\u001b[0m\u001b[0;32m    890\u001b[0m         for hook in itertools.chain(\n\u001b[0;32m    891\u001b[0m                 \u001b[0m_global_forward_hooks\u001b[0m\u001b[1;33m.\u001b[0m\u001b[0mvalues\u001b[0m\u001b[1;33m(\u001b[0m\u001b[1;33m)\u001b[0m\u001b[1;33m,\u001b[0m\u001b[1;33m\u001b[0m\u001b[1;33m\u001b[0m\u001b[0m\n",
      "\u001b[1;32md:\\lobsterproject\\new_project\\network\\LSTMNet.py\u001b[0m in \u001b[0;36mforward\u001b[1;34m(self, obs, action, get_all)\u001b[0m\n\u001b[0;32m     75\u001b[0m             \u001b[0mcurrent_action\u001b[0m \u001b[1;33m=\u001b[0m \u001b[0maction\u001b[0m\u001b[1;33m[\u001b[0m\u001b[1;33m:\u001b[0m\u001b[1;33m,\u001b[0m \u001b[0mi_time_step\u001b[0m\u001b[1;33m:\u001b[0m\u001b[0mi_time_step\u001b[0m \u001b[1;33m+\u001b[0m \u001b[1;36m1\u001b[0m\u001b[1;33m]\u001b[0m  \u001b[1;31m# (bsize, 1, 1)\u001b[0m\u001b[1;33m\u001b[0m\u001b[1;33m\u001b[0m\u001b[0m\n\u001b[0;32m     76\u001b[0m \u001b[1;33m\u001b[0m\u001b[0m\n\u001b[1;32m---> 77\u001b[1;33m             self.prediction, self.hidden = self.lstm_net(current_obs.to(DEVICE), current_action.to(DEVICE),\n\u001b[0m\u001b[0;32m     78\u001b[0m                                                          self.hidden)  # (bsize, 5, 5)\n\u001b[0;32m     79\u001b[0m             \u001b[1;31m# print(torch.cuda.memory_allocated(0))\u001b[0m\u001b[1;33m\u001b[0m\u001b[1;33m\u001b[0m\u001b[1;33m\u001b[0m\u001b[0m\n",
      "\u001b[1;31mKeyboardInterrupt\u001b[0m: "
     ]
    }
   ],
   "source": [
    "T_thresholds = [1, 0, 1, 1, 1]\n",
    "T_ranges = [10, 5, 5, 20, 30]\n",
    "\n",
    "T_thresholds = [1]\n",
    "T_ranges = [10]\n",
    "# T_thresholds = [1, 1]\n",
    "# T_ranges = [30, 20]\n",
    "for i in range(len(T_thresholds)):\n",
    "    model_arg[\"T_range\"] = T_ranges[i]\n",
    "    model_arg[\"T_threshold\"] = T_thresholds[i]\n",
    "    runner_arg[\"folder_path\"] = \"../output/ReportModel/stochastic/{}outOf{}/\".format(T_thresholds[i], T_ranges[i])\n",
    "    LSTM_model = LSTMPredict(env_arg, model_arg).to(DEVICE)\n",
    "    LSTM_runner = PytorchRunner(runner_arg=runner_arg)\n",
    "    LSTM_runner.modelInitialize(LSTM_model)\n",
    "    LSTM_runner.dataInitialize([X_input, agent_action, distance_map, source_map_position, source_map_position_index])\n",
    "    LSTM_runner.logDataInitialize([source_concentration, water_flow_force])\n",
    "    LSTM_runner.learn(num_epochs = 100, bsize = 100, shown = True)\n",
    "    print(\"{:3f}, {:3f}, {:3f}, {:3f}\".format(LSTM_runner.train_log.getCurrent('conditional_accuracy'), LSTM_runner.test_log.getCurrent('conditional_accuracy'), LSTM_runner.test_log.getCurrent('accuracy'), LSTM_runner.test_log.getCurrent('half_last_accuracy')))\n",
    "    "
   ]
  },
  {
   "cell_type": "code",
   "execution_count": 8,
   "metadata": {},
   "outputs": [
    {
     "name": "stdout",
     "output_type": "stream",
     "text": [
      "../output/ReportModel/stochastic/1outOf10/log/train_log/LSTM_0.246335.txt \n",
      "\n"
     ]
    }
   ],
   "source": [
    "LSTM_runner.saveModel()"
   ]
  },
  {
   "cell_type": "code",
   "execution_count": 9,
   "metadata": {},
   "outputs": [
    {
     "name": "stdout",
     "output_type": "stream",
     "text": [
      "0.307540, 0.300878, 0.193734, 0.194857\n"
     ]
    }
   ],
   "source": [
    "print(\"{:3f}, {:3f}, {:3f}, {:3f}\".format(LSTM_runner.train_log.getCurrent('conditional_accuracy'), LSTM_runner.test_log.getCurrent('conditional_accuracy'), LSTM_runner.test_log.getCurrent('accuracy'), LSTM_runner.test_log.getCurrent('half_last_accuracy')))"
   ]
  },
  {
   "cell_type": "code",
   "execution_count": 9,
   "metadata": {},
   "outputs": [
    {
     "name": "stdout",
     "output_type": "stream",
     "text": [
      "0.168703\n",
      "0.168031\n",
      "0.168031\n"
     ]
    }
   ],
   "source": [
    "print(\"{:3f}, {:3f}, {:3f}\".format(LSTM_runner.train_log.getCurrent('accuracy'), LSTM_runner.test_log.getCurrent('accuracy'), LSTM_runner.test_log_nolimit.getCurrent('accuracy')))\n",
    "print(\"{:3f}\".format(LSTM_runner.train_log.getCurrent('accuracy')))\n",
    "print(\"{:3f}\".format(LSTM_runner.test_log.getCurrent('accuracy')))\n",
    "print(\"{:3f}\".format(LSTM_runner.test_log_nolimit.getCurrent('accuracy')))\n"
   ]
  },
  {
   "cell_type": "code",
   "execution_count": 10,
   "metadata": {},
   "outputs": [
    {
     "name": "stdout",
     "output_type": "stream",
     "text": [
      "1.291019\n",
      "1.293081\n",
      "1.293081\n"
     ]
    }
   ],
   "source": [
    "print(\"{:3f}\".format(LSTM_runner.train_log.getCurrent('loss')))\n",
    "print(\"{:3f}\".format(LSTM_runner.test_log.getCurrent('loss')))\n",
    "print(\"{:3f}\".format(LSTM_runner.test_log_nolimit.getCurrent('loss')))\n"
   ]
  },
  {
   "cell_type": "code",
   "execution_count": 4,
   "metadata": {},
   "outputs": [
    {
     "data": {
      "text/plain": [
       "torch.Size([10, 5])"
      ]
     },
     "execution_count": 4,
     "metadata": {},
     "output_type": "execute_result"
    }
   ],
   "source": [
    "import torch\n",
    "a = [ torch.ones(3, 5), torch.ones(3, 5), torch.ones(4, 5)]\n",
    "torch.cat(a, dim = 0).shape"
   ]
  },
  {
   "cell_type": "code",
   "execution_count": null,
   "metadata": {},
   "outputs": [],
   "source": [
    "T_thresholds = [1, 0, 1] #, 1, 1]\n",
    "T_ranges = [10, 5, 5] #, 20, 30]\n",
    "\n",
    "# T_thresholds = [1]\n",
    "# T_ranges = [10]\n",
    "k_taps = [5, 10] #, 15, 21]\n",
    "# T_thresholds = [1, 1]\n",
    "# T_ranges = [30, 20]\n",
    "\n",
    "model_arg[\"T_range\"] = 10\n",
    "model_arg[\"T_threshold\"] = 1\n",
    "# for i in range(len(T_thresholds)):\n",
    "for k_tap in k_taps:\n",
    "    # model_arg[\"T_range\"] = T_ranges[i]\n",
    "    # model_arg[\"T_threshold\"] = T_thresholds[i]\n",
    "    model_arg[\"k_tap\"] = k_tap\n",
    "    runner_arg[\"folder_path\"] = \"../output/ReportModel/stochastic/{}outOf{}/\".format(1, 10)\n",
    "    LSTM_model = LSTMOnGamma(env_arg, model_arg).to(DEVICE)\n",
    "    LSTM_runner = PytorchRunner(runner_arg=runner_arg)\n",
    "    LSTM_runner.modelInitialize(LSTM_model)\n",
    "    LSTM_runner.dataInitialize([X_input, agent_action, distance_map, source_map_position, source_map_position_index])\n",
    "    LSTM_runner.logDataInitialize([source_concentration, water_flow_force])\n",
    "    LSTM_runner.learn(num_epochs = 100, bsize = 100, shown = False)\n",
    "    print(\"{:3f}, {:3f}, {:3f}, {:3f}\".format(LSTM_runner.train_log.getCurrent('conditional_accuracy'), LSTM_runner.test_log.getCurrent('conditional_accuracy'), LSTM_runner.test_log.getCurrent('accuracy'), LSTM_runner.test_log.getCurrent('half_last_accuracy')))\n",
    "    "
   ]
  }
 ],
 "metadata": {
  "interpreter": {
   "hash": "2f329f37f787433c1df56b29cd79e40088fe5f8fc73e5de248e5bf86c97ff8a6"
  },
  "kernelspec": {
   "display_name": "PyCharm (odorSimulation)",
   "language": "python",
   "name": "pycharm-789226fa"
  },
  "language_info": {
   "codemirror_mode": {
    "name": "ipython",
    "version": 3
   },
   "file_extension": ".py",
   "mimetype": "text/x-python",
   "name": "python",
   "nbconvert_exporter": "python",
   "pygments_lexer": "ipython3",
   "version": "3.8.8"
  },
  "orig_nbformat": 4
 },
 "nbformat": 4,
 "nbformat_minor": 2
}
